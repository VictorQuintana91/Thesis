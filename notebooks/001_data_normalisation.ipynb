{
 "cells": [
  {
   "cell_type": "code",
   "execution_count": 2,
   "metadata": {},
   "outputs": [
    {
     "name": "stdout",
     "output_type": "stream",
     "text": [
      "0.12.1\n"
     ]
    }
   ],
   "source": [
    "import plotly \n",
    "import plotly.plotly as py\n",
    "from plotly.offline import download_plotlyjs, init_notebook_mode, plot, iplot\n",
    "import cufflinks as cf\n",
    "print(cf.__version__)\n",
    "# Configure cufflings \n",
    "cf.set_config_file(offline=False, world_readable=True, theme='pearl')"
   ]
  },
  {
   "cell_type": "code",
   "execution_count": 3,
   "metadata": {
    "collapsed": true
   },
   "outputs": [],
   "source": [
    "import nltk\n",
    "# nltk.download()\n",
    "# !pip install autocorrect\n",
    "from autocorrect import spell"
   ]
  },
  {
   "cell_type": "code",
   "execution_count": 4,
   "metadata": {
    "collapsed": true
   },
   "outputs": [],
   "source": [
    "import pandas as pd\n",
    "import numpy as np\n",
    "import gzip"
   ]
  },
  {
   "cell_type": "markdown",
   "metadata": {},
   "source": [
    "### Data Loading"
   ]
  },
  {
   "cell_type": "code",
   "execution_count": 5,
   "metadata": {
    "collapsed": true
   },
   "outputs": [],
   "source": [
    "def parse(path):\n",
    "  g = gzip.open(path, 'rb')\n",
    "  for l in g:\n",
    "    yield eval(l)"
   ]
  },
  {
   "cell_type": "code",
   "execution_count": 6,
   "metadata": {
    "collapsed": true
   },
   "outputs": [],
   "source": [
    "def getDF(path):\n",
    "  i = 0\n",
    "  df = {}\n",
    "  for d in parse(path):\n",
    "    df[i] = d\n",
    "    i += 1\n",
    "  return pd.DataFrame.from_dict(df, orient='index')"
   ]
  },
  {
   "cell_type": "code",
   "execution_count": 7,
   "metadata": {
    "collapsed": true
   },
   "outputs": [],
   "source": [
    "df = getDF('/Users/falehalrashidi/Downloads/reviews_Books_5.json.gz')"
   ]
  },
  {
   "cell_type": "code",
   "execution_count": 38,
   "metadata": {},
   "outputs": [
    {
     "data": {
      "text/html": [
       "<div>\n",
       "<style scoped>\n",
       "    .dataframe tbody tr th:only-of-type {\n",
       "        vertical-align: middle;\n",
       "    }\n",
       "\n",
       "    .dataframe tbody tr th {\n",
       "        vertical-align: top;\n",
       "    }\n",
       "\n",
       "    .dataframe thead th {\n",
       "        text-align: right;\n",
       "    }\n",
       "</style>\n",
       "<table border=\"1\" class=\"dataframe\">\n",
       "  <thead>\n",
       "    <tr style=\"text-align: right;\">\n",
       "      <th></th>\n",
       "      <th>reviewerID</th>\n",
       "      <th>asin</th>\n",
       "      <th>reviewerName</th>\n",
       "      <th>helpful</th>\n",
       "      <th>reviewText</th>\n",
       "      <th>overall</th>\n",
       "      <th>summary</th>\n",
       "      <th>unixReviewTime</th>\n",
       "      <th>reviewTime</th>\n",
       "    </tr>\n",
       "  </thead>\n",
       "  <tbody>\n",
       "    <tr>\n",
       "      <th>0</th>\n",
       "      <td>A10000012B7CGYKOMPQ4L</td>\n",
       "      <td>000100039X</td>\n",
       "      <td>Adam</td>\n",
       "      <td>[0, 0]</td>\n",
       "      <td>Spiritually and mentally inspiring! A book tha...</td>\n",
       "      <td>5.0</td>\n",
       "      <td>Wonderful!</td>\n",
       "      <td>1355616000</td>\n",
       "      <td>12 16, 2012</td>\n",
       "    </tr>\n",
       "    <tr>\n",
       "      <th>1</th>\n",
       "      <td>A2S166WSCFIFP5</td>\n",
       "      <td>000100039X</td>\n",
       "      <td>adead_poet@hotmail.com \"adead_poet@hotmail.com\"</td>\n",
       "      <td>[0, 2]</td>\n",
       "      <td>This is one my must have books. It is a master...</td>\n",
       "      <td>5.0</td>\n",
       "      <td>close to god</td>\n",
       "      <td>1071100800</td>\n",
       "      <td>12 11, 2003</td>\n",
       "    </tr>\n",
       "    <tr>\n",
       "      <th>2</th>\n",
       "      <td>A1BM81XB4QHOA3</td>\n",
       "      <td>000100039X</td>\n",
       "      <td>Ahoro Blethends \"Seriously\"</td>\n",
       "      <td>[0, 0]</td>\n",
       "      <td>This book provides a reflection that you can a...</td>\n",
       "      <td>5.0</td>\n",
       "      <td>Must Read for Life Afficianados</td>\n",
       "      <td>1390003200</td>\n",
       "      <td>01 18, 2014</td>\n",
       "    </tr>\n",
       "    <tr>\n",
       "      <th>3</th>\n",
       "      <td>A1MOSTXNIO5MPJ</td>\n",
       "      <td>000100039X</td>\n",
       "      <td>Alan Krug</td>\n",
       "      <td>[0, 0]</td>\n",
       "      <td>I first read THE PROPHET in college back in th...</td>\n",
       "      <td>5.0</td>\n",
       "      <td>Timeless for every good and bad time in your l...</td>\n",
       "      <td>1317081600</td>\n",
       "      <td>09 27, 2011</td>\n",
       "    </tr>\n",
       "    <tr>\n",
       "      <th>4</th>\n",
       "      <td>A2XQ5LZHTD4AFT</td>\n",
       "      <td>000100039X</td>\n",
       "      <td>Alaturka</td>\n",
       "      <td>[7, 9]</td>\n",
       "      <td>A timeless classic.  It is a very demanding an...</td>\n",
       "      <td>5.0</td>\n",
       "      <td>A Modern Rumi</td>\n",
       "      <td>1033948800</td>\n",
       "      <td>10 7, 2002</td>\n",
       "    </tr>\n",
       "  </tbody>\n",
       "</table>\n",
       "</div>"
      ],
      "text/plain": [
       "              reviewerID        asin  \\\n",
       "0  A10000012B7CGYKOMPQ4L  000100039X   \n",
       "1         A2S166WSCFIFP5  000100039X   \n",
       "2         A1BM81XB4QHOA3  000100039X   \n",
       "3         A1MOSTXNIO5MPJ  000100039X   \n",
       "4         A2XQ5LZHTD4AFT  000100039X   \n",
       "\n",
       "                                      reviewerName helpful  \\\n",
       "0                                             Adam  [0, 0]   \n",
       "1  adead_poet@hotmail.com \"adead_poet@hotmail.com\"  [0, 2]   \n",
       "2                      Ahoro Blethends \"Seriously\"  [0, 0]   \n",
       "3                                        Alan Krug  [0, 0]   \n",
       "4                                         Alaturka  [7, 9]   \n",
       "\n",
       "                                          reviewText  overall  \\\n",
       "0  Spiritually and mentally inspiring! A book tha...      5.0   \n",
       "1  This is one my must have books. It is a master...      5.0   \n",
       "2  This book provides a reflection that you can a...      5.0   \n",
       "3  I first read THE PROPHET in college back in th...      5.0   \n",
       "4  A timeless classic.  It is a very demanding an...      5.0   \n",
       "\n",
       "                                             summary  unixReviewTime  \\\n",
       "0                                         Wonderful!      1355616000   \n",
       "1                                       close to god      1071100800   \n",
       "2                    Must Read for Life Afficianados      1390003200   \n",
       "3  Timeless for every good and bad time in your l...      1317081600   \n",
       "4                                      A Modern Rumi      1033948800   \n",
       "\n",
       "    reviewTime  \n",
       "0  12 16, 2012  \n",
       "1  12 11, 2003  \n",
       "2  01 18, 2014  \n",
       "3  09 27, 2011  \n",
       "4   10 7, 2002  "
      ]
     },
     "execution_count": 38,
     "metadata": {},
     "output_type": "execute_result"
    }
   ],
   "source": [
    "df.head()"
   ]
  },
  {
   "cell_type": "code",
   "execution_count": 39,
   "metadata": {
    "collapsed": true
   },
   "outputs": [],
   "source": [
    "df1 = df[['reviewerID','asin','reviewText','helpful']]"
   ]
  },
  {
   "cell_type": "code",
   "execution_count": 40,
   "metadata": {},
   "outputs": [
    {
     "data": {
      "text/html": [
       "<div>\n",
       "<style scoped>\n",
       "    .dataframe tbody tr th:only-of-type {\n",
       "        vertical-align: middle;\n",
       "    }\n",
       "\n",
       "    .dataframe tbody tr th {\n",
       "        vertical-align: top;\n",
       "    }\n",
       "\n",
       "    .dataframe thead th {\n",
       "        text-align: right;\n",
       "    }\n",
       "</style>\n",
       "<table border=\"1\" class=\"dataframe\">\n",
       "  <thead>\n",
       "    <tr style=\"text-align: right;\">\n",
       "      <th></th>\n",
       "      <th>reviewerID</th>\n",
       "      <th>asin</th>\n",
       "      <th>reviewText</th>\n",
       "      <th>helpful</th>\n",
       "    </tr>\n",
       "  </thead>\n",
       "  <tbody>\n",
       "    <tr>\n",
       "      <th>0</th>\n",
       "      <td>A10000012B7CGYKOMPQ4L</td>\n",
       "      <td>000100039X</td>\n",
       "      <td>Spiritually and mentally inspiring! A book tha...</td>\n",
       "      <td>[0, 0]</td>\n",
       "    </tr>\n",
       "    <tr>\n",
       "      <th>1</th>\n",
       "      <td>A2S166WSCFIFP5</td>\n",
       "      <td>000100039X</td>\n",
       "      <td>This is one my must have books. It is a master...</td>\n",
       "      <td>[0, 2]</td>\n",
       "    </tr>\n",
       "    <tr>\n",
       "      <th>2</th>\n",
       "      <td>A1BM81XB4QHOA3</td>\n",
       "      <td>000100039X</td>\n",
       "      <td>This book provides a reflection that you can a...</td>\n",
       "      <td>[0, 0]</td>\n",
       "    </tr>\n",
       "    <tr>\n",
       "      <th>3</th>\n",
       "      <td>A1MOSTXNIO5MPJ</td>\n",
       "      <td>000100039X</td>\n",
       "      <td>I first read THE PROPHET in college back in th...</td>\n",
       "      <td>[0, 0]</td>\n",
       "    </tr>\n",
       "    <tr>\n",
       "      <th>4</th>\n",
       "      <td>A2XQ5LZHTD4AFT</td>\n",
       "      <td>000100039X</td>\n",
       "      <td>A timeless classic.  It is a very demanding an...</td>\n",
       "      <td>[7, 9]</td>\n",
       "    </tr>\n",
       "  </tbody>\n",
       "</table>\n",
       "</div>"
      ],
      "text/plain": [
       "              reviewerID        asin  \\\n",
       "0  A10000012B7CGYKOMPQ4L  000100039X   \n",
       "1         A2S166WSCFIFP5  000100039X   \n",
       "2         A1BM81XB4QHOA3  000100039X   \n",
       "3         A1MOSTXNIO5MPJ  000100039X   \n",
       "4         A2XQ5LZHTD4AFT  000100039X   \n",
       "\n",
       "                                          reviewText helpful  \n",
       "0  Spiritually and mentally inspiring! A book tha...  [0, 0]  \n",
       "1  This is one my must have books. It is a master...  [0, 2]  \n",
       "2  This book provides a reflection that you can a...  [0, 0]  \n",
       "3  I first read THE PROPHET in college back in th...  [0, 0]  \n",
       "4  A timeless classic.  It is a very demanding an...  [7, 9]  "
      ]
     },
     "execution_count": 40,
     "metadata": {},
     "output_type": "execute_result"
    }
   ],
   "source": [
    "df1.head()"
   ]
  },
  {
   "cell_type": "code",
   "execution_count": 41,
   "metadata": {
    "collapsed": true
   },
   "outputs": [],
   "source": [
    "# Create new Column for the denominator\n",
    "df2 = df1.assign(denom = df1['helpful'].apply(lambda enum_denom:enum_denom[1]))"
   ]
  },
  {
   "cell_type": "code",
   "execution_count": 42,
   "metadata": {},
   "outputs": [
    {
     "data": {
      "text/plain": [
       "713836"
      ]
     },
     "execution_count": 42,
     "metadata": {},
     "output_type": "execute_result"
    }
   ],
   "source": [
    "# Focus on reviews with at least 10 ratings on helpfulness\n",
    "df3 = df2.loc[df2['denom'] > 10]\n",
    "len(df3)"
   ]
  },
  {
   "cell_type": "code",
   "execution_count": 43,
   "metadata": {},
   "outputs": [
    {
     "data": {
      "text/html": [
       "<div>\n",
       "<style scoped>\n",
       "    .dataframe tbody tr th:only-of-type {\n",
       "        vertical-align: middle;\n",
       "    }\n",
       "\n",
       "    .dataframe tbody tr th {\n",
       "        vertical-align: top;\n",
       "    }\n",
       "\n",
       "    .dataframe thead th {\n",
       "        text-align: right;\n",
       "    }\n",
       "</style>\n",
       "<table border=\"1\" class=\"dataframe\">\n",
       "  <thead>\n",
       "    <tr style=\"text-align: right;\">\n",
       "      <th></th>\n",
       "      <th>reviewerID</th>\n",
       "      <th>asin</th>\n",
       "      <th>reviewText</th>\n",
       "    </tr>\n",
       "  </thead>\n",
       "  <tbody>\n",
       "    <tr>\n",
       "      <th>0</th>\n",
       "      <td>A1NPNGWBVD9AK3</td>\n",
       "      <td>000100039X</td>\n",
       "      <td>This is one of the first (literary) books I re...</td>\n",
       "    </tr>\n",
       "    <tr>\n",
       "      <th>1</th>\n",
       "      <td>A1SP45I55GQIIE</td>\n",
       "      <td>000100039X</td>\n",
       "      <td>Certainly the words are of Kahlil Gibran, but ...</td>\n",
       "    </tr>\n",
       "    <tr>\n",
       "      <th>2</th>\n",
       "      <td>A2ZB1G1KUE6OS6</td>\n",
       "      <td>000100039X</td>\n",
       "      <td>I evidently misread the writeup, I thought it ...</td>\n",
       "    </tr>\n",
       "    <tr>\n",
       "      <th>3</th>\n",
       "      <td>ATAPOART4QGVO</td>\n",
       "      <td>000100039X</td>\n",
       "      <td>Maybe I just wasn't in the right mood for a he...</td>\n",
       "    </tr>\n",
       "    <tr>\n",
       "      <th>4</th>\n",
       "      <td>A2052JNVUPRTMT</td>\n",
       "      <td>000100039X</td>\n",
       "      <td>Gibran gets right down to the bedrock of what ...</td>\n",
       "    </tr>\n",
       "  </tbody>\n",
       "</table>\n",
       "</div>"
      ],
      "text/plain": [
       "       reviewerID        asin  \\\n",
       "0  A1NPNGWBVD9AK3  000100039X   \n",
       "1  A1SP45I55GQIIE  000100039X   \n",
       "2  A2ZB1G1KUE6OS6  000100039X   \n",
       "3   ATAPOART4QGVO  000100039X   \n",
       "4  A2052JNVUPRTMT  000100039X   \n",
       "\n",
       "                                          reviewText  \n",
       "0  This is one of the first (literary) books I re...  \n",
       "1  Certainly the words are of Kahlil Gibran, but ...  \n",
       "2  I evidently misread the writeup, I thought it ...  \n",
       "3  Maybe I just wasn't in the right mood for a he...  \n",
       "4  Gibran gets right down to the bedrock of what ...  "
      ]
     },
     "execution_count": 43,
     "metadata": {},
     "output_type": "execute_result"
    }
   ],
   "source": [
    "# Drop unnecessary columns & reset index\n",
    "df4 = df3.drop(columns=['helpful','denom'])\n",
    "df4 = df4.reset_index().drop(columns=['index'])\n",
    "df4.head()"
   ]
  },
  {
   "cell_type": "markdown",
   "metadata": {},
   "source": [
    "### Data Normalisation - Phase 1\n",
    "* Tokenize all reviews & convert all tokens to lowecase.\n",
    "* Eliminate punctuation. \n",
    "* Changing numbers into words. \n",
    "* Expanding abbreviations. \n",
    "* Canonicalisation of text. "
   ]
  },
  {
   "cell_type": "code",
   "execution_count": 44,
   "metadata": {},
   "outputs": [
    {
     "ename": "KeyError",
     "evalue": "'[\"This is one of the first (literary) books I recall reading. My mother kept a collection of Gibran\\'s works that she often read. I was curious to see what attracted her, so I looked into them too ( I was either eight or nine  at the time). I believe that was my first taste of spirituality and seemed  at the time more relevant than what I was being force-fed by nuns in  catechism class. Rereading Gibran now, I\\'m struck by the notion that Hesse  must have been aware of these texts before he wrote Siddhartha. They  contain many of the same themes: No one else can guide you on your path.  You must select your own course. Preachers and prophets are a dime a dozen.  True wisdom comes from within.The prophet\\'s teaching on love is  particularly relevant to me at this stage of my life:&quot;For even as  love crowns you so shall he crucify you. Even as he is for your growth so  is he for your pruning. Even as he ascends to your height and caresses your  tenderest branches that quiver in the sun, So shall he descend to your  roots and shake them in their clinging to the earth. Like sheaves of corn  he gathers you unto himself. He threshes you to make you naked. He sifts  you to free you from your husks. He grinds you to whiteness. He kneads you  until you are pliant; And then he assigns you to his sacred fire, that you  may become sacred bread for God\\'s sacred feast.&quot;Look into these  books. They may appear simplistic to the jaundiced eye, but they may also  provide the inspiration you need to see you through life\\'s travails.\"\\n \"Certainly the words are of Kahlil Gibran, but the eternally PRESENT divine wisdom told through his words is from the source of all sources. Only those who are ready to receive the divine wisdom are destined to read and know the meaning behind the meanings of his words. This is one of the five most valued books that I keep on refering again and again for solace and peace of MYSELF.While writing - or rather while being an instrument to write this book - Kahlil Gibran must have reached the original source of all the knowledge and wisdom available to humankind.Gibran\\'s book is music, poetry, wisdom and truth - all at the same time!I salute Kahlil Gibran for giving us the &quot;THE PROPHET&quot;.\"\\n \"I evidently misread the writeup, I thought it was a hardback.  It was a cheap paperback.  I got it as a present so I couldn\\'t send it back but I\\'m very dissapointed for the cost!\"\\n ...\\n \"First of all, this book was very well written and did an amazing job telling a heart wrenching story, and I really mean heart wrenching. After the first chapter of this book, I actually considered putting it down and walking away from it; I was that heartbroken. If an author, co-authors in this case, can write something so wonderful that you actually feel the emotions of the characters, they have a rare talent. It is a beautiful story of real heartbreak, real life experiences, and an honest to goodness second chance where it isn\\'t expected. I loved the character development with the main character\\'s mother; I have a couple of favorite scenes and both involve her, she had that much development. I would have loved a little more of their second chance at love, but I haven\\'t found an HM Ward book that I don\\'t want a continuation to, for me it is just expected. Overall it is an amazing story that everyone should take a second to read, well a few hours since it is a novel. :)\"\\n \"This book was absolutely perfect! Second Chances pulled at my heart strings and had me ugly crying before I made it past the first chapter.Genevieve (Gen) and Cade were high school sweethearts, first loves, everything to each other. They were so happy until the unthinkable happened and he didn\\'t make it back from the war. Gen felt grief like no other. Devastated that Cade didn\\'t even know she was pregnant with the child they had longed for for so many years.Two years pass and she doesn\\'t know how to move on. Her entire life centers around her young son, CJ, who is the spitting image of his father. Her family and friends keep pushing her to date and find someone. Gen finally gives into the pressure from her friends and goes out to a bar. She is saved from a drunken man by Daniel, her &#34;lawn boy&#34;. Only he\\'s no longer a boy, but a hot man.Daniel is 10 years younger than Gen, but he is everything a man should be. He not only takes care of her yard, but he is always there to help take care of her and CJ too. Why has Gen never noticed this before? Gen has a hard time letting Cade go,but she is having feelings she hasn\\'t felt in so long. Gen\\'s insecurities and the pressure from her mother have her questioning just why someone like Dan would be interested in her. She doesn\\'t know if she\\'ll ever get her second chance at love.You must read this touching book about loss, love, healing and discovering you can love again. Holly and Stacey did an amazing job on this book. I hope we get more collaboration from them in the future!\"\\n \"I loved that I honestly really had no clue what this book was about going into it. The synopsis is so mysterious and I love that! Too many times we read a book with seeing so many teasers and spoilers going into it that there\\'s no element of surprise. Well, this one surprised me. For sure.It\\'s panty-melting, heart racing, wild and crazy ride is one that I got sucked into and couldn\\'t stop reading. Be prepared to fall in love and swoon because this erotic quickie is definitely sexy, saucy, and oh so yummy.I loved Amelia\\'s character and how she could be sweet but feisty. I found the entire book so beyond enjoyable there are really no other words.And can I just say that the duo of SE Hall and Angela Graham is truly one to watch? Their talent alone is incredible and put them together and only greatness is written. One click this one - you won\\'t be disappointed!\"] not in index'",
     "output_type": "error",
     "traceback": [
      "\u001b[0;31m---------------------------------------------------------------------------\u001b[0m",
      "\u001b[0;31mKeyError\u001b[0m                                  Traceback (most recent call last)",
      "\u001b[0;32m<ipython-input-44-a2ee1dc7a45a>\u001b[0m in \u001b[0;36m<module>\u001b[0;34m()\u001b[0m\n\u001b[0;32m----> 1\u001b[0;31m \u001b[0mdf4\u001b[0m\u001b[0;34m.\u001b[0m\u001b[0mloc\u001b[0m\u001b[0;34m[\u001b[0m\u001b[0mdf4\u001b[0m\u001b[0;34m[\u001b[0m\u001b[0;34m'reviewText'\u001b[0m\u001b[0;34m]\u001b[0m\u001b[0;34m]\u001b[0m \u001b[0;34m=\u001b[0m \u001b[0mdf4\u001b[0m\u001b[0;34m[\u001b[0m\u001b[0;34m'reviewText'\u001b[0m\u001b[0;34m]\u001b[0m\u001b[0;34m.\u001b[0m\u001b[0mapply\u001b[0m\u001b[0;34m(\u001b[0m\u001b[0;32mlambda\u001b[0m \u001b[0mreview\u001b[0m\u001b[0;34m:\u001b[0m \u001b[0mnltk\u001b[0m\u001b[0;34m.\u001b[0m\u001b[0mword_tokenize\u001b[0m\u001b[0;34m(\u001b[0m\u001b[0mreview\u001b[0m\u001b[0;34m)\u001b[0m\u001b[0;34m)\u001b[0m\u001b[0;34m\u001b[0m\u001b[0m\n\u001b[0m",
      "\u001b[0;32m~/anaconda3/lib/python3.6/site-packages/pandas/core/indexing.py\u001b[0m in \u001b[0;36m__setitem__\u001b[0;34m(self, key, value)\u001b[0m\n\u001b[1;32m    191\u001b[0m         \u001b[0;32melse\u001b[0m\u001b[0;34m:\u001b[0m\u001b[0;34m\u001b[0m\u001b[0m\n\u001b[1;32m    192\u001b[0m             \u001b[0mkey\u001b[0m \u001b[0;34m=\u001b[0m \u001b[0mcom\u001b[0m\u001b[0;34m.\u001b[0m\u001b[0m_apply_if_callable\u001b[0m\u001b[0;34m(\u001b[0m\u001b[0mkey\u001b[0m\u001b[0;34m,\u001b[0m \u001b[0mself\u001b[0m\u001b[0;34m.\u001b[0m\u001b[0mobj\u001b[0m\u001b[0;34m)\u001b[0m\u001b[0;34m\u001b[0m\u001b[0m\n\u001b[0;32m--> 193\u001b[0;31m         \u001b[0mindexer\u001b[0m \u001b[0;34m=\u001b[0m \u001b[0mself\u001b[0m\u001b[0;34m.\u001b[0m\u001b[0m_get_setitem_indexer\u001b[0m\u001b[0;34m(\u001b[0m\u001b[0mkey\u001b[0m\u001b[0;34m)\u001b[0m\u001b[0;34m\u001b[0m\u001b[0m\n\u001b[0m\u001b[1;32m    194\u001b[0m         \u001b[0mself\u001b[0m\u001b[0;34m.\u001b[0m\u001b[0m_setitem_with_indexer\u001b[0m\u001b[0;34m(\u001b[0m\u001b[0mindexer\u001b[0m\u001b[0;34m,\u001b[0m \u001b[0mvalue\u001b[0m\u001b[0;34m)\u001b[0m\u001b[0;34m\u001b[0m\u001b[0m\n\u001b[1;32m    195\u001b[0m \u001b[0;34m\u001b[0m\u001b[0m\n",
      "\u001b[0;32m~/anaconda3/lib/python3.6/site-packages/pandas/core/indexing.py\u001b[0m in \u001b[0;36m_get_setitem_indexer\u001b[0;34m(self, key)\u001b[0m\n\u001b[1;32m    177\u001b[0m \u001b[0;34m\u001b[0m\u001b[0m\n\u001b[1;32m    178\u001b[0m         \u001b[0;32mtry\u001b[0m\u001b[0;34m:\u001b[0m\u001b[0;34m\u001b[0m\u001b[0m\n\u001b[0;32m--> 179\u001b[0;31m             \u001b[0;32mreturn\u001b[0m \u001b[0mself\u001b[0m\u001b[0;34m.\u001b[0m\u001b[0m_convert_to_indexer\u001b[0m\u001b[0;34m(\u001b[0m\u001b[0mkey\u001b[0m\u001b[0;34m,\u001b[0m \u001b[0mis_setter\u001b[0m\u001b[0;34m=\u001b[0m\u001b[0;32mTrue\u001b[0m\u001b[0;34m)\u001b[0m\u001b[0;34m\u001b[0m\u001b[0m\n\u001b[0m\u001b[1;32m    180\u001b[0m         \u001b[0;32mexcept\u001b[0m \u001b[0mTypeError\u001b[0m \u001b[0;32mas\u001b[0m \u001b[0me\u001b[0m\u001b[0;34m:\u001b[0m\u001b[0;34m\u001b[0m\u001b[0m\n\u001b[1;32m    181\u001b[0m \u001b[0;34m\u001b[0m\u001b[0m\n",
      "\u001b[0;32m~/anaconda3/lib/python3.6/site-packages/pandas/core/indexing.py\u001b[0m in \u001b[0;36m_convert_to_indexer\u001b[0;34m(self, obj, axis, is_setter)\u001b[0m\n\u001b[1;32m   1267\u001b[0m                 \u001b[0;32mif\u001b[0m \u001b[0mmask\u001b[0m\u001b[0;34m.\u001b[0m\u001b[0many\u001b[0m\u001b[0;34m(\u001b[0m\u001b[0;34m)\u001b[0m\u001b[0;34m:\u001b[0m\u001b[0;34m\u001b[0m\u001b[0m\n\u001b[1;32m   1268\u001b[0m                     raise KeyError('{mask} not in index'\n\u001b[0;32m-> 1269\u001b[0;31m                                    .format(mask=objarr[mask]))\n\u001b[0m\u001b[1;32m   1270\u001b[0m \u001b[0;34m\u001b[0m\u001b[0m\n\u001b[1;32m   1271\u001b[0m                 \u001b[0;32mreturn\u001b[0m \u001b[0m_values_from_object\u001b[0m\u001b[0;34m(\u001b[0m\u001b[0mindexer\u001b[0m\u001b[0;34m)\u001b[0m\u001b[0;34m\u001b[0m\u001b[0m\n",
      "\u001b[0;31mKeyError\u001b[0m: '[\"This is one of the first (literary) books I recall reading. My mother kept a collection of Gibran\\'s works that she often read. I was curious to see what attracted her, so I looked into them too ( I was either eight or nine  at the time). I believe that was my first taste of spirituality and seemed  at the time more relevant than what I was being force-fed by nuns in  catechism class. Rereading Gibran now, I\\'m struck by the notion that Hesse  must have been aware of these texts before he wrote Siddhartha. They  contain many of the same themes: No one else can guide you on your path.  You must select your own course. Preachers and prophets are a dime a dozen.  True wisdom comes from within.The prophet\\'s teaching on love is  particularly relevant to me at this stage of my life:&quot;For even as  love crowns you so shall he crucify you. Even as he is for your growth so  is he for your pruning. Even as he ascends to your height and caresses your  tenderest branches that quiver in the sun, So shall he descend to your  roots and shake them in their clinging to the earth. Like sheaves of corn  he gathers you unto himself. He threshes you to make you naked. He sifts  you to free you from your husks. He grinds you to whiteness. He kneads you  until you are pliant; And then he assigns you to his sacred fire, that you  may become sacred bread for God\\'s sacred feast.&quot;Look into these  books. They may appear simplistic to the jaundiced eye, but they may also  provide the inspiration you need to see you through life\\'s travails.\"\\n \"Certainly the words are of Kahlil Gibran, but the eternally PRESENT divine wisdom told through his words is from the source of all sources. Only those who are ready to receive the divine wisdom are destined to read and know the meaning behind the meanings of his words. This is one of the five most valued books that I keep on refering again and again for solace and peace of MYSELF.While writing - or rather while being an instrument to write this book - Kahlil Gibran must have reached the original source of all the knowledge and wisdom available to humankind.Gibran\\'s book is music, poetry, wisdom and truth - all at the same time!I salute Kahlil Gibran for giving us the &quot;THE PROPHET&quot;.\"\\n \"I evidently misread the writeup, I thought it was a hardback.  It was a cheap paperback.  I got it as a present so I couldn\\'t send it back but I\\'m very dissapointed for the cost!\"\\n ...\\n \"First of all, this book was very well written and did an amazing job telling a heart wrenching story, and I really mean heart wrenching. After the first chapter of this book, I actually considered putting it down and walking away from it; I was that heartbroken. If an author, co-authors in this case, can write something so wonderful that you actually feel the emotions of the characters, they have a rare talent. It is a beautiful story of real heartbreak, real life experiences, and an honest to goodness second chance where it isn\\'t expected. I loved the character development with the main character\\'s mother; I have a couple of favorite scenes and both involve her, she had that much development. I would have loved a little more of their second chance at love, but I haven\\'t found an HM Ward book that I don\\'t want a continuation to, for me it is just expected. Overall it is an amazing story that everyone should take a second to read, well a few hours since it is a novel. :)\"\\n \"This book was absolutely perfect! Second Chances pulled at my heart strings and had me ugly crying before I made it past the first chapter.Genevieve (Gen) and Cade were high school sweethearts, first loves, everything to each other. They were so happy until the unthinkable happened and he didn\\'t make it back from the war. Gen felt grief like no other. Devastated that Cade didn\\'t even know she was pregnant with the child they had longed for for so many years.Two years pass and she doesn\\'t know how to move on. Her entire life centers around her young son, CJ, who is the spitting image of his father. Her family and friends keep pushing her to date and find someone. Gen finally gives into the pressure from her friends and goes out to a bar. She is saved from a drunken man by Daniel, her &#34;lawn boy&#34;. Only he\\'s no longer a boy, but a hot man.Daniel is 10 years younger than Gen, but he is everything a man should be. He not only takes care of her yard, but he is always there to help take care of her and CJ too. Why has Gen never noticed this before? Gen has a hard time letting Cade go,but she is having feelings she hasn\\'t felt in so long. Gen\\'s insecurities and the pressure from her mother have her questioning just why someone like Dan would be interested in her. She doesn\\'t know if she\\'ll ever get her second chance at love.You must read this touching book about loss, love, healing and discovering you can love again. Holly and Stacey did an amazing job on this book. I hope we get more collaboration from them in the future!\"\\n \"I loved that I honestly really had no clue what this book was about going into it. The synopsis is so mysterious and I love that! Too many times we read a book with seeing so many teasers and spoilers going into it that there\\'s no element of surprise. Well, this one surprised me. For sure.It\\'s panty-melting, heart racing, wild and crazy ride is one that I got sucked into and couldn\\'t stop reading. Be prepared to fall in love and swoon because this erotic quickie is definitely sexy, saucy, and oh so yummy.I loved Amelia\\'s character and how she could be sweet but feisty. I found the entire book so beyond enjoyable there are really no other words.And can I just say that the duo of SE Hall and Angela Graham is truly one to watch? Their talent alone is incredible and put them together and only greatness is written. One click this one - you won\\'t be disappointed!\"] not in index'"
     ]
    }
   ],
   "source": [
    "df4.loc[df4['reviewText']] = df4['reviewText'].apply(lambda review: nltk.word_tokenize(review))"
   ]
  },
  {
   "cell_type": "code",
   "execution_count": null,
   "metadata": {
    "collapsed": true
   },
   "outputs": [],
   "source": [
    "import re\n",
    "import string\n",
    "\n",
    "def eliminate_punctuation(review, regex):\n",
    "    new_review = []\n",
    "    for token in review:\n",
    "        new_token = regex.sub(u'', token)\n",
    "        if not new_token == u'':\n",
    "            new_review.append(new_token)\n",
    "    return new_review"
   ]
  },
  {
   "cell_type": "code",
   "execution_count": null,
   "metadata": {
    "collapsed": true
   },
   "outputs": [],
   "source": [
    "regex=re.compile('[%s]' % re.escape(string.punctuation))\n",
    "df4.loc[df1['reviewText']] = df4['reviewText'].apply(lambda review: eliminate_punctuation(review, regex))"
   ]
  },
  {
   "cell_type": "code",
   "execution_count": null,
   "metadata": {
    "collapsed": true
   },
   "outputs": [],
   "source": []
  }
 ],
 "metadata": {
  "kernelspec": {
   "display_name": "Python 3",
   "language": "python",
   "name": "python3"
  },
  "language_info": {
   "codemirror_mode": {
    "name": "ipython",
    "version": 3
   },
   "file_extension": ".py",
   "mimetype": "text/x-python",
   "name": "python",
   "nbconvert_exporter": "python",
   "pygments_lexer": "ipython3",
   "version": "3.6.2"
  }
 },
 "nbformat": 4,
 "nbformat_minor": 2
}
