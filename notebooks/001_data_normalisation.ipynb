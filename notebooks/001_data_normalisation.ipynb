{
 "cells": [
  {
   "cell_type": "code",
   "execution_count": 2,
   "metadata": {},
   "outputs": [
    {
     "name": "stdout",
     "output_type": "stream",
     "text": [
      "0.12.1\n"
     ]
    }
   ],
   "source": [
    "import plotly \n",
    "import plotly.plotly as py\n",
    "from plotly.offline import download_plotlyjs, init_notebook_mode, plot, iplot\n",
    "import cufflinks as cf\n",
    "print(cf.__version__)\n",
    "# Configure cufflings \n",
    "cf.set_config_file(offline=False, world_readable=True, theme='pearl')"
   ]
  },
  {
   "cell_type": "code",
   "execution_count": 3,
   "metadata": {
    "collapsed": true
   },
   "outputs": [],
   "source": [
    "import nltk\n",
    "# nltk.download()\n",
    "# !pip install autocorrect\n",
    "from autocorrect import spell"
   ]
  },
  {
   "cell_type": "code",
   "execution_count": 4,
   "metadata": {
    "collapsed": true
   },
   "outputs": [],
   "source": [
    "import pandas as pd\n",
    "import numpy as np\n",
    "import gzip"
   ]
  },
  {
   "cell_type": "markdown",
   "metadata": {},
   "source": [
    "### Data Loading"
   ]
  },
  {
   "cell_type": "code",
   "execution_count": 5,
   "metadata": {
    "collapsed": true
   },
   "outputs": [],
   "source": [
    "def parse(path):\n",
    "  g = gzip.open(path, 'rb')\n",
    "  for l in g:\n",
    "    yield eval(l)"
   ]
  },
  {
   "cell_type": "code",
   "execution_count": 6,
   "metadata": {
    "collapsed": true
   },
   "outputs": [],
   "source": [
    "def getDF(path):\n",
    "  i = 0\n",
    "  df = {}\n",
    "  for d in parse(path):\n",
    "    df[i] = d\n",
    "    i += 1\n",
    "  return pd.DataFrame.from_dict(df, orient='index')"
   ]
  },
  {
   "cell_type": "code",
   "execution_count": 7,
   "metadata": {
    "collapsed": true
   },
   "outputs": [],
   "source": [
    "df = getDF('/Users/falehalrashidi/Downloads/reviews_Books_5.json.gz')"
   ]
  },
  {
   "cell_type": "code",
   "execution_count": 8,
   "metadata": {},
   "outputs": [
    {
     "data": {
      "text/html": [
       "<div>\n",
       "<style scoped>\n",
       "    .dataframe tbody tr th:only-of-type {\n",
       "        vertical-align: middle;\n",
       "    }\n",
       "\n",
       "    .dataframe tbody tr th {\n",
       "        vertical-align: top;\n",
       "    }\n",
       "\n",
       "    .dataframe thead th {\n",
       "        text-align: right;\n",
       "    }\n",
       "</style>\n",
       "<table border=\"1\" class=\"dataframe\">\n",
       "  <thead>\n",
       "    <tr style=\"text-align: right;\">\n",
       "      <th></th>\n",
       "      <th>reviewerID</th>\n",
       "      <th>asin</th>\n",
       "      <th>reviewerName</th>\n",
       "      <th>helpful</th>\n",
       "      <th>reviewText</th>\n",
       "      <th>overall</th>\n",
       "      <th>summary</th>\n",
       "      <th>unixReviewTime</th>\n",
       "      <th>reviewTime</th>\n",
       "    </tr>\n",
       "  </thead>\n",
       "  <tbody>\n",
       "    <tr>\n",
       "      <th>0</th>\n",
       "      <td>A10000012B7CGYKOMPQ4L</td>\n",
       "      <td>000100039X</td>\n",
       "      <td>Adam</td>\n",
       "      <td>[0, 0]</td>\n",
       "      <td>Spiritually and mentally inspiring! A book tha...</td>\n",
       "      <td>5.0</td>\n",
       "      <td>Wonderful!</td>\n",
       "      <td>1355616000</td>\n",
       "      <td>12 16, 2012</td>\n",
       "    </tr>\n",
       "    <tr>\n",
       "      <th>1</th>\n",
       "      <td>A2S166WSCFIFP5</td>\n",
       "      <td>000100039X</td>\n",
       "      <td>adead_poet@hotmail.com \"adead_poet@hotmail.com\"</td>\n",
       "      <td>[0, 2]</td>\n",
       "      <td>This is one my must have books. It is a master...</td>\n",
       "      <td>5.0</td>\n",
       "      <td>close to god</td>\n",
       "      <td>1071100800</td>\n",
       "      <td>12 11, 2003</td>\n",
       "    </tr>\n",
       "    <tr>\n",
       "      <th>2</th>\n",
       "      <td>A1BM81XB4QHOA3</td>\n",
       "      <td>000100039X</td>\n",
       "      <td>Ahoro Blethends \"Seriously\"</td>\n",
       "      <td>[0, 0]</td>\n",
       "      <td>This book provides a reflection that you can a...</td>\n",
       "      <td>5.0</td>\n",
       "      <td>Must Read for Life Afficianados</td>\n",
       "      <td>1390003200</td>\n",
       "      <td>01 18, 2014</td>\n",
       "    </tr>\n",
       "    <tr>\n",
       "      <th>3</th>\n",
       "      <td>A1MOSTXNIO5MPJ</td>\n",
       "      <td>000100039X</td>\n",
       "      <td>Alan Krug</td>\n",
       "      <td>[0, 0]</td>\n",
       "      <td>I first read THE PROPHET in college back in th...</td>\n",
       "      <td>5.0</td>\n",
       "      <td>Timeless for every good and bad time in your l...</td>\n",
       "      <td>1317081600</td>\n",
       "      <td>09 27, 2011</td>\n",
       "    </tr>\n",
       "    <tr>\n",
       "      <th>4</th>\n",
       "      <td>A2XQ5LZHTD4AFT</td>\n",
       "      <td>000100039X</td>\n",
       "      <td>Alaturka</td>\n",
       "      <td>[7, 9]</td>\n",
       "      <td>A timeless classic.  It is a very demanding an...</td>\n",
       "      <td>5.0</td>\n",
       "      <td>A Modern Rumi</td>\n",
       "      <td>1033948800</td>\n",
       "      <td>10 7, 2002</td>\n",
       "    </tr>\n",
       "  </tbody>\n",
       "</table>\n",
       "</div>"
      ],
      "text/plain": [
       "              reviewerID        asin  \\\n",
       "0  A10000012B7CGYKOMPQ4L  000100039X   \n",
       "1         A2S166WSCFIFP5  000100039X   \n",
       "2         A1BM81XB4QHOA3  000100039X   \n",
       "3         A1MOSTXNIO5MPJ  000100039X   \n",
       "4         A2XQ5LZHTD4AFT  000100039X   \n",
       "\n",
       "                                      reviewerName helpful  \\\n",
       "0                                             Adam  [0, 0]   \n",
       "1  adead_poet@hotmail.com \"adead_poet@hotmail.com\"  [0, 2]   \n",
       "2                      Ahoro Blethends \"Seriously\"  [0, 0]   \n",
       "3                                        Alan Krug  [0, 0]   \n",
       "4                                         Alaturka  [7, 9]   \n",
       "\n",
       "                                          reviewText  overall  \\\n",
       "0  Spiritually and mentally inspiring! A book tha...      5.0   \n",
       "1  This is one my must have books. It is a master...      5.0   \n",
       "2  This book provides a reflection that you can a...      5.0   \n",
       "3  I first read THE PROPHET in college back in th...      5.0   \n",
       "4  A timeless classic.  It is a very demanding an...      5.0   \n",
       "\n",
       "                                             summary  unixReviewTime  \\\n",
       "0                                         Wonderful!      1355616000   \n",
       "1                                       close to god      1071100800   \n",
       "2                    Must Read for Life Afficianados      1390003200   \n",
       "3  Timeless for every good and bad time in your l...      1317081600   \n",
       "4                                      A Modern Rumi      1033948800   \n",
       "\n",
       "    reviewTime  \n",
       "0  12 16, 2012  \n",
       "1  12 11, 2003  \n",
       "2  01 18, 2014  \n",
       "3  09 27, 2011  \n",
       "4   10 7, 2002  "
      ]
     },
     "execution_count": 8,
     "metadata": {},
     "output_type": "execute_result"
    }
   ],
   "source": [
    "df.head()"
   ]
  },
  {
   "cell_type": "code",
   "execution_count": 20,
   "metadata": {
    "collapsed": true
   },
   "outputs": [],
   "source": [
    "df1 = df[['reviewerID','asin','reviewText','helpful']]"
   ]
  },
  {
   "cell_type": "code",
   "execution_count": 21,
   "metadata": {},
   "outputs": [
    {
     "data": {
      "text/html": [
       "<div>\n",
       "<style scoped>\n",
       "    .dataframe tbody tr th:only-of-type {\n",
       "        vertical-align: middle;\n",
       "    }\n",
       "\n",
       "    .dataframe tbody tr th {\n",
       "        vertical-align: top;\n",
       "    }\n",
       "\n",
       "    .dataframe thead th {\n",
       "        text-align: right;\n",
       "    }\n",
       "</style>\n",
       "<table border=\"1\" class=\"dataframe\">\n",
       "  <thead>\n",
       "    <tr style=\"text-align: right;\">\n",
       "      <th></th>\n",
       "      <th>reviewerID</th>\n",
       "      <th>asin</th>\n",
       "      <th>reviewText</th>\n",
       "      <th>helpful</th>\n",
       "    </tr>\n",
       "  </thead>\n",
       "  <tbody>\n",
       "    <tr>\n",
       "      <th>0</th>\n",
       "      <td>A10000012B7CGYKOMPQ4L</td>\n",
       "      <td>000100039X</td>\n",
       "      <td>Spiritually and mentally inspiring! A book tha...</td>\n",
       "      <td>[0, 0]</td>\n",
       "    </tr>\n",
       "    <tr>\n",
       "      <th>1</th>\n",
       "      <td>A2S166WSCFIFP5</td>\n",
       "      <td>000100039X</td>\n",
       "      <td>This is one my must have books. It is a master...</td>\n",
       "      <td>[0, 2]</td>\n",
       "    </tr>\n",
       "    <tr>\n",
       "      <th>2</th>\n",
       "      <td>A1BM81XB4QHOA3</td>\n",
       "      <td>000100039X</td>\n",
       "      <td>This book provides a reflection that you can a...</td>\n",
       "      <td>[0, 0]</td>\n",
       "    </tr>\n",
       "    <tr>\n",
       "      <th>3</th>\n",
       "      <td>A1MOSTXNIO5MPJ</td>\n",
       "      <td>000100039X</td>\n",
       "      <td>I first read THE PROPHET in college back in th...</td>\n",
       "      <td>[0, 0]</td>\n",
       "    </tr>\n",
       "    <tr>\n",
       "      <th>4</th>\n",
       "      <td>A2XQ5LZHTD4AFT</td>\n",
       "      <td>000100039X</td>\n",
       "      <td>A timeless classic.  It is a very demanding an...</td>\n",
       "      <td>[7, 9]</td>\n",
       "    </tr>\n",
       "  </tbody>\n",
       "</table>\n",
       "</div>"
      ],
      "text/plain": [
       "              reviewerID        asin  \\\n",
       "0  A10000012B7CGYKOMPQ4L  000100039X   \n",
       "1         A2S166WSCFIFP5  000100039X   \n",
       "2         A1BM81XB4QHOA3  000100039X   \n",
       "3         A1MOSTXNIO5MPJ  000100039X   \n",
       "4         A2XQ5LZHTD4AFT  000100039X   \n",
       "\n",
       "                                          reviewText helpful  \n",
       "0  Spiritually and mentally inspiring! A book tha...  [0, 0]  \n",
       "1  This is one my must have books. It is a master...  [0, 2]  \n",
       "2  This book provides a reflection that you can a...  [0, 0]  \n",
       "3  I first read THE PROPHET in college back in th...  [0, 0]  \n",
       "4  A timeless classic.  It is a very demanding an...  [7, 9]  "
      ]
     },
     "execution_count": 21,
     "metadata": {},
     "output_type": "execute_result"
    }
   ],
   "source": [
    "df1.head()"
   ]
  },
  {
   "cell_type": "code",
   "execution_count": 22,
   "metadata": {},
   "outputs": [],
   "source": [
    "# Create new Column for the denominator\n",
    "df2 = df1.assign(denom = df1['helpful'].apply(lambda enum_denom:enum_denom[1]))"
   ]
  },
  {
   "cell_type": "code",
   "execution_count": 35,
   "metadata": {},
   "outputs": [
    {
     "data": {
      "text/plain": [
       "713836"
      ]
     },
     "execution_count": 35,
     "metadata": {},
     "output_type": "execute_result"
    }
   ],
   "source": [
    "# Focus on reviews with at least 10 ratings on helpfulness\n",
    "df3 = df2.loc[df2['denom'] > 10]\n",
    "len(df3)"
   ]
  },
  {
   "cell_type": "code",
   "execution_count": 36,
   "metadata": {},
   "outputs": [
    {
     "data": {
      "text/html": [
       "<div>\n",
       "<style scoped>\n",
       "    .dataframe tbody tr th:only-of-type {\n",
       "        vertical-align: middle;\n",
       "    }\n",
       "\n",
       "    .dataframe tbody tr th {\n",
       "        vertical-align: top;\n",
       "    }\n",
       "\n",
       "    .dataframe thead th {\n",
       "        text-align: right;\n",
       "    }\n",
       "</style>\n",
       "<table border=\"1\" class=\"dataframe\">\n",
       "  <thead>\n",
       "    <tr style=\"text-align: right;\">\n",
       "      <th></th>\n",
       "      <th>reviewerID</th>\n",
       "      <th>asin</th>\n",
       "      <th>reviewText</th>\n",
       "    </tr>\n",
       "  </thead>\n",
       "  <tbody>\n",
       "    <tr>\n",
       "      <th>0</th>\n",
       "      <td>A1NPNGWBVD9AK3</td>\n",
       "      <td>000100039X</td>\n",
       "      <td>This is one of the first (literary) books I re...</td>\n",
       "    </tr>\n",
       "    <tr>\n",
       "      <th>1</th>\n",
       "      <td>A1SP45I55GQIIE</td>\n",
       "      <td>000100039X</td>\n",
       "      <td>Certainly the words are of Kahlil Gibran, but ...</td>\n",
       "    </tr>\n",
       "    <tr>\n",
       "      <th>2</th>\n",
       "      <td>A2ZB1G1KUE6OS6</td>\n",
       "      <td>000100039X</td>\n",
       "      <td>I evidently misread the writeup, I thought it ...</td>\n",
       "    </tr>\n",
       "    <tr>\n",
       "      <th>3</th>\n",
       "      <td>ATAPOART4QGVO</td>\n",
       "      <td>000100039X</td>\n",
       "      <td>Maybe I just wasn't in the right mood for a he...</td>\n",
       "    </tr>\n",
       "    <tr>\n",
       "      <th>4</th>\n",
       "      <td>A2052JNVUPRTMT</td>\n",
       "      <td>000100039X</td>\n",
       "      <td>Gibran gets right down to the bedrock of what ...</td>\n",
       "    </tr>\n",
       "  </tbody>\n",
       "</table>\n",
       "</div>"
      ],
      "text/plain": [
       "       reviewerID        asin  \\\n",
       "0  A1NPNGWBVD9AK3  000100039X   \n",
       "1  A1SP45I55GQIIE  000100039X   \n",
       "2  A2ZB1G1KUE6OS6  000100039X   \n",
       "3   ATAPOART4QGVO  000100039X   \n",
       "4  A2052JNVUPRTMT  000100039X   \n",
       "\n",
       "                                          reviewText  \n",
       "0  This is one of the first (literary) books I re...  \n",
       "1  Certainly the words are of Kahlil Gibran, but ...  \n",
       "2  I evidently misread the writeup, I thought it ...  \n",
       "3  Maybe I just wasn't in the right mood for a he...  \n",
       "4  Gibran gets right down to the bedrock of what ...  "
      ]
     },
     "execution_count": 36,
     "metadata": {},
     "output_type": "execute_result"
    }
   ],
   "source": [
    "# Drop unnecessary columns & reset index\n",
    "df4 = df3.drop(columns=['helpful','denom'])\n",
    "df4 = df4.reset_index().drop(columns=['index'])\n",
    "df4.head()"
   ]
  },
  {
   "cell_type": "markdown",
   "metadata": {},
   "source": [
    "### Data Normalisation - Phase 1\n",
    "* Tokenize all reviews & convert all tokens to lowecase.\n",
    "* Eliminate punctuation. \n",
    "* Changing numbers into words. \n",
    "* Expanding abbreviations. \n",
    "* Canonicalisation of text. "
   ]
  },
  {
   "cell_type": "code",
   "execution_count": null,
   "metadata": {},
   "outputs": [],
   "source": [
    "df4.loc[df4['reviewText']] = df4['reviewText'].apply(lambda review: nltk.word_tokenize(review))"
   ]
  },
  {
   "cell_type": "code",
   "execution_count": null,
   "metadata": {
    "collapsed": true
   },
   "outputs": [],
   "source": [
    "import re\n",
    "import string\n",
    "\n",
    "def eliminate_punctuation(review, regex):\n",
    "    new_review = []\n",
    "    for token in review:\n",
    "        new_token = regex.sub(u'', token)\n",
    "        if not new_token == u'':\n",
    "            new_review.append(new_token)\n",
    "    return new_review"
   ]
  },
  {
   "cell_type": "code",
   "execution_count": null,
   "metadata": {
    "collapsed": true
   },
   "outputs": [],
   "source": [
    "regex=re.compile('[%s]' % re.escape(string.punctuation))\n",
    "df4.loc[df1['reviewText']] = df4['reviewText'].apply(lambda review: eliminate_punctuation(review, regex))"
   ]
  },
  {
   "cell_type": "code",
   "execution_count": null,
   "metadata": {
    "collapsed": true
   },
   "outputs": [],
   "source": []
  }
 ],
 "metadata": {
  "kernelspec": {
   "display_name": "Python 3",
   "language": "python",
   "name": "python3"
  },
  "language_info": {
   "codemirror_mode": {
    "name": "ipython",
    "version": 3
   },
   "file_extension": ".py",
   "mimetype": "text/x-python",
   "name": "python",
   "nbconvert_exporter": "python",
   "pygments_lexer": "ipython3",
   "version": "3.6.2"
  }
 },
 "nbformat": 4,
 "nbformat_minor": 2
}
