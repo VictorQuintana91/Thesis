{
 "cells": [
  {
   "cell_type": "markdown",
   "metadata": {},
   "source": [
    "# Pos-Tagging & Feature Extraction\n",
    "Following normalisation, we can now proceed to the process of pos-tagging and feature extraction. Let's start with pos-tagging."
   ]
  },
  {
   "cell_type": "markdown",
   "metadata": {},
   "source": [
    "## POS-tagging\n",
    "Part-of-speech tagging is one of the most important text analysis tasks used to classify words into their part-of-speech and label them according the tagset which is a collection of tags used for the pos tagging. Part-of-speech tagging also known as word classes or lexical categories.\n",
    "\n",
    "The `nltk` library provides its own pre-trained `POS-tagger`. Let's see how it is used."
   ]
  },
  {
   "cell_type": "code",
   "execution_count": 1,
   "metadata": {},
   "outputs": [
    {
     "data": {
      "text/html": [
       "<div>\n",
       "<style scoped>\n",
       "    .dataframe tbody tr th:only-of-type {\n",
       "        vertical-align: middle;\n",
       "    }\n",
       "\n",
       "    .dataframe tbody tr th {\n",
       "        vertical-align: top;\n",
       "    }\n",
       "\n",
       "    .dataframe thead th {\n",
       "        text-align: right;\n",
       "    }\n",
       "</style>\n",
       "<table border=\"1\" class=\"dataframe\">\n",
       "  <thead>\n",
       "    <tr style=\"text-align: right;\">\n",
       "      <th></th>\n",
       "      <th>uniqueKey</th>\n",
       "      <th>reviewText</th>\n",
       "    </tr>\n",
       "  </thead>\n",
       "  <tbody>\n",
       "    <tr>\n",
       "      <th>0</th>\n",
       "      <td>A2XQ5LZHTD4AFT##000100039X</td>\n",
       "      <td>['timeless', 'classic', 'demanding', 'assuming...</td>\n",
       "    </tr>\n",
       "    <tr>\n",
       "      <th>1</th>\n",
       "      <td>AF7CSSGV93RXN##000100039X</td>\n",
       "      <td>['first', 'read', 'prophet', 'kahlil', 'gibran...</td>\n",
       "    </tr>\n",
       "    <tr>\n",
       "      <th>2</th>\n",
       "      <td>A1NPNGWBVD9AK3##000100039X</td>\n",
       "      <td>['one', 'first', 'literary', 'books', 'recall'...</td>\n",
       "    </tr>\n",
       "    <tr>\n",
       "      <th>3</th>\n",
       "      <td>A3IS4WGMFR4X65##000100039X</td>\n",
       "      <td>['prophet', 'kahlil', 'gibrans', 'best', 'know...</td>\n",
       "    </tr>\n",
       "    <tr>\n",
       "      <th>4</th>\n",
       "      <td>AWLFVCT9128JV##000100039X</td>\n",
       "      <td>['gibran', 'khalil', 'gibran', 'born', 'one th...</td>\n",
       "    </tr>\n",
       "  </tbody>\n",
       "</table>\n",
       "</div>"
      ],
      "text/plain": [
       "                    uniqueKey  \\\n",
       "0  A2XQ5LZHTD4AFT##000100039X   \n",
       "1   AF7CSSGV93RXN##000100039X   \n",
       "2  A1NPNGWBVD9AK3##000100039X   \n",
       "3  A3IS4WGMFR4X65##000100039X   \n",
       "4   AWLFVCT9128JV##000100039X   \n",
       "\n",
       "                                          reviewText  \n",
       "0  ['timeless', 'classic', 'demanding', 'assuming...  \n",
       "1  ['first', 'read', 'prophet', 'kahlil', 'gibran...  \n",
       "2  ['one', 'first', 'literary', 'books', 'recall'...  \n",
       "3  ['prophet', 'kahlil', 'gibrans', 'best', 'know...  \n",
       "4  ['gibran', 'khalil', 'gibran', 'born', 'one th...  "
      ]
     },
     "execution_count": 1,
     "metadata": {},
     "output_type": "execute_result"
    }
   ],
   "source": [
    "import pandas as pd\n",
    "df0 = pd.read_csv(\"../data/interim/001_normalised_keyed_reviews.csv\", sep=\"\\t\", low_memory=False)\n",
    "df0.head()"
   ]
  },
  {
   "cell_type": "code",
   "execution_count": 2,
   "metadata": {
    "collapsed": true
   },
   "outputs": [],
   "source": [
    "# For monitoring duration of pandas processes\n",
    "from tqdm import tqdm, tqdm_pandas\n",
    "\n",
    "# To avoid RuntimeError: Set changed size during iteration\n",
    "tqdm.monitor_interval = 0\n",
    "\n",
    "# Register `pandas.progress_apply` and `pandas.Series.map_apply` with `tqdm`\n",
    "# (can use `tqdm_gui`, `tqdm_notebook`, optional kwargs, etc.)\n",
    "tqdm.pandas(desc=\"Progress:\")\n",
    "\n",
    "# Now you can use `progress_apply` instead of `apply`\n",
    "# and `progress_map` instead of `map`\n",
    "# can also groupby:\n",
    "# df.groupby(0).progress_apply(lambda x: x**2)"
   ]
  },
  {
   "cell_type": "code",
   "execution_count": 3,
   "metadata": {
    "collapsed": true
   },
   "outputs": [],
   "source": [
    "def convert_text_to_list(review):\n",
    "    return review.replace(\"[\",\"\").replace(\"]\",\"\").replace(\"'\",\"\").split(\",\")"
   ]
  },
  {
   "cell_type": "code",
   "execution_count": 4,
   "metadata": {},
   "outputs": [
    {
     "name": "stderr",
     "output_type": "stream",
     "text": [
      "Progress:: 100%|██████████| 582711/582711 [00:16<00:00, 35594.54it/s]\n"
     ]
    },
    {
     "data": {
      "text/plain": [
       "0    [timeless,  classic,  demanding,  assuming,  t...\n",
       "1    [first,  read,  prophet,  kahlil,  gibran,  th...\n",
       "2    [one,  first,  literary,  books,  recall,  rea...\n",
       "3    [prophet,  kahlil,  gibrans,  best,  known,  w...\n",
       "4    [gibran,  khalil,  gibran,  born,  one thousan...\n",
       "Name: reviewText, dtype: object"
      ]
     },
     "execution_count": 4,
     "metadata": {},
     "output_type": "execute_result"
    }
   ],
   "source": [
    "# Convert \"reviewText\" field to back to list\n",
    "df0['reviewText'] = df0['reviewText'].astype(str)\n",
    "df0['reviewText'] = df0['reviewText'].progress_apply(lambda text: convert_text_to_list(text));\n",
    "df0['reviewText'].head()"
   ]
  },
  {
   "cell_type": "code",
   "execution_count": 5,
   "metadata": {},
   "outputs": [
    {
     "data": {
      "text/plain": [
       "['father',\n",
       " ' huge',\n",
       " ' book',\n",
       " ' collection',\n",
       " ' remember',\n",
       " ' around',\n",
       " ' twelve',\n",
       " ' found',\n",
       " ' book',\n",
       " ' amidst',\n",
       " ' sea',\n",
       " ' books',\n",
       " ' thought',\n",
       " ' pretty',\n",
       " ' small',\n",
       " ' read',\n",
       " ' one',\n",
       " ' sit',\n",
       " ' changed',\n",
       " ' life',\n",
       " ' talks',\n",
       " ' life',\n",
       " ' love',\n",
       " ' friendship',\n",
       " ' death',\n",
       " ' etc',\n",
       " ' answers',\n",
       " ' spend',\n",
       " ' entire',\n",
       " ' life',\n",
       " ' searching',\n",
       " ' book',\n",
       " ' tells',\n",
       " ' things',\n",
       " ' already',\n",
       " ' know',\n",
       " ' life',\n",
       " ' somehow',\n",
       " ' keep',\n",
       " ' back',\n",
       " ' heads',\n",
       " ' dont_have',\n",
       " ' right',\n",
       " ' thing',\n",
       " ' ignoring',\n",
       " ' make',\n",
       " ' us',\n",
       " ' human',\n",
       " ' default',\n",
       " ' no_place',\n",
       " ' go',\n",
       " ' book',\n",
       " ' doesnt_follow',\n",
       " ' remember',\n",
       " ' college',\n",
       " ' teacher',\n",
       " ' despised',\n",
       " ' much',\n",
       " ' class',\n",
       " ' talking',\n",
       " ' favorite',\n",
       " ' book',\n",
       " ' came',\n",
       " ' turn',\n",
       " ' said',\n",
       " ' prophet',\n",
       " ' kahlil',\n",
       " ' gibran',\n",
       " ' got',\n",
       " ' excited',\n",
       " ' said',\n",
       " ' thats',\n",
       " ' favorite',\n",
       " ' book',\n",
       " ' like',\n",
       " ' bible',\n",
       " ' remember',\n",
       " ' thinking',\n",
       " ' something',\n",
       " ' important',\n",
       " ' common',\n",
       " ' someone',\n",
       " ' despise',\n",
       " ' guess',\n",
       " ' thats',\n",
       " ' thing',\n",
       " ' life',\n",
       " ' never_forget']"
      ]
     },
     "execution_count": 5,
     "metadata": {},
     "output_type": "execute_result"
    }
   ],
   "source": [
    "df0['reviewText'][12]"
   ]
  },
  {
   "cell_type": "code",
   "execution_count": 6,
   "metadata": {},
   "outputs": [
    {
     "data": {
      "text/plain": [
       "'3.2.4'"
      ]
     },
     "execution_count": 6,
     "metadata": {},
     "output_type": "execute_result"
    }
   ],
   "source": [
    "import nltk\n",
    "nltk.__version__"
   ]
  },
  {
   "cell_type": "code",
   "execution_count": 7,
   "metadata": {
    "collapsed": true
   },
   "outputs": [],
   "source": [
    "# Split negs\n",
    "def split_neg(review):\n",
    "    new_review = []\n",
    "    for token in review:\n",
    "        if '_' in token:\n",
    "            split_words = token.split(\"_\")\n",
    "            new_review.append(split_words[0])\n",
    "            new_review.append(split_words[1])\n",
    "        else:\n",
    "            new_review.append(token)\n",
    "    return new_review"
   ]
  },
  {
   "cell_type": "code",
   "execution_count": 8,
   "metadata": {},
   "outputs": [
    {
     "name": "stderr",
     "output_type": "stream",
     "text": [
      "Progress:: 100%|██████████| 582711/582711 [00:14<00:00, 39648.33it/s]\n"
     ]
    },
    {
     "data": {
      "text/plain": [
       "0    [timeless,  classic,  demanding,  assuming,  t...\n",
       "1    [first,  read,  prophet,  kahlil,  gibran,  th...\n",
       "2    [one,  first,  literary,  books,  recall,  rea...\n",
       "3    [prophet,  kahlil,  gibrans,  best,  known,  w...\n",
       "4    [gibran,  khalil,  gibran,  born,  one thousan...\n",
       "Name: reviewText, dtype: object"
      ]
     },
     "execution_count": 8,
     "metadata": {},
     "output_type": "execute_result"
    }
   ],
   "source": [
    "df0[\"reviewText\"] = df0[\"reviewText\"].progress_apply(lambda review: split_neg(review))\n",
    "df0[\"reviewText\"].head()"
   ]
  },
  {
   "cell_type": "code",
   "execution_count": 9,
   "metadata": {
    "collapsed": true
   },
   "outputs": [],
   "source": [
    "### Remove Stop Words\n",
    "from nltk.corpus import stopwords\n",
    "stop_words = set(stopwords.words('english'))\n",
    "\n",
    "def remove_stopwords(review):\n",
    "    return [token for token in review if not token in stop_words]"
   ]
  },
  {
   "cell_type": "code",
   "execution_count": 10,
   "metadata": {},
   "outputs": [
    {
     "name": "stderr",
     "output_type": "stream",
     "text": [
      "Progress:: 100%|██████████| 582711/582711 [00:12<00:00, 47129.83it/s]\n"
     ]
    },
    {
     "data": {
      "text/plain": [
       "0    [timeless,  classic,  demanding,  assuming,  t...\n",
       "1    [first,  read,  prophet,  kahlil,  gibran,  th...\n",
       "2    [one,  first,  literary,  books,  recall,  rea...\n",
       "3    [prophet,  kahlil,  gibrans,  best,  known,  w...\n",
       "4    [gibran,  khalil,  gibran,  born,  one thousan...\n",
       "Name: reviewText, dtype: object"
      ]
     },
     "execution_count": 10,
     "metadata": {},
     "output_type": "execute_result"
    }
   ],
   "source": [
    "df0[\"reviewText\"] = df0[\"reviewText\"].progress_apply(lambda review: remove_stopwords(review))\n",
    "df0[\"reviewText\"].head()"
   ]
  },
  {
   "cell_type": "markdown",
   "metadata": {},
   "source": [
    "<span style=\"color:red\">Unfortunatelly, this tagger, though much better and accurate, takes a lot of time. In order to process the above data set it would need close to 3 days of running.</span> "
   ]
  },
  {
   "cell_type": "markdown",
   "metadata": {},
   "source": [
    "Follow this link for more info on the tagger: https://nlp.stanford.edu/software/tagger.shtml#History"
   ]
  },
  {
   "cell_type": "code",
   "execution_count": 11,
   "metadata": {
    "collapsed": true
   },
   "outputs": [],
   "source": [
    "# from nltk.tag import StanfordPOSTagger\n",
    "# from nltk import word_tokenize\n",
    "\n",
    "# # import os\n",
    "# # os.getcwd()\n",
    "\n",
    "# # Add the jar and model via their path (instead of setting environment variables):\n",
    "# jar = '../models/stanford-postagger-full-2017-06-09/stanford-postagger.jar'\n",
    "# model = '../models/stanford-postagger-full-2017-06-09/models/english-left3words-distsim.tagger'\n",
    "\n",
    "# pos_tagger = StanfordPOSTagger(model, jar, encoding='utf8')"
   ]
  },
  {
   "cell_type": "code",
   "execution_count": 12,
   "metadata": {
    "collapsed": true
   },
   "outputs": [],
   "source": [
    "# Example\n",
    "# text = pos_tagger.tag(word_tokenize(\"What's the airspeed of an unladen swallow ?\"))\n",
    "# print(text)"
   ]
  },
  {
   "cell_type": "code",
   "execution_count": 13,
   "metadata": {
    "collapsed": true
   },
   "outputs": [],
   "source": [
    "# def pos_tag(review):\n",
    "#     if(len(review)>0):\n",
    "#         return pos_tagger.tag(review)"
   ]
  },
  {
   "cell_type": "code",
   "execution_count": 14,
   "metadata": {
    "collapsed": true
   },
   "outputs": [],
   "source": [
    "# tagged_df = pd.DataFrame(df0['reviewText'].progress_apply(lambda review: pos_tag(review)))\n",
    "# tagged_df.head()"
   ]
  },
  {
   "cell_type": "markdown",
   "metadata": {},
   "source": [
    "Thankfully, `nltk` provides documentation for each tag, which can be queried using the tag, e.g., `nltk.help.upenn_tagset(‘RB’)`, or a regular expression. `nltk` also provides batch pos-tagging method for document pos-tagging:"
   ]
  },
  {
   "cell_type": "code",
   "execution_count": 15,
   "metadata": {},
   "outputs": [
    {
     "name": "stderr",
     "output_type": "stream",
     "text": [
      "Progress:: 100%|██████████| 582711/582711 [1:10:49<00:00, 207.62it/s]\n"
     ]
    },
    {
     "data": {
      "text/html": [
       "<div>\n",
       "<style scoped>\n",
       "    .dataframe tbody tr th:only-of-type {\n",
       "        vertical-align: middle;\n",
       "    }\n",
       "\n",
       "    .dataframe tbody tr th {\n",
       "        vertical-align: top;\n",
       "    }\n",
       "\n",
       "    .dataframe thead th {\n",
       "        text-align: right;\n",
       "    }\n",
       "</style>\n",
       "<table border=\"1\" class=\"dataframe\">\n",
       "  <thead>\n",
       "    <tr style=\"text-align: right;\">\n",
       "      <th></th>\n",
       "      <th>reviewText</th>\n",
       "    </tr>\n",
       "  </thead>\n",
       "  <tbody>\n",
       "    <tr>\n",
       "      <th>0</th>\n",
       "      <td>[(timeless, NN), ( classic, JJ), ( demanding, ...</td>\n",
       "    </tr>\n",
       "    <tr>\n",
       "      <th>1</th>\n",
       "      <td>[(first, RB), ( read, JJ), ( prophet, NNP), ( ...</td>\n",
       "    </tr>\n",
       "    <tr>\n",
       "      <th>2</th>\n",
       "      <td>[(one, CD), ( first, NNP), ( literary, JJ), ( ...</td>\n",
       "    </tr>\n",
       "    <tr>\n",
       "      <th>3</th>\n",
       "      <td>[(prophet, NN), ( kahlil, NN), ( gibrans, VBZ)...</td>\n",
       "    </tr>\n",
       "    <tr>\n",
       "      <th>4</th>\n",
       "      <td>[(gibran, NN), ( khalil, NNP), ( gibran, NNP),...</td>\n",
       "    </tr>\n",
       "  </tbody>\n",
       "</table>\n",
       "</div>"
      ],
      "text/plain": [
       "                                          reviewText\n",
       "0  [(timeless, NN), ( classic, JJ), ( demanding, ...\n",
       "1  [(first, RB), ( read, JJ), ( prophet, NNP), ( ...\n",
       "2  [(one, CD), ( first, NNP), ( literary, JJ), ( ...\n",
       "3  [(prophet, NN), ( kahlil, NN), ( gibrans, VBZ)...\n",
       "4  [(gibran, NN), ( khalil, NNP), ( gibran, NNP),..."
      ]
     },
     "execution_count": 15,
     "metadata": {},
     "output_type": "execute_result"
    }
   ],
   "source": [
    "tagged_df = pd.DataFrame(df0['reviewText'].progress_apply(lambda review: nltk.pos_tag(review)))\n",
    "tagged_df.head()"
   ]
  },
  {
   "cell_type": "code",
   "execution_count": 16,
   "metadata": {},
   "outputs": [
    {
     "data": {
      "text/plain": [
       "[('prophet', 'NN'),\n",
       " (' dispenses', 'NNS'),\n",
       " (' ultimate', 'VBP'),\n",
       " (' wisdom', 'NN'),\n",
       " (' loved', 'VBN'),\n",
       " (' ones', 'NNS'),\n",
       " (' bids', 'NNS'),\n",
       " (' fare', 'VBP'),\n",
       " (' well', 'NNP'),\n",
       " (' khalil', 'NNP'),\n",
       " (' gibran', 'NNP'),\n",
       " (' defines', 'VBZ'),\n",
       " (' never', 'RB'),\n",
       " (' words', 'NNS'),\n",
       " (' define', 'VBP'),\n",
       " (' appropriately', 'RB'),\n",
       " (' good', 'JJ'),\n",
       " (' sense', 'JJ'),\n",
       " (' define', 'NN'),\n",
       " (' discovered', 'VBN'),\n",
       " (' book', 'NNP'),\n",
       " (' back', 'NNP'),\n",
       " (' took', 'NNP'),\n",
       " (' long', 'NNP'),\n",
       " (' time', 'NNP'),\n",
       " (' read', 'JJ'),\n",
       " (' since', 'NN'),\n",
       " (' refused', 'VBD'),\n",
       " (' rush', 'JJ'),\n",
       " (' read', 'JJ'),\n",
       " (' lesson', 'NN'),\n",
       " (' time', 'NN'),\n",
       " (' understanding', 'VBG'),\n",
       " (' best', 'JJS'),\n",
       " (' ability', 'NN'),\n",
       " (' found', 'NN'),\n",
       " (' way', 'NNP'),\n",
       " (' life', 'NNP'),\n",
       " (' words', 'NNS'),\n",
       " (' could', 'MD'),\n",
       " (' read', 'VB'),\n",
       " (' everyday', 'JJ'),\n",
       " (' time', 'JJ'),\n",
       " (' words', 'NNS'),\n",
       " (' would', 'MD'),\n",
       " (' dispense', 'VB'),\n",
       " (' new', 'NNP'),\n",
       " (' lesson', 'NNP'),\n",
       " (' like', 'NNP'),\n",
       " (' never', 'NNP'),\n",
       " ('ending', 'VBG'),\n",
       " (' treasure', 'NN')]"
      ]
     },
     "execution_count": 16,
     "metadata": {},
     "output_type": "execute_result"
    }
   ],
   "source": [
    "tagged_df['reviewText'][8]"
   ]
  },
  {
   "cell_type": "markdown",
   "metadata": {},
   "source": [
    "The list of all possible tags appears below:\n",
    "\n",
    "| Tag  | Description                              |\n",
    "|------|------------------------------------------|\n",
    "| CC   | Coordinating conjunction                 |\n",
    "| CD   | Cardinal number                          |\n",
    "| DT   | Determiner                               |\n",
    "| EX   | ExistentialĘthere                        |\n",
    "| FW   | Foreign word                             |\n",
    "| IN   | Preposition or subordinating conjunction |\n",
    "| JJ   | Adjective                                |\n",
    "| JJR  | Adjective, comparative                   |\n",
    "| JJS  | Adjective, superlative                   |\n",
    "| LS   | List item marker                         |\n",
    "| MD   | Modal                                    |\n",
    "| NN   | Noun, singular or mass                   |\n",
    "| NNS  | Noun, plural                             |\n",
    "| NNP  | Proper noun, singular                    |\n",
    "| NNPS | Proper noun, plural                      |\n",
    "| PDT  | Predeterminer                            |\n",
    "| POS  | Possessive ending                        |\n",
    "| PRP  | Personal pronoun                         |\n",
    "| PRP* | Possessive pronoun                       |\n",
    "| RB   | Adverb                                   |\n",
    "| RBR  | Adverb, comparative                      |\n",
    "| RBS  | Adverb, superlative                      |\n",
    "| RP   | Particle                                 |\n",
    "| SYM  | Symbol                                   |\n",
    "| TO   | to                                       |\n",
    "| UH   | Interjection                             |\n",
    "| VB   | Verb, base form                          |\n",
    "| VBD  | Verb, past tense                         |\n",
    "| VBG  | Verb, gerund or present participle       |\n",
    "| VBN  | Verb, past participle                    |\n",
    "| VBP  | Verb, non-3rd person singular present    |\n",
    "| VBZ  | Verb, 3rd person singular present        |\n",
    "| WDT  | Wh-determiner                            |\n",
    "| WP   | Wh-pronoun                               |\n",
    "| WP*  | Possessive wh-pronoun                    |\n",
    "| WRB  | Wh-adverb                                |\n",
    "\n",
    "Notice: where you see `*` replace with `$`."
   ]
  },
  {
   "cell_type": "code",
   "execution_count": 17,
   "metadata": {},
   "outputs": [
    {
     "data": {
      "text/html": [
       "<div>\n",
       "<style scoped>\n",
       "    .dataframe tbody tr th:only-of-type {\n",
       "        vertical-align: middle;\n",
       "    }\n",
       "\n",
       "    .dataframe tbody tr th {\n",
       "        vertical-align: top;\n",
       "    }\n",
       "\n",
       "    .dataframe thead th {\n",
       "        text-align: right;\n",
       "    }\n",
       "</style>\n",
       "<table border=\"1\" class=\"dataframe\">\n",
       "  <thead>\n",
       "    <tr style=\"text-align: right;\">\n",
       "      <th></th>\n",
       "      <th>uniqueKey</th>\n",
       "    </tr>\n",
       "  </thead>\n",
       "  <tbody>\n",
       "    <tr>\n",
       "      <th>0</th>\n",
       "      <td>A2XQ5LZHTD4AFT##000100039X</td>\n",
       "    </tr>\n",
       "    <tr>\n",
       "      <th>1</th>\n",
       "      <td>AF7CSSGV93RXN##000100039X</td>\n",
       "    </tr>\n",
       "    <tr>\n",
       "      <th>2</th>\n",
       "      <td>A1NPNGWBVD9AK3##000100039X</td>\n",
       "    </tr>\n",
       "    <tr>\n",
       "      <th>3</th>\n",
       "      <td>A3IS4WGMFR4X65##000100039X</td>\n",
       "    </tr>\n",
       "    <tr>\n",
       "      <th>4</th>\n",
       "      <td>AWLFVCT9128JV##000100039X</td>\n",
       "    </tr>\n",
       "  </tbody>\n",
       "</table>\n",
       "</div>"
      ],
      "text/plain": [
       "                    uniqueKey\n",
       "0  A2XQ5LZHTD4AFT##000100039X\n",
       "1   AF7CSSGV93RXN##000100039X\n",
       "2  A1NPNGWBVD9AK3##000100039X\n",
       "3  A3IS4WGMFR4X65##000100039X\n",
       "4   AWLFVCT9128JV##000100039X"
      ]
     },
     "execution_count": 17,
     "metadata": {},
     "output_type": "execute_result"
    }
   ],
   "source": [
    "## Join with Original Key and Persist Locally to avoid RE-processing\n",
    "uniqueKey_series_df = df0[['uniqueKey']]\n",
    "uniqueKey_series_df.head()"
   ]
  },
  {
   "cell_type": "code",
   "execution_count": 18,
   "metadata": {},
   "outputs": [
    {
     "data": {
      "text/html": [
       "<div>\n",
       "<style scoped>\n",
       "    .dataframe tbody tr th:only-of-type {\n",
       "        vertical-align: middle;\n",
       "    }\n",
       "\n",
       "    .dataframe tbody tr th {\n",
       "        vertical-align: top;\n",
       "    }\n",
       "\n",
       "    .dataframe thead th {\n",
       "        text-align: right;\n",
       "    }\n",
       "</style>\n",
       "<table border=\"1\" class=\"dataframe\">\n",
       "  <thead>\n",
       "    <tr style=\"text-align: right;\">\n",
       "      <th></th>\n",
       "      <th>uniqueKey</th>\n",
       "      <th>reviewText</th>\n",
       "    </tr>\n",
       "  </thead>\n",
       "  <tbody>\n",
       "    <tr>\n",
       "      <th>0</th>\n",
       "      <td>A2XQ5LZHTD4AFT##000100039X</td>\n",
       "      <td>[(timeless, NN), ( classic, JJ), ( demanding, ...</td>\n",
       "    </tr>\n",
       "    <tr>\n",
       "      <th>1</th>\n",
       "      <td>AF7CSSGV93RXN##000100039X</td>\n",
       "      <td>[(first, RB), ( read, JJ), ( prophet, NNP), ( ...</td>\n",
       "    </tr>\n",
       "    <tr>\n",
       "      <th>2</th>\n",
       "      <td>A1NPNGWBVD9AK3##000100039X</td>\n",
       "      <td>[(one, CD), ( first, NNP), ( literary, JJ), ( ...</td>\n",
       "    </tr>\n",
       "    <tr>\n",
       "      <th>3</th>\n",
       "      <td>A3IS4WGMFR4X65##000100039X</td>\n",
       "      <td>[(prophet, NN), ( kahlil, NN), ( gibrans, VBZ)...</td>\n",
       "    </tr>\n",
       "    <tr>\n",
       "      <th>4</th>\n",
       "      <td>AWLFVCT9128JV##000100039X</td>\n",
       "      <td>[(gibran, NN), ( khalil, NNP), ( gibran, NNP),...</td>\n",
       "    </tr>\n",
       "  </tbody>\n",
       "</table>\n",
       "</div>"
      ],
      "text/plain": [
       "                    uniqueKey  \\\n",
       "0  A2XQ5LZHTD4AFT##000100039X   \n",
       "1   AF7CSSGV93RXN##000100039X   \n",
       "2  A1NPNGWBVD9AK3##000100039X   \n",
       "3  A3IS4WGMFR4X65##000100039X   \n",
       "4   AWLFVCT9128JV##000100039X   \n",
       "\n",
       "                                          reviewText  \n",
       "0  [(timeless, NN), ( classic, JJ), ( demanding, ...  \n",
       "1  [(first, RB), ( read, JJ), ( prophet, NNP), ( ...  \n",
       "2  [(one, CD), ( first, NNP), ( literary, JJ), ( ...  \n",
       "3  [(prophet, NN), ( kahlil, NN), ( gibrans, VBZ)...  \n",
       "4  [(gibran, NN), ( khalil, NNP), ( gibran, NNP),...  "
      ]
     },
     "execution_count": 18,
     "metadata": {},
     "output_type": "execute_result"
    }
   ],
   "source": [
    "pos_tagged_keyed_reviews = pd.concat([uniqueKey_series_df, tagged_df], axis=1);\n",
    "pos_tagged_keyed_reviews.head()"
   ]
  },
  {
   "cell_type": "code",
   "execution_count": 19,
   "metadata": {
    "collapsed": true
   },
   "outputs": [],
   "source": [
    "pos_tagged_keyed_reviews.to_csv(\"../data/interim/002_pos_tagged_keyed_reviews.csv\", sep='\\t', header=True, index=False);"
   ]
  },
  {
   "cell_type": "markdown",
   "metadata": {
    "collapsed": true
   },
   "source": [
    "## Nouns\n",
    "Nouns generally refer to people, places, things, or concepts, e.g.: woman, Scotland, book, intelligence. Nouns can appear after determiners and adjectives, and can be the subject or object of the verb.\n",
    "\n",
    "The simplified noun tags are `N` for common nouns like book, and `NP` for proper nouns like Scotland."
   ]
  },
  {
   "cell_type": "code",
   "execution_count": 20,
   "metadata": {
    "collapsed": true
   },
   "outputs": [],
   "source": [
    "def noun_collector(word_tag_list):\n",
    "    if(len(word_tag_list)>0):\n",
    "        return [word for (word, tag) in word_tag_list if tag in {'NN', 'NNS', 'NNP', 'NNPS'}]"
   ]
  },
  {
   "cell_type": "code",
   "execution_count": 21,
   "metadata": {},
   "outputs": [
    {
     "name": "stderr",
     "output_type": "stream",
     "text": [
      "Progress:: 100%|██████████| 582711/582711 [00:14<00:00, 41237.86it/s] \n"
     ]
    },
    {
     "data": {
      "text/html": [
       "<div>\n",
       "<style scoped>\n",
       "    .dataframe tbody tr th:only-of-type {\n",
       "        vertical-align: middle;\n",
       "    }\n",
       "\n",
       "    .dataframe tbody tr th {\n",
       "        vertical-align: top;\n",
       "    }\n",
       "\n",
       "    .dataframe thead th {\n",
       "        text-align: right;\n",
       "    }\n",
       "</style>\n",
       "<table border=\"1\" class=\"dataframe\">\n",
       "  <thead>\n",
       "    <tr style=\"text-align: right;\">\n",
       "      <th></th>\n",
       "      <th>reviewText</th>\n",
       "    </tr>\n",
       "  </thead>\n",
       "  <tbody>\n",
       "    <tr>\n",
       "      <th>0</th>\n",
       "      <td>[timeless,  gibran,  backs,  content,  means, ...</td>\n",
       "    </tr>\n",
       "    <tr>\n",
       "      <th>1</th>\n",
       "      <td>[ prophet,  kahlil,  gibran,  thirty,  years, ...</td>\n",
       "    </tr>\n",
       "    <tr>\n",
       "      <th>2</th>\n",
       "      <td>[ first,  books,  recall,  collection,  gibran...</td>\n",
       "    </tr>\n",
       "    <tr>\n",
       "      <th>3</th>\n",
       "      <td>[prophet,  kahlil,  work,  world,  million,  c...</td>\n",
       "    </tr>\n",
       "    <tr>\n",
       "      <th>4</th>\n",
       "      <td>[gibran,  khalil,  gibran,  born,  one thousan...</td>\n",
       "    </tr>\n",
       "  </tbody>\n",
       "</table>\n",
       "</div>"
      ],
      "text/plain": [
       "                                          reviewText\n",
       "0  [timeless,  gibran,  backs,  content,  means, ...\n",
       "1  [ prophet,  kahlil,  gibran,  thirty,  years, ...\n",
       "2  [ first,  books,  recall,  collection,  gibran...\n",
       "3  [prophet,  kahlil,  work,  world,  million,  c...\n",
       "4  [gibran,  khalil,  gibran,  born,  one thousan..."
      ]
     },
     "execution_count": 21,
     "metadata": {},
     "output_type": "execute_result"
    }
   ],
   "source": [
    "nouns_df = pd.DataFrame(tagged_df['reviewText'].progress_apply(lambda review: noun_collector(review)))\n",
    "nouns_df.head()"
   ]
  },
  {
   "cell_type": "code",
   "execution_count": 22,
   "metadata": {},
   "outputs": [
    {
     "data": {
      "text/html": [
       "<div>\n",
       "<style scoped>\n",
       "    .dataframe tbody tr th:only-of-type {\n",
       "        vertical-align: middle;\n",
       "    }\n",
       "\n",
       "    .dataframe tbody tr th {\n",
       "        vertical-align: top;\n",
       "    }\n",
       "\n",
       "    .dataframe thead th {\n",
       "        text-align: right;\n",
       "    }\n",
       "</style>\n",
       "<table border=\"1\" class=\"dataframe\">\n",
       "  <thead>\n",
       "    <tr style=\"text-align: right;\">\n",
       "      <th></th>\n",
       "      <th>uniqueKey</th>\n",
       "      <th>reviewText</th>\n",
       "    </tr>\n",
       "  </thead>\n",
       "  <tbody>\n",
       "    <tr>\n",
       "      <th>0</th>\n",
       "      <td>A2XQ5LZHTD4AFT##000100039X</td>\n",
       "      <td>[timeless,  gibran,  backs,  content,  means, ...</td>\n",
       "    </tr>\n",
       "    <tr>\n",
       "      <th>1</th>\n",
       "      <td>AF7CSSGV93RXN##000100039X</td>\n",
       "      <td>[ prophet,  kahlil,  gibran,  thirty,  years, ...</td>\n",
       "    </tr>\n",
       "    <tr>\n",
       "      <th>2</th>\n",
       "      <td>A1NPNGWBVD9AK3##000100039X</td>\n",
       "      <td>[ first,  books,  recall,  collection,  gibran...</td>\n",
       "    </tr>\n",
       "    <tr>\n",
       "      <th>3</th>\n",
       "      <td>A3IS4WGMFR4X65##000100039X</td>\n",
       "      <td>[prophet,  kahlil,  work,  world,  million,  c...</td>\n",
       "    </tr>\n",
       "    <tr>\n",
       "      <th>4</th>\n",
       "      <td>AWLFVCT9128JV##000100039X</td>\n",
       "      <td>[gibran,  khalil,  gibran,  born,  one thousan...</td>\n",
       "    </tr>\n",
       "  </tbody>\n",
       "</table>\n",
       "</div>"
      ],
      "text/plain": [
       "                    uniqueKey  \\\n",
       "0  A2XQ5LZHTD4AFT##000100039X   \n",
       "1   AF7CSSGV93RXN##000100039X   \n",
       "2  A1NPNGWBVD9AK3##000100039X   \n",
       "3  A3IS4WGMFR4X65##000100039X   \n",
       "4   AWLFVCT9128JV##000100039X   \n",
       "\n",
       "                                          reviewText  \n",
       "0  [timeless,  gibran,  backs,  content,  means, ...  \n",
       "1  [ prophet,  kahlil,  gibran,  thirty,  years, ...  \n",
       "2  [ first,  books,  recall,  collection,  gibran...  \n",
       "3  [prophet,  kahlil,  work,  world,  million,  c...  \n",
       "4  [gibran,  khalil,  gibran,  born,  one thousan...  "
      ]
     },
     "execution_count": 22,
     "metadata": {},
     "output_type": "execute_result"
    }
   ],
   "source": [
    "keyed_nouns_df = pd.concat([uniqueKey_series_df, nouns_df], axis=1);\n",
    "keyed_nouns_df.head()"
   ]
  },
  {
   "cell_type": "code",
   "execution_count": 23,
   "metadata": {
    "collapsed": true
   },
   "outputs": [],
   "source": [
    "keyed_nouns_df.to_csv(\"../data/interim/002_keyed_nouns.csv\", sep='\\t', header=True, index=False);"
   ]
  },
  {
   "cell_type": "code",
   "execution_count": 24,
   "metadata": {
    "collapsed": true
   },
   "outputs": [],
   "source": [
    "## END_OF_FILE"
   ]
  },
  {
   "cell_type": "code",
   "execution_count": null,
   "metadata": {
    "collapsed": true
   },
   "outputs": [],
   "source": []
  }
 ],
 "metadata": {
  "kernelspec": {
   "display_name": "Python 3",
   "language": "python",
   "name": "python3"
  },
  "language_info": {
   "codemirror_mode": {
    "name": "ipython",
    "version": 3
   },
   "file_extension": ".py",
   "mimetype": "text/x-python",
   "name": "python",
   "nbconvert_exporter": "python",
   "pygments_lexer": "ipython3",
   "version": "3.6.2"
  }
 },
 "nbformat": 4,
 "nbformat_minor": 2
}
