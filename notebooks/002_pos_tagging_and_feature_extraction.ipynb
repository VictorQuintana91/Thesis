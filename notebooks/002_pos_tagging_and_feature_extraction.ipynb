{
 "cells": [
  {
   "cell_type": "markdown",
   "metadata": {},
   "source": [
    "# Pos-Tagging & Feature Extraction\n",
    "Following normalisation, we can now proceed to the process of pos-tagging and feature extraction. Let's start with pos-tagging."
   ]
  },
  {
   "cell_type": "markdown",
   "metadata": {},
   "source": [
    "## POS-tagging\n",
    "Part-of-speech tagging is one of the most important text analysis tasks used to classify words into their part-of-speech and label them according the tagset which is a collection of tags used for the pos tagging. Part-of-speech tagging also known as word classes or lexical categories.\n",
    "\n",
    "The `nltk` library provides its own pre-trained `POS-tagger`. Let's see how it is used."
   ]
  },
  {
   "cell_type": "code",
   "execution_count": 1,
   "metadata": {},
   "outputs": [
    {
     "data": {
      "text/html": [
       "<div>\n",
       "<style scoped>\n",
       "    .dataframe tbody tr th:only-of-type {\n",
       "        vertical-align: middle;\n",
       "    }\n",
       "\n",
       "    .dataframe tbody tr th {\n",
       "        vertical-align: top;\n",
       "    }\n",
       "\n",
       "    .dataframe thead th {\n",
       "        text-align: right;\n",
       "    }\n",
       "</style>\n",
       "<table border=\"1\" class=\"dataframe\">\n",
       "  <thead>\n",
       "    <tr style=\"text-align: right;\">\n",
       "      <th></th>\n",
       "      <th>uniqueKey</th>\n",
       "      <th>reviewText</th>\n",
       "    </tr>\n",
       "  </thead>\n",
       "  <tbody>\n",
       "    <tr>\n",
       "      <th>0</th>\n",
       "      <td>A10000012B7CGYKOMPQ4L##000100039X</td>\n",
       "      <td>['spiritually', 'mentally', 'inspiring', 'book...</td>\n",
       "    </tr>\n",
       "    <tr>\n",
       "      <th>1</th>\n",
       "      <td>A2S166WSCFIFP5##000100039X</td>\n",
       "      <td>['one', 'must', 'books', 'masterpiece', 'spiri...</td>\n",
       "    </tr>\n",
       "    <tr>\n",
       "      <th>2</th>\n",
       "      <td>A1BM81XB4QHOA3##000100039X</td>\n",
       "      <td>['book', 'provides', 'reflection', 'apply', 'l...</td>\n",
       "    </tr>\n",
       "    <tr>\n",
       "      <th>3</th>\n",
       "      <td>A1MOSTXNIO5MPJ##000100039X</td>\n",
       "      <td>['first', 'read', 'prophet', 'college', 'back'...</td>\n",
       "    </tr>\n",
       "    <tr>\n",
       "      <th>4</th>\n",
       "      <td>A2XQ5LZHTD4AFT##000100039X</td>\n",
       "      <td>['timeless', 'classic', 'demanding', 'assuming...</td>\n",
       "    </tr>\n",
       "  </tbody>\n",
       "</table>\n",
       "</div>"
      ],
      "text/plain": [
       "                           uniqueKey  \\\n",
       "0  A10000012B7CGYKOMPQ4L##000100039X   \n",
       "1         A2S166WSCFIFP5##000100039X   \n",
       "2         A1BM81XB4QHOA3##000100039X   \n",
       "3         A1MOSTXNIO5MPJ##000100039X   \n",
       "4         A2XQ5LZHTD4AFT##000100039X   \n",
       "\n",
       "                                          reviewText  \n",
       "0  ['spiritually', 'mentally', 'inspiring', 'book...  \n",
       "1  ['one', 'must', 'books', 'masterpiece', 'spiri...  \n",
       "2  ['book', 'provides', 'reflection', 'apply', 'l...  \n",
       "3  ['first', 'read', 'prophet', 'college', 'back'...  \n",
       "4  ['timeless', 'classic', 'demanding', 'assuming...  "
      ]
     },
     "execution_count": 1,
     "metadata": {},
     "output_type": "execute_result"
    }
   ],
   "source": [
    "import pandas as pd\n",
    "df0 = pd.read_csv(\"../data/interim/001_normalised_keyed_reviews_100k_sample.csv\", sep=\"\\t\", low_memory=False)\n",
    "df0.head()"
   ]
  },
  {
   "cell_type": "code",
   "execution_count": 2,
   "metadata": {
    "collapsed": true
   },
   "outputs": [],
   "source": [
    "# For monitoring duration of pandas processes\n",
    "from tqdm import tqdm, tqdm_pandas\n",
    "\n",
    "# To avoid RuntimeError: Set changed size during iteration\n",
    "tqdm.monitor_interval = 0\n",
    "\n",
    "# Register `pandas.progress_apply` and `pandas.Series.map_apply` with `tqdm`\n",
    "# (can use `tqdm_gui`, `tqdm_notebook`, optional kwargs, etc.)\n",
    "tqdm.pandas(desc=\"Progress:\")\n",
    "\n",
    "# Now you can use `progress_apply` instead of `apply`\n",
    "# and `progress_map` instead of `map`\n",
    "# can also groupby:\n",
    "# df.groupby(0).progress_apply(lambda x: x**2)"
   ]
  },
  {
   "cell_type": "code",
   "execution_count": 3,
   "metadata": {},
   "outputs": [],
   "source": [
    "def convert_text_to_list(review):\n",
    "    return review.replace(\"[\",\"\").replace(\"]\",\"\").split(\",\")"
   ]
  },
  {
   "cell_type": "code",
   "execution_count": 4,
   "metadata": {},
   "outputs": [
    {
     "name": "stderr",
     "output_type": "stream",
     "text": [
      "Progress:: 100%|██████████| 99999/99999 [00:01<00:00, 95758.99it/s] \n"
     ]
    },
    {
     "data": {
      "text/plain": [
       "0    ['spiritually',  'mentally',  'inspiring',  'b...\n",
       "1    ['one',  'must',  'books',  'masterpiece',  's...\n",
       "2    ['book',  'provides',  'reflection',  'apply',...\n",
       "3    ['first',  'read',  'prophet',  'college',  'b...\n",
       "4    ['timeless',  'classic',  'demanding',  'assum...\n",
       "Name: reviewText, dtype: object"
      ]
     },
     "execution_count": 4,
     "metadata": {},
     "output_type": "execute_result"
    }
   ],
   "source": [
    "# Convert \"reviewText\" field to back to list\n",
    "df0['reviewText'] = df0['reviewText'].astype(str)\n",
    "df0['reviewText'] = df0['reviewText'].progress_apply(lambda text: convert_text_to_list(text));\n",
    "df0['reviewText'].head()"
   ]
  },
  {
   "cell_type": "code",
   "execution_count": 6,
   "metadata": {},
   "outputs": [],
   "source": [
    "import nltk\n",
    "\n",
    "def pos_tag(review):\n",
    "    if(len(review)>0):\n",
    "        return nltk.pos_tag(review)"
   ]
  },
  {
   "cell_type": "code",
   "execution_count": 7,
   "metadata": {},
   "outputs": [
    {
     "name": "stderr",
     "output_type": "stream",
     "text": [
      "Progress:: 100%|██████████| 99999/99999 [05:00<00:00, 332.41it/s]\n"
     ]
    },
    {
     "data": {
      "text/html": [
       "<div>\n",
       "<style scoped>\n",
       "    .dataframe tbody tr th:only-of-type {\n",
       "        vertical-align: middle;\n",
       "    }\n",
       "\n",
       "    .dataframe tbody tr th {\n",
       "        vertical-align: top;\n",
       "    }\n",
       "\n",
       "    .dataframe thead th {\n",
       "        text-align: right;\n",
       "    }\n",
       "</style>\n",
       "<table border=\"1\" class=\"dataframe\">\n",
       "  <thead>\n",
       "    <tr style=\"text-align: right;\">\n",
       "      <th></th>\n",
       "      <th>reviewText</th>\n",
       "    </tr>\n",
       "  </thead>\n",
       "  <tbody>\n",
       "    <tr>\n",
       "      <th>0</th>\n",
       "      <td>[('spiritually', POS), ( 'mentally', NN), ( 'i...</td>\n",
       "    </tr>\n",
       "    <tr>\n",
       "      <th>1</th>\n",
       "      <td>[('one', POS), ( 'must', NN), ( 'books', NNP),...</td>\n",
       "    </tr>\n",
       "    <tr>\n",
       "      <th>2</th>\n",
       "      <td>[('book', POS), ( 'provides', NN), ( 'reflecti...</td>\n",
       "    </tr>\n",
       "    <tr>\n",
       "      <th>3</th>\n",
       "      <td>[('first', POS), ( 'read', NN), ( 'prophet', N...</td>\n",
       "    </tr>\n",
       "    <tr>\n",
       "      <th>4</th>\n",
       "      <td>[('timeless', POS), ( 'classic', NN), ( 'deman...</td>\n",
       "    </tr>\n",
       "  </tbody>\n",
       "</table>\n",
       "</div>"
      ],
      "text/plain": [
       "                                          reviewText\n",
       "0  [('spiritually', POS), ( 'mentally', NN), ( 'i...\n",
       "1  [('one', POS), ( 'must', NN), ( 'books', NNP),...\n",
       "2  [('book', POS), ( 'provides', NN), ( 'reflecti...\n",
       "3  [('first', POS), ( 'read', NN), ( 'prophet', N...\n",
       "4  [('timeless', POS), ( 'classic', NN), ( 'deman..."
      ]
     },
     "execution_count": 7,
     "metadata": {},
     "output_type": "execute_result"
    }
   ],
   "source": [
    "tagged_df = pd.DataFrame(df0['reviewText'].progress_apply(lambda review: pos_tag(review)))\n",
    "tagged_df.head()"
   ]
  },
  {
   "cell_type": "markdown",
   "metadata": {},
   "source": [
    "`nltk` provides documentation for each tag, which can be queried using the tag, e.g., `nltk.help.upenn_tagset(‘RB’)`, or a regular expression. `nltk` also provides batch pos-tagging method for document pos-tagging:\n"
   ]
  },
  {
   "cell_type": "code",
   "execution_count": 8,
   "metadata": {},
   "outputs": [
    {
     "data": {
      "text/html": [
       "<div>\n",
       "<style scoped>\n",
       "    .dataframe tbody tr th:only-of-type {\n",
       "        vertical-align: middle;\n",
       "    }\n",
       "\n",
       "    .dataframe tbody tr th {\n",
       "        vertical-align: top;\n",
       "    }\n",
       "\n",
       "    .dataframe thead th {\n",
       "        text-align: right;\n",
       "    }\n",
       "</style>\n",
       "<table border=\"1\" class=\"dataframe\">\n",
       "  <thead>\n",
       "    <tr style=\"text-align: right;\">\n",
       "      <th></th>\n",
       "      <th>uniqueKey</th>\n",
       "    </tr>\n",
       "  </thead>\n",
       "  <tbody>\n",
       "    <tr>\n",
       "      <th>0</th>\n",
       "      <td>A10000012B7CGYKOMPQ4L##000100039X</td>\n",
       "    </tr>\n",
       "    <tr>\n",
       "      <th>1</th>\n",
       "      <td>A2S166WSCFIFP5##000100039X</td>\n",
       "    </tr>\n",
       "    <tr>\n",
       "      <th>2</th>\n",
       "      <td>A1BM81XB4QHOA3##000100039X</td>\n",
       "    </tr>\n",
       "    <tr>\n",
       "      <th>3</th>\n",
       "      <td>A1MOSTXNIO5MPJ##000100039X</td>\n",
       "    </tr>\n",
       "    <tr>\n",
       "      <th>4</th>\n",
       "      <td>A2XQ5LZHTD4AFT##000100039X</td>\n",
       "    </tr>\n",
       "  </tbody>\n",
       "</table>\n",
       "</div>"
      ],
      "text/plain": [
       "                           uniqueKey\n",
       "0  A10000012B7CGYKOMPQ4L##000100039X\n",
       "1         A2S166WSCFIFP5##000100039X\n",
       "2         A1BM81XB4QHOA3##000100039X\n",
       "3         A1MOSTXNIO5MPJ##000100039X\n",
       "4         A2XQ5LZHTD4AFT##000100039X"
      ]
     },
     "execution_count": 8,
     "metadata": {},
     "output_type": "execute_result"
    }
   ],
   "source": [
    "## Join with Original Key and Persist Locally to avoid RE-processing\n",
    "uniqueKey_series_df = df0[['uniqueKey']]\n",
    "uniqueKey_series_df.head()"
   ]
  },
  {
   "cell_type": "code",
   "execution_count": 9,
   "metadata": {},
   "outputs": [
    {
     "data": {
      "text/html": [
       "<div>\n",
       "<style scoped>\n",
       "    .dataframe tbody tr th:only-of-type {\n",
       "        vertical-align: middle;\n",
       "    }\n",
       "\n",
       "    .dataframe tbody tr th {\n",
       "        vertical-align: top;\n",
       "    }\n",
       "\n",
       "    .dataframe thead th {\n",
       "        text-align: right;\n",
       "    }\n",
       "</style>\n",
       "<table border=\"1\" class=\"dataframe\">\n",
       "  <thead>\n",
       "    <tr style=\"text-align: right;\">\n",
       "      <th></th>\n",
       "      <th>uniqueKey</th>\n",
       "      <th>reviewText</th>\n",
       "    </tr>\n",
       "  </thead>\n",
       "  <tbody>\n",
       "    <tr>\n",
       "      <th>0</th>\n",
       "      <td>A10000012B7CGYKOMPQ4L##000100039X</td>\n",
       "      <td>[('spiritually', POS), ( 'mentally', NN), ( 'i...</td>\n",
       "    </tr>\n",
       "    <tr>\n",
       "      <th>1</th>\n",
       "      <td>A2S166WSCFIFP5##000100039X</td>\n",
       "      <td>[('one', POS), ( 'must', NN), ( 'books', NNP),...</td>\n",
       "    </tr>\n",
       "    <tr>\n",
       "      <th>2</th>\n",
       "      <td>A1BM81XB4QHOA3##000100039X</td>\n",
       "      <td>[('book', POS), ( 'provides', NN), ( 'reflecti...</td>\n",
       "    </tr>\n",
       "    <tr>\n",
       "      <th>3</th>\n",
       "      <td>A1MOSTXNIO5MPJ##000100039X</td>\n",
       "      <td>[('first', POS), ( 'read', NN), ( 'prophet', N...</td>\n",
       "    </tr>\n",
       "    <tr>\n",
       "      <th>4</th>\n",
       "      <td>A2XQ5LZHTD4AFT##000100039X</td>\n",
       "      <td>[('timeless', POS), ( 'classic', NN), ( 'deman...</td>\n",
       "    </tr>\n",
       "  </tbody>\n",
       "</table>\n",
       "</div>"
      ],
      "text/plain": [
       "                           uniqueKey  \\\n",
       "0  A10000012B7CGYKOMPQ4L##000100039X   \n",
       "1         A2S166WSCFIFP5##000100039X   \n",
       "2         A1BM81XB4QHOA3##000100039X   \n",
       "3         A1MOSTXNIO5MPJ##000100039X   \n",
       "4         A2XQ5LZHTD4AFT##000100039X   \n",
       "\n",
       "                                          reviewText  \n",
       "0  [('spiritually', POS), ( 'mentally', NN), ( 'i...  \n",
       "1  [('one', POS), ( 'must', NN), ( 'books', NNP),...  \n",
       "2  [('book', POS), ( 'provides', NN), ( 'reflecti...  \n",
       "3  [('first', POS), ( 'read', NN), ( 'prophet', N...  \n",
       "4  [('timeless', POS), ( 'classic', NN), ( 'deman...  "
      ]
     },
     "execution_count": 9,
     "metadata": {},
     "output_type": "execute_result"
    }
   ],
   "source": [
    "pos_tagged_keyed_reviews = pd.concat([uniqueKey_series_df, tagged_df], axis=1);\n",
    "pos_tagged_keyed_reviews.head()"
   ]
  },
  {
   "cell_type": "code",
   "execution_count": 10,
   "metadata": {},
   "outputs": [],
   "source": [
    "pos_tagged_keyed_reviews.to_csv(\"../data/interim/002_pos_tagged_keyed_reviews.csv\", sep='\\t', header=True, index=False);"
   ]
  },
  {
   "cell_type": "code",
   "execution_count": 11,
   "metadata": {
    "collapsed": true
   },
   "outputs": [],
   "source": [
    "## END_OF_FILE"
   ]
  }
 ],
 "metadata": {
  "kernelspec": {
   "display_name": "Python 3",
   "language": "python",
   "name": "python3"
  },
  "language_info": {
   "codemirror_mode": {
    "name": "ipython",
    "version": 3
   },
   "file_extension": ".py",
   "mimetype": "text/x-python",
   "name": "python",
   "nbconvert_exporter": "python",
   "pygments_lexer": "ipython3",
   "version": "3.6.2"
  }
 },
 "nbformat": 4,
 "nbformat_minor": 2
}
