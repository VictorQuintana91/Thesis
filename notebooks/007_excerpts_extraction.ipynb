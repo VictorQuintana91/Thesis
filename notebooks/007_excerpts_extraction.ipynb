{
 "cells": [
  {
   "cell_type": "markdown",
   "metadata": {},
   "source": [
    "# Excerpts Extraction "
   ]
  },
  {
   "cell_type": "code",
   "execution_count": 1,
   "metadata": {
    "collapsed": true
   },
   "outputs": [],
   "source": [
    "# For monitoring duration of pandas processes\n",
    "from tqdm import tqdm, tqdm_pandas\n",
    "\n",
    "# To avoid RuntimeError: Set changed size during iteration\n",
    "tqdm.monitor_interval = 0\n",
    "\n",
    "# Register `pandas.progress_apply` and `pandas.Series.map_apply` with `tqdm`\n",
    "# (can use `tqdm_gui`, `tqdm_notebook`, optional kwargs, etc.)\n",
    "tqdm.pandas(desc=\"Progress:\")\n",
    "\n",
    "# Now you can use `progress_apply` instead of `apply`\n",
    "# and `progress_map` instead of `map`\n",
    "# can also groupby:\n",
    "# df.groupby(0).progress_apply(lambda x: x**2)"
   ]
  },
  {
   "cell_type": "code",
   "execution_count": 2,
   "metadata": {
    "collapsed": true
   },
   "outputs": [],
   "source": [
    "import pandas as pd\n",
    "import numpy as np\n",
    "import nltk"
   ]
  },
  {
   "cell_type": "code",
   "execution_count": 3,
   "metadata": {},
   "outputs": [
    {
     "name": "stdout",
     "output_type": "stream",
     "text": [
      "0.12.1\n"
     ]
    }
   ],
   "source": [
    "import plotly \n",
    "import plotly.plotly as py\n",
    "from plotly.offline import download_plotlyjs, init_notebook_mode, plot, iplot\n",
    "import cufflinks as cf\n",
    "print(cf.__version__)\n",
    "# Configure cufflings \n",
    "cf.set_config_file(offline=False, world_readable=True, theme='pearl')"
   ]
  },
  {
   "cell_type": "code",
   "execution_count": 4,
   "metadata": {},
   "outputs": [
    {
     "data": {
      "text/html": [
       "<div>\n",
       "<style scoped>\n",
       "    .dataframe tbody tr th:only-of-type {\n",
       "        vertical-align: middle;\n",
       "    }\n",
       "\n",
       "    .dataframe tbody tr th {\n",
       "        vertical-align: top;\n",
       "    }\n",
       "\n",
       "    .dataframe thead th {\n",
       "        text-align: right;\n",
       "    }\n",
       "</style>\n",
       "<table border=\"1\" class=\"dataframe\">\n",
       "  <thead>\n",
       "    <tr style=\"text-align: right;\">\n",
       "      <th></th>\n",
       "      <th>reviewerID</th>\n",
       "      <th>asin</th>\n",
       "      <th>reviewText</th>\n",
       "      <th>overall</th>\n",
       "    </tr>\n",
       "  </thead>\n",
       "  <tbody>\n",
       "    <tr>\n",
       "      <th>0</th>\n",
       "      <td>A2XQ5LZHTD4AFT</td>\n",
       "      <td>000100039X</td>\n",
       "      <td>A timeless classic.  It is a very demanding an...</td>\n",
       "      <td>5.0</td>\n",
       "    </tr>\n",
       "    <tr>\n",
       "      <th>1</th>\n",
       "      <td>AF7CSSGV93RXN</td>\n",
       "      <td>000100039X</td>\n",
       "      <td>I first read The Prophet by Kahlil Gibran over...</td>\n",
       "      <td>5.0</td>\n",
       "    </tr>\n",
       "    <tr>\n",
       "      <th>2</th>\n",
       "      <td>A1NPNGWBVD9AK3</td>\n",
       "      <td>000100039X</td>\n",
       "      <td>This is one of the first (literary) books I re...</td>\n",
       "      <td>5.0</td>\n",
       "    </tr>\n",
       "    <tr>\n",
       "      <th>3</th>\n",
       "      <td>A3IS4WGMFR4X65</td>\n",
       "      <td>000100039X</td>\n",
       "      <td>The Prophet is Kahlil Gibran's best known work...</td>\n",
       "      <td>5.0</td>\n",
       "    </tr>\n",
       "    <tr>\n",
       "      <th>4</th>\n",
       "      <td>AWLFVCT9128JV</td>\n",
       "      <td>000100039X</td>\n",
       "      <td>Gibran Khalil Gibran was born in 1883 in what ...</td>\n",
       "      <td>5.0</td>\n",
       "    </tr>\n",
       "  </tbody>\n",
       "</table>\n",
       "</div>"
      ],
      "text/plain": [
       "       reviewerID        asin  \\\n",
       "0  A2XQ5LZHTD4AFT  000100039X   \n",
       "1   AF7CSSGV93RXN  000100039X   \n",
       "2  A1NPNGWBVD9AK3  000100039X   \n",
       "3  A3IS4WGMFR4X65  000100039X   \n",
       "4   AWLFVCT9128JV  000100039X   \n",
       "\n",
       "                                          reviewText  overall  \n",
       "0  A timeless classic.  It is a very demanding an...      5.0  \n",
       "1  I first read The Prophet by Kahlil Gibran over...      5.0  \n",
       "2  This is one of the first (literary) books I re...      5.0  \n",
       "3  The Prophet is Kahlil Gibran's best known work...      5.0  \n",
       "4  Gibran Khalil Gibran was born in 1883 in what ...      5.0  "
      ]
     },
     "execution_count": 4,
     "metadata": {},
     "output_type": "execute_result"
    }
   ],
   "source": [
    "reviews_and_ratings_df = pd.read_pickle('../data/interim/001_pre_processed_reviews+and_ratings.p')\n",
    "reviews_and_ratings_df.head()"
   ]
  },
  {
   "cell_type": "code",
   "execution_count": 5,
   "metadata": {
    "collapsed": true
   },
   "outputs": [],
   "source": [
    "reviews_vs_feature_opinion_pairs = pd.read_pickle(\"../data/interim/006_pairs_per_review.p\")"
   ]
  },
  {
   "cell_type": "code",
   "execution_count": 6,
   "metadata": {},
   "outputs": [
    {
     "data": {
      "text/html": [
       "<div>\n",
       "<style scoped>\n",
       "    .dataframe tbody tr th:only-of-type {\n",
       "        vertical-align: middle;\n",
       "    }\n",
       "\n",
       "    .dataframe tbody tr th {\n",
       "        vertical-align: top;\n",
       "    }\n",
       "\n",
       "    .dataframe thead th {\n",
       "        text-align: right;\n",
       "    }\n",
       "</style>\n",
       "<table border=\"1\" class=\"dataframe\">\n",
       "  <thead>\n",
       "    <tr style=\"text-align: right;\">\n",
       "      <th></th>\n",
       "      <th>userId</th>\n",
       "      <th>asin</th>\n",
       "      <th>reviewText</th>\n",
       "      <th>imp_nns</th>\n",
       "      <th>num_of_imp_nouns</th>\n",
       "      <th>pairs</th>\n",
       "      <th>num_of_pairs</th>\n",
       "    </tr>\n",
       "  </thead>\n",
       "  <tbody>\n",
       "    <tr>\n",
       "      <th>0</th>\n",
       "      <td>A2XQ5LZHTD4AFT</td>\n",
       "      <td>000100039X</td>\n",
       "      <td>[(timeless, NN), ( classic, JJ), ( demanding, ...</td>\n",
       "      <td>[kneads, profits, preachers, territory, exile,...</td>\n",
       "      <td>26</td>\n",
       "      <td>[(birth, prophets), (book, flows)]</td>\n",
       "      <td>2</td>\n",
       "    </tr>\n",
       "    <tr>\n",
       "      <th>2</th>\n",
       "      <td>A1NPNGWBVD9AK3</td>\n",
       "      <td>000100039X</td>\n",
       "      <td>[(one, CD), ( first, NNP), ( literary, JJ), ( ...</td>\n",
       "      <td>[kneads, profits, preachers, territory, exile,...</td>\n",
       "      <td>26</td>\n",
       "      <td>[(relevant, catechism), (within, prophets), (t...</td>\n",
       "      <td>4</td>\n",
       "    </tr>\n",
       "    <tr>\n",
       "      <th>4</th>\n",
       "      <td>AWLFVCT9128JV</td>\n",
       "      <td>000100039X</td>\n",
       "      <td>[(gibran, NN), ( khalil, NNP), ( gibran, NNP),...</td>\n",
       "      <td>[kneads, profits, preachers, territory, exile,...</td>\n",
       "      <td>26</td>\n",
       "      <td>[(forty-eight, almustafa)]</td>\n",
       "      <td>1</td>\n",
       "    </tr>\n",
       "    <tr>\n",
       "      <th>5</th>\n",
       "      <td>AFY0BT42DDYZV</td>\n",
       "      <td>000100039X</td>\n",
       "      <td>[(days, NNS), ( kahlil, VBP), ( gibrans, NNS),...</td>\n",
       "      <td>[kneads, profits, preachers, territory, exile,...</td>\n",
       "      <td>26</td>\n",
       "      <td>[(souls, profits), (wordofmouth, twentysix), (...</td>\n",
       "      <td>3</td>\n",
       "    </tr>\n",
       "    <tr>\n",
       "      <th>13</th>\n",
       "      <td>A2ZZHMT58ZMVCZ</td>\n",
       "      <td>000100039X</td>\n",
       "      <td>[(prophet, NN), ( waited, VBD), ( twelve, CD),...</td>\n",
       "      <td>[kneads, profits, preachers, territory, exile,...</td>\n",
       "      <td>26</td>\n",
       "      <td>[(bear, departs), (others, pillars), (similar,...</td>\n",
       "      <td>4</td>\n",
       "    </tr>\n",
       "  </tbody>\n",
       "</table>\n",
       "</div>"
      ],
      "text/plain": [
       "            userId        asin  \\\n",
       "0   A2XQ5LZHTD4AFT  000100039X   \n",
       "2   A1NPNGWBVD9AK3  000100039X   \n",
       "4    AWLFVCT9128JV  000100039X   \n",
       "5    AFY0BT42DDYZV  000100039X   \n",
       "13  A2ZZHMT58ZMVCZ  000100039X   \n",
       "\n",
       "                                           reviewText  \\\n",
       "0   [(timeless, NN), ( classic, JJ), ( demanding, ...   \n",
       "2   [(one, CD), ( first, NNP), ( literary, JJ), ( ...   \n",
       "4   [(gibran, NN), ( khalil, NNP), ( gibran, NNP),...   \n",
       "5   [(days, NNS), ( kahlil, VBP), ( gibrans, NNS),...   \n",
       "13  [(prophet, NN), ( waited, VBD), ( twelve, CD),...   \n",
       "\n",
       "                                              imp_nns num_of_imp_nouns  \\\n",
       "0   [kneads, profits, preachers, territory, exile,...               26   \n",
       "2   [kneads, profits, preachers, territory, exile,...               26   \n",
       "4   [kneads, profits, preachers, territory, exile,...               26   \n",
       "5   [kneads, profits, preachers, territory, exile,...               26   \n",
       "13  [kneads, profits, preachers, territory, exile,...               26   \n",
       "\n",
       "                                                pairs  num_of_pairs  \n",
       "0                  [(birth, prophets), (book, flows)]             2  \n",
       "2   [(relevant, catechism), (within, prophets), (t...             4  \n",
       "4                          [(forty-eight, almustafa)]             1  \n",
       "5   [(souls, profits), (wordofmouth, twentysix), (...             3  \n",
       "13  [(bear, departs), (others, pillars), (similar,...             4  "
      ]
     },
     "execution_count": 6,
     "metadata": {},
     "output_type": "execute_result"
    }
   ],
   "source": [
    "reviews_vs_feature_opinion_pairs.head()"
   ]
  },
  {
   "cell_type": "code",
   "execution_count": 7,
   "metadata": {},
   "outputs": [
    {
     "data": {
      "text/html": [
       "<div>\n",
       "<style scoped>\n",
       "    .dataframe tbody tr th:only-of-type {\n",
       "        vertical-align: middle;\n",
       "    }\n",
       "\n",
       "    .dataframe tbody tr th {\n",
       "        vertical-align: top;\n",
       "    }\n",
       "\n",
       "    .dataframe thead th {\n",
       "        text-align: right;\n",
       "    }\n",
       "</style>\n",
       "<table border=\"1\" class=\"dataframe\">\n",
       "  <thead>\n",
       "    <tr style=\"text-align: right;\">\n",
       "      <th></th>\n",
       "      <th>reviewerID</th>\n",
       "      <th>asin</th>\n",
       "      <th>pairs</th>\n",
       "    </tr>\n",
       "  </thead>\n",
       "  <tbody>\n",
       "    <tr>\n",
       "      <th>0</th>\n",
       "      <td>A2XQ5LZHTD4AFT</td>\n",
       "      <td>000100039X</td>\n",
       "      <td>[(birth, prophets), (book, flows)]</td>\n",
       "    </tr>\n",
       "    <tr>\n",
       "      <th>2</th>\n",
       "      <td>A1NPNGWBVD9AK3</td>\n",
       "      <td>000100039X</td>\n",
       "      <td>[(relevant, catechism), (within, prophets), (t...</td>\n",
       "    </tr>\n",
       "    <tr>\n",
       "      <th>4</th>\n",
       "      <td>AWLFVCT9128JV</td>\n",
       "      <td>000100039X</td>\n",
       "      <td>[(forty-eight, almustafa)]</td>\n",
       "    </tr>\n",
       "    <tr>\n",
       "      <th>5</th>\n",
       "      <td>AFY0BT42DDYZV</td>\n",
       "      <td>000100039X</td>\n",
       "      <td>[(souls, profits), (wordofmouth, twentysix), (...</td>\n",
       "    </tr>\n",
       "    <tr>\n",
       "      <th>13</th>\n",
       "      <td>A2ZZHMT58ZMVCZ</td>\n",
       "      <td>000100039X</td>\n",
       "      <td>[(bear, departs), (others, pillars), (similar,...</td>\n",
       "    </tr>\n",
       "  </tbody>\n",
       "</table>\n",
       "</div>"
      ],
      "text/plain": [
       "        reviewerID        asin  \\\n",
       "0   A2XQ5LZHTD4AFT  000100039X   \n",
       "2   A1NPNGWBVD9AK3  000100039X   \n",
       "4    AWLFVCT9128JV  000100039X   \n",
       "5    AFY0BT42DDYZV  000100039X   \n",
       "13  A2ZZHMT58ZMVCZ  000100039X   \n",
       "\n",
       "                                                pairs  \n",
       "0                  [(birth, prophets), (book, flows)]  \n",
       "2   [(relevant, catechism), (within, prophets), (t...  \n",
       "4                          [(forty-eight, almustafa)]  \n",
       "5   [(souls, profits), (wordofmouth, twentysix), (...  \n",
       "13  [(bear, departs), (others, pillars), (similar,...  "
      ]
     },
     "execution_count": 7,
     "metadata": {},
     "output_type": "execute_result"
    }
   ],
   "source": [
    "df00 = reviews_vs_feature_opinion_pairs[['userId','asin','pairs']]\n",
    "df00.columns = ['reviewerID','asin','pairs']\n",
    "df00.head()"
   ]
  },
  {
   "cell_type": "code",
   "execution_count": 8,
   "metadata": {},
   "outputs": [
    {
     "data": {
      "text/html": [
       "<div>\n",
       "<style scoped>\n",
       "    .dataframe tbody tr th:only-of-type {\n",
       "        vertical-align: middle;\n",
       "    }\n",
       "\n",
       "    .dataframe tbody tr th {\n",
       "        vertical-align: top;\n",
       "    }\n",
       "\n",
       "    .dataframe thead th {\n",
       "        text-align: right;\n",
       "    }\n",
       "</style>\n",
       "<table border=\"1\" class=\"dataframe\">\n",
       "  <thead>\n",
       "    <tr style=\"text-align: right;\">\n",
       "      <th></th>\n",
       "      <th>reviewerID</th>\n",
       "      <th>asin</th>\n",
       "      <th>pairs</th>\n",
       "      <th>reviewText</th>\n",
       "      <th>overall</th>\n",
       "    </tr>\n",
       "  </thead>\n",
       "  <tbody>\n",
       "    <tr>\n",
       "      <th>0</th>\n",
       "      <td>A2XQ5LZHTD4AFT</td>\n",
       "      <td>000100039X</td>\n",
       "      <td>[(birth, prophets), (book, flows)]</td>\n",
       "      <td>A timeless classic.  It is a very demanding an...</td>\n",
       "      <td>5.0</td>\n",
       "    </tr>\n",
       "    <tr>\n",
       "      <th>1</th>\n",
       "      <td>A1NPNGWBVD9AK3</td>\n",
       "      <td>000100039X</td>\n",
       "      <td>[(relevant, catechism), (within, prophets), (t...</td>\n",
       "      <td>This is one of the first (literary) books I re...</td>\n",
       "      <td>5.0</td>\n",
       "    </tr>\n",
       "    <tr>\n",
       "      <th>2</th>\n",
       "      <td>AWLFVCT9128JV</td>\n",
       "      <td>000100039X</td>\n",
       "      <td>[(forty-eight, almustafa)]</td>\n",
       "      <td>Gibran Khalil Gibran was born in 1883 in what ...</td>\n",
       "      <td>5.0</td>\n",
       "    </tr>\n",
       "    <tr>\n",
       "      <th>3</th>\n",
       "      <td>AFY0BT42DDYZV</td>\n",
       "      <td>000100039X</td>\n",
       "      <td>[(souls, profits), (wordofmouth, twentysix), (...</td>\n",
       "      <td>These days, Kahlil Gibran's \"The Prophet\" ofte...</td>\n",
       "      <td>5.0</td>\n",
       "    </tr>\n",
       "    <tr>\n",
       "      <th>4</th>\n",
       "      <td>A2ZZHMT58ZMVCZ</td>\n",
       "      <td>000100039X</td>\n",
       "      <td>[(bear, departs), (others, pillars), (similar,...</td>\n",
       "      <td>A prophet has waited twelve years in a coastal...</td>\n",
       "      <td>5.0</td>\n",
       "    </tr>\n",
       "    <tr>\n",
       "      <th>5</th>\n",
       "      <td>ADIDQRLLR4KBQ</td>\n",
       "      <td>000100039X</td>\n",
       "      <td>[(beautiful, metaphors), (live, prophets)]</td>\n",
       "      <td>Being an Atheist, it may seem strange to some ...</td>\n",
       "      <td>5.0</td>\n",
       "    </tr>\n",
       "    <tr>\n",
       "      <th>6</th>\n",
       "      <td>A281NPSIMI1C2R</td>\n",
       "      <td>000100039X</td>\n",
       "      <td>[(pain, waves), (separate, almustafa)]</td>\n",
       "      <td>I am alive like you, and I am standing beside ...</td>\n",
       "      <td>5.0</td>\n",
       "    </tr>\n",
       "    <tr>\n",
       "      <th>7</th>\n",
       "      <td>A2R64CR74I98K3</td>\n",
       "      <td>000100039X</td>\n",
       "      <td>[(religious, texts)]</td>\n",
       "      <td>This is a very usefull book that can be used a...</td>\n",
       "      <td>5.0</td>\n",
       "    </tr>\n",
       "    <tr>\n",
       "      <th>8</th>\n",
       "      <td>AF4QKY2R2TD3U</td>\n",
       "      <td>000100039X</td>\n",
       "      <td>[(rich, metaphors)]</td>\n",
       "      <td>\"Say not, 'I have found the truth,' but rather...</td>\n",
       "      <td>5.0</td>\n",
       "    </tr>\n",
       "    <tr>\n",
       "      <th>9</th>\n",
       "      <td>A3SMT15X2QVUR8</td>\n",
       "      <td>000100039X</td>\n",
       "      <td>[(orphalese, metaphor)]</td>\n",
       "      <td>The Prophet Almustafa waits in the city of Orp...</td>\n",
       "      <td>5.0</td>\n",
       "    </tr>\n",
       "    <tr>\n",
       "      <th>10</th>\n",
       "      <td>A2INDDW3XYFFV1</td>\n",
       "      <td>000100039X</td>\n",
       "      <td>[(home, prophets)]</td>\n",
       "      <td>Khalil Gibran's The Prophet is a truly awe ins...</td>\n",
       "      <td>5.0</td>\n",
       "    </tr>\n",
       "    <tr>\n",
       "      <th>11</th>\n",
       "      <td>A1CSL3TFTFOTWH</td>\n",
       "      <td>0002051850</td>\n",
       "      <td>[(independent, periods), (story, progresses), ...</td>\n",
       "      <td>I found this book, which takes place during th...</td>\n",
       "      <td>2.0</td>\n",
       "    </tr>\n",
       "    <tr>\n",
       "      <th>12</th>\n",
       "      <td>A313LJLZT8646J</td>\n",
       "      <td>0002051850</td>\n",
       "      <td>[(consistent, dire), (nine hundred and thirty-...</td>\n",
       "      <td>For Whom The Bell Tolls by Ernest HemingwayBoo...</td>\n",
       "      <td>5.0</td>\n",
       "    </tr>\n",
       "    <tr>\n",
       "      <th>13</th>\n",
       "      <td>AHCVWPLA1O4X8</td>\n",
       "      <td>0002051850</td>\n",
       "      <td>[(american, spain), (fact, thee)]</td>\n",
       "      <td>This is one of the greatest modernist novels t...</td>\n",
       "      <td>5.0</td>\n",
       "    </tr>\n",
       "    <tr>\n",
       "      <th>14</th>\n",
       "      <td>A1K1JW1C5CUSUZ</td>\n",
       "      <td>0002051850</td>\n",
       "      <td>[(political, fascism), (extensive, flashbacks)...</td>\n",
       "      <td>Hemingway's magnificent novel has something fo...</td>\n",
       "      <td>5.0</td>\n",
       "    </tr>\n",
       "    <tr>\n",
       "      <th>15</th>\n",
       "      <td>A33R4E8T9KVLOM</td>\n",
       "      <td>0002051850</td>\n",
       "      <td>[(read, spain), (indepth, reflects), (sadistic...</td>\n",
       "      <td>Robert Jordan is one of the most exciting, int...</td>\n",
       "      <td>5.0</td>\n",
       "    </tr>\n",
       "    <tr>\n",
       "      <th>16</th>\n",
       "      <td>A3IKBHODOTYYHM</td>\n",
       "      <td>0002051850</td>\n",
       "      <td>[(sold, spain)]</td>\n",
       "      <td>In this novel the sum is more consequential th...</td>\n",
       "      <td>4.0</td>\n",
       "    </tr>\n",
       "    <tr>\n",
       "      <th>17</th>\n",
       "      <td>A1PN3R8DXRQ1C3</td>\n",
       "      <td>0002051850</td>\n",
       "      <td>[(western, spain), (many, intellectuals), (des...</td>\n",
       "      <td>The Spanish Civil War was surely the most brut...</td>\n",
       "      <td>2.0</td>\n",
       "    </tr>\n",
       "    <tr>\n",
       "      <th>18</th>\n",
       "      <td>A1RECBDKHVOJMW</td>\n",
       "      <td>0002051850</td>\n",
       "      <td>[(european, spain), (red, spain), (conservativ...</td>\n",
       "      <td>\"For Whom The Bell Tolls\" has long been my fav...</td>\n",
       "      <td>5.0</td>\n",
       "    </tr>\n",
       "    <tr>\n",
       "      <th>19</th>\n",
       "      <td>A3SI6F1RGCTAOH</td>\n",
       "      <td>0002051850</td>\n",
       "      <td>[(war, shines), (sex, declarations), (novel, c...</td>\n",
       "      <td>The last time I read Hemingway's novels was so...</td>\n",
       "      <td>4.0</td>\n",
       "    </tr>\n",
       "    <tr>\n",
       "      <th>20</th>\n",
       "      <td>A3QZCA4LTTVGAD</td>\n",
       "      <td>0002051850</td>\n",
       "      <td>[(republican, guerrilla), (various, focuses), ...</td>\n",
       "      <td>Set during the Spanish Civil War, Ernest Hemin...</td>\n",
       "      <td>5.0</td>\n",
       "    </tr>\n",
       "    <tr>\n",
       "      <th>21</th>\n",
       "      <td>A1MC81HLJ6Z9ZQ</td>\n",
       "      <td>0002051850</td>\n",
       "      <td>[(horrible, affair), (pull, coltish), (content...</td>\n",
       "      <td>Just about anything Hemingway ever wrote was p...</td>\n",
       "      <td>5.0</td>\n",
       "    </tr>\n",
       "    <tr>\n",
       "      <th>22</th>\n",
       "      <td>A8IPQ1Q1O7YX5</td>\n",
       "      <td>0002051850</td>\n",
       "      <td>[(enemy, guerrilla)]</td>\n",
       "      <td>I don't think I have ever taken so long to rea...</td>\n",
       "      <td>4.0</td>\n",
       "    </tr>\n",
       "    <tr>\n",
       "      <th>23</th>\n",
       "      <td>A3Q9K57FARA2WQ</td>\n",
       "      <td>0002051850</td>\n",
       "      <td>[(american, spain)]</td>\n",
       "      <td>What more is there to say about this masterpie...</td>\n",
       "      <td>5.0</td>\n",
       "    </tr>\n",
       "    <tr>\n",
       "      <th>24</th>\n",
       "      <td>A3KRRXPFEAO6V</td>\n",
       "      <td>0002051850</td>\n",
       "      <td>[(fascist, threatens), (latter, partners), (co...</td>\n",
       "      <td>Ernest Hemingway - For Whom The Bell TollsFor ...</td>\n",
       "      <td>5.0</td>\n",
       "    </tr>\n",
       "    <tr>\n",
       "      <th>25</th>\n",
       "      <td>A1RLYOPK16YXC1</td>\n",
       "      <td>0002051850</td>\n",
       "      <td>[(american, spain), (missions, guerrilla), (pr...</td>\n",
       "      <td>FOR WHOM THE BELL TOLLS takes place in the spa...</td>\n",
       "      <td>5.0</td>\n",
       "    </tr>\n",
       "    <tr>\n",
       "      <th>26</th>\n",
       "      <td>AMTADN8VCK6J2</td>\n",
       "      <td>0002051850</td>\n",
       "      <td>[(story, mountains)]</td>\n",
       "      <td>This novel is considered by most to be one of ...</td>\n",
       "      <td>4.0</td>\n",
       "    </tr>\n",
       "    <tr>\n",
       "      <th>27</th>\n",
       "      <td>A29SHFBU5O9BWO</td>\n",
       "      <td>0002051850</td>\n",
       "      <td>[(literary, greatness), (suitable, achievement...</td>\n",
       "      <td>Perhaps the bell tolled for Ernest and his bid...</td>\n",
       "      <td>4.0</td>\n",
       "    </tr>\n",
       "    <tr>\n",
       "      <th>28</th>\n",
       "      <td>A2EQ74Y24BHHIF</td>\n",
       "      <td>0002113570</td>\n",
       "      <td>[(like, michener), (could, homo), (common, anc...</td>\n",
       "      <td>Jane Goodall is a unique undividual whose work...</td>\n",
       "      <td>5.0</td>\n",
       "    </tr>\n",
       "    <tr>\n",
       "      <th>29</th>\n",
       "      <td>A2KUKUSSSAYAKH</td>\n",
       "      <td>0002117088</td>\n",
       "      <td>[(hip, surgery), (hip, goodnight), (come, clau...</td>\n",
       "      <td>We adopted &amp;quot;Renoir, My Father&amp;quot; as be...</td>\n",
       "      <td>5.0</td>\n",
       "    </tr>\n",
       "    <tr>\n",
       "      <th>30</th>\n",
       "      <td>A280GY5UVUS2QH</td>\n",
       "      <td>000215725X</td>\n",
       "      <td>[(thought, fraser), (one, fraser), (nineteenth...</td>\n",
       "      <td>William Dalrymple is a historian and brings co...</td>\n",
       "      <td>5.0</td>\n",
       "    </tr>\n",
       "  </tbody>\n",
       "</table>\n",
       "</div>"
      ],
      "text/plain": [
       "        reviewerID        asin  \\\n",
       "0   A2XQ5LZHTD4AFT  000100039X   \n",
       "1   A1NPNGWBVD9AK3  000100039X   \n",
       "2    AWLFVCT9128JV  000100039X   \n",
       "3    AFY0BT42DDYZV  000100039X   \n",
       "4   A2ZZHMT58ZMVCZ  000100039X   \n",
       "5    ADIDQRLLR4KBQ  000100039X   \n",
       "6   A281NPSIMI1C2R  000100039X   \n",
       "7   A2R64CR74I98K3  000100039X   \n",
       "8    AF4QKY2R2TD3U  000100039X   \n",
       "9   A3SMT15X2QVUR8  000100039X   \n",
       "10  A2INDDW3XYFFV1  000100039X   \n",
       "11  A1CSL3TFTFOTWH  0002051850   \n",
       "12  A313LJLZT8646J  0002051850   \n",
       "13   AHCVWPLA1O4X8  0002051850   \n",
       "14  A1K1JW1C5CUSUZ  0002051850   \n",
       "15  A33R4E8T9KVLOM  0002051850   \n",
       "16  A3IKBHODOTYYHM  0002051850   \n",
       "17  A1PN3R8DXRQ1C3  0002051850   \n",
       "18  A1RECBDKHVOJMW  0002051850   \n",
       "19  A3SI6F1RGCTAOH  0002051850   \n",
       "20  A3QZCA4LTTVGAD  0002051850   \n",
       "21  A1MC81HLJ6Z9ZQ  0002051850   \n",
       "22   A8IPQ1Q1O7YX5  0002051850   \n",
       "23  A3Q9K57FARA2WQ  0002051850   \n",
       "24   A3KRRXPFEAO6V  0002051850   \n",
       "25  A1RLYOPK16YXC1  0002051850   \n",
       "26   AMTADN8VCK6J2  0002051850   \n",
       "27  A29SHFBU5O9BWO  0002051850   \n",
       "28  A2EQ74Y24BHHIF  0002113570   \n",
       "29  A2KUKUSSSAYAKH  0002117088   \n",
       "30  A280GY5UVUS2QH  000215725X   \n",
       "\n",
       "                                                pairs  \\\n",
       "0                  [(birth, prophets), (book, flows)]   \n",
       "1   [(relevant, catechism), (within, prophets), (t...   \n",
       "2                          [(forty-eight, almustafa)]   \n",
       "3   [(souls, profits), (wordofmouth, twentysix), (...   \n",
       "4   [(bear, departs), (others, pillars), (similar,...   \n",
       "5          [(beautiful, metaphors), (live, prophets)]   \n",
       "6              [(pain, waves), (separate, almustafa)]   \n",
       "7                                [(religious, texts)]   \n",
       "8                                 [(rich, metaphors)]   \n",
       "9                             [(orphalese, metaphor)]   \n",
       "10                                 [(home, prophets)]   \n",
       "11  [(independent, periods), (story, progresses), ...   \n",
       "12  [(consistent, dire), (nine hundred and thirty-...   \n",
       "13                  [(american, spain), (fact, thee)]   \n",
       "14  [(political, fascism), (extensive, flashbacks)...   \n",
       "15  [(read, spain), (indepth, reflects), (sadistic...   \n",
       "16                                    [(sold, spain)]   \n",
       "17  [(western, spain), (many, intellectuals), (des...   \n",
       "18  [(european, spain), (red, spain), (conservativ...   \n",
       "19  [(war, shines), (sex, declarations), (novel, c...   \n",
       "20  [(republican, guerrilla), (various, focuses), ...   \n",
       "21  [(horrible, affair), (pull, coltish), (content...   \n",
       "22                               [(enemy, guerrilla)]   \n",
       "23                                [(american, spain)]   \n",
       "24  [(fascist, threatens), (latter, partners), (co...   \n",
       "25  [(american, spain), (missions, guerrilla), (pr...   \n",
       "26                               [(story, mountains)]   \n",
       "27  [(literary, greatness), (suitable, achievement...   \n",
       "28  [(like, michener), (could, homo), (common, anc...   \n",
       "29  [(hip, surgery), (hip, goodnight), (come, clau...   \n",
       "30  [(thought, fraser), (one, fraser), (nineteenth...   \n",
       "\n",
       "                                           reviewText  overall  \n",
       "0   A timeless classic.  It is a very demanding an...      5.0  \n",
       "1   This is one of the first (literary) books I re...      5.0  \n",
       "2   Gibran Khalil Gibran was born in 1883 in what ...      5.0  \n",
       "3   These days, Kahlil Gibran's \"The Prophet\" ofte...      5.0  \n",
       "4   A prophet has waited twelve years in a coastal...      5.0  \n",
       "5   Being an Atheist, it may seem strange to some ...      5.0  \n",
       "6   I am alive like you, and I am standing beside ...      5.0  \n",
       "7   This is a very usefull book that can be used a...      5.0  \n",
       "8   \"Say not, 'I have found the truth,' but rather...      5.0  \n",
       "9   The Prophet Almustafa waits in the city of Orp...      5.0  \n",
       "10  Khalil Gibran's The Prophet is a truly awe ins...      5.0  \n",
       "11  I found this book, which takes place during th...      2.0  \n",
       "12  For Whom The Bell Tolls by Ernest HemingwayBoo...      5.0  \n",
       "13  This is one of the greatest modernist novels t...      5.0  \n",
       "14  Hemingway's magnificent novel has something fo...      5.0  \n",
       "15  Robert Jordan is one of the most exciting, int...      5.0  \n",
       "16  In this novel the sum is more consequential th...      4.0  \n",
       "17  The Spanish Civil War was surely the most brut...      2.0  \n",
       "18  \"For Whom The Bell Tolls\" has long been my fav...      5.0  \n",
       "19  The last time I read Hemingway's novels was so...      4.0  \n",
       "20  Set during the Spanish Civil War, Ernest Hemin...      5.0  \n",
       "21  Just about anything Hemingway ever wrote was p...      5.0  \n",
       "22  I don't think I have ever taken so long to rea...      4.0  \n",
       "23  What more is there to say about this masterpie...      5.0  \n",
       "24  Ernest Hemingway - For Whom The Bell TollsFor ...      5.0  \n",
       "25  FOR WHOM THE BELL TOLLS takes place in the spa...      5.0  \n",
       "26  This novel is considered by most to be one of ...      4.0  \n",
       "27  Perhaps the bell tolled for Ernest and his bid...      4.0  \n",
       "28  Jane Goodall is a unique undividual whose work...      5.0  \n",
       "29  We adopted &quot;Renoir, My Father&quot; as be...      5.0  \n",
       "30  William Dalrymple is a historian and brings co...      5.0  "
      ]
     },
     "execution_count": 8,
     "metadata": {},
     "output_type": "execute_result"
    }
   ],
   "source": [
    "df01 = df00.merge(reviews_and_ratings_df, left_on=['reviewerID','asin'], right_on=['reviewerID','asin'], how='inner')\n",
    "df01[0:31]"
   ]
  },
  {
   "cell_type": "markdown",
   "metadata": {},
   "source": [
    "### Break reviews to their composing sentences"
   ]
  },
  {
   "cell_type": "code",
   "execution_count": 9,
   "metadata": {},
   "outputs": [
    {
     "name": "stderr",
     "output_type": "stream",
     "text": [
      "Progress:: 100%|██████████| 249871/249871 [02:07<00:00, 1957.10it/s]\n"
     ]
    },
    {
     "data": {
      "text/html": [
       "<div>\n",
       "<style scoped>\n",
       "    .dataframe tbody tr th:only-of-type {\n",
       "        vertical-align: middle;\n",
       "    }\n",
       "\n",
       "    .dataframe tbody tr th {\n",
       "        vertical-align: top;\n",
       "    }\n",
       "\n",
       "    .dataframe thead th {\n",
       "        text-align: right;\n",
       "    }\n",
       "</style>\n",
       "<table border=\"1\" class=\"dataframe\">\n",
       "  <thead>\n",
       "    <tr style=\"text-align: right;\">\n",
       "      <th></th>\n",
       "      <th>reviewerID</th>\n",
       "      <th>asin</th>\n",
       "      <th>pairs</th>\n",
       "      <th>reviewText</th>\n",
       "      <th>overall</th>\n",
       "    </tr>\n",
       "  </thead>\n",
       "  <tbody>\n",
       "    <tr>\n",
       "      <th>0</th>\n",
       "      <td>A2XQ5LZHTD4AFT</td>\n",
       "      <td>000100039X</td>\n",
       "      <td>[(birth, prophets), (book, flows)]</td>\n",
       "      <td>[A timeless classic., It is a very demanding a...</td>\n",
       "      <td>5.0</td>\n",
       "    </tr>\n",
       "    <tr>\n",
       "      <th>1</th>\n",
       "      <td>A1NPNGWBVD9AK3</td>\n",
       "      <td>000100039X</td>\n",
       "      <td>[(relevant, catechism), (within, prophets), (t...</td>\n",
       "      <td>[This is one of the first (literary) books I r...</td>\n",
       "      <td>5.0</td>\n",
       "    </tr>\n",
       "    <tr>\n",
       "      <th>2</th>\n",
       "      <td>AWLFVCT9128JV</td>\n",
       "      <td>000100039X</td>\n",
       "      <td>[(forty-eight, almustafa)]</td>\n",
       "      <td>[Gibran Khalil Gibran was born in 1883 in what...</td>\n",
       "      <td>5.0</td>\n",
       "    </tr>\n",
       "    <tr>\n",
       "      <th>3</th>\n",
       "      <td>AFY0BT42DDYZV</td>\n",
       "      <td>000100039X</td>\n",
       "      <td>[(souls, profits), (wordofmouth, twentysix), (...</td>\n",
       "      <td>[These days, Kahlil Gibran's \"The Prophet\" oft...</td>\n",
       "      <td>5.0</td>\n",
       "    </tr>\n",
       "    <tr>\n",
       "      <th>4</th>\n",
       "      <td>A2ZZHMT58ZMVCZ</td>\n",
       "      <td>000100039X</td>\n",
       "      <td>[(bear, departs), (others, pillars), (similar,...</td>\n",
       "      <td>[A prophet has waited twelve years in a coasta...</td>\n",
       "      <td>5.0</td>\n",
       "    </tr>\n",
       "  </tbody>\n",
       "</table>\n",
       "</div>"
      ],
      "text/plain": [
       "       reviewerID        asin  \\\n",
       "0  A2XQ5LZHTD4AFT  000100039X   \n",
       "1  A1NPNGWBVD9AK3  000100039X   \n",
       "2   AWLFVCT9128JV  000100039X   \n",
       "3   AFY0BT42DDYZV  000100039X   \n",
       "4  A2ZZHMT58ZMVCZ  000100039X   \n",
       "\n",
       "                                               pairs  \\\n",
       "0                 [(birth, prophets), (book, flows)]   \n",
       "1  [(relevant, catechism), (within, prophets), (t...   \n",
       "2                         [(forty-eight, almustafa)]   \n",
       "3  [(souls, profits), (wordofmouth, twentysix), (...   \n",
       "4  [(bear, departs), (others, pillars), (similar,...   \n",
       "\n",
       "                                          reviewText  overall  \n",
       "0  [A timeless classic., It is a very demanding a...      5.0  \n",
       "1  [This is one of the first (literary) books I r...      5.0  \n",
       "2  [Gibran Khalil Gibran was born in 1883 in what...      5.0  \n",
       "3  [These days, Kahlil Gibran's \"The Prophet\" oft...      5.0  \n",
       "4  [A prophet has waited twelve years in a coasta...      5.0  "
      ]
     },
     "execution_count": 9,
     "metadata": {},
     "output_type": "execute_result"
    }
   ],
   "source": [
    "from nltk.tokenize import sent_tokenize\n",
    "df01['reviewText'] = df01['reviewText'].progress_apply(lambda review: sent_tokenize(review))\n",
    "df01.head()"
   ]
  },
  {
   "cell_type": "markdown",
   "metadata": {},
   "source": [
    "After identifying the distinct sentences, next we need to apply the same normalisation process we employed at the beggining of this project, but this time on each sentence rather than on reviews."
   ]
  },
  {
   "cell_type": "code",
   "execution_count": 10,
   "metadata": {
    "collapsed": true
   },
   "outputs": [],
   "source": [
    "# Word Tokenize\n",
    "import re\n",
    "import string\n",
    "import inflect\n",
    "from nltk.corpus import wordnet\n",
    "from nltk.tokenize import RegexpTokenizer\n",
    "from nltk.tokenize import regexp_tokenize\n",
    "tokenizer=RegexpTokenizer('[\\'\\w\\-]+',gaps=False)\n",
    "\n",
    "# Convert to Lowercase\n",
    "def convert_to_lowercase(sentence):\n",
    "\n",
    "    for i in range(len(sentence)):\n",
    "        sentence[i] = sentence[i].lower()\n",
    "    return sentence\n",
    "\n",
    "# Eliminate Punctuation\n",
    "def eliminate_punctuation(sentence, regex):\n",
    "    new_sentence = []\n",
    "    for token in sentence:\n",
    "        new_token = regex.sub(u'', token)\n",
    "        if not new_token == u'':\n",
    "            new_sentence.append(new_token)\n",
    "    return new_sentence\n",
    "\n",
    "r1 = re.compile(\"([a-zA-Z]+)([0-9]+)\")\n",
    "r2 = re.compile(\"([0-9]+)([a-zA-Z]+)\")\n",
    "r3 = re.compile(\"([a-zA-Z]+)([0-9]+)([a-zA-Z]+)\")\n",
    "r4 = re.compile(\"([0-9]+)([a-zA-Z]+)([0-9]+)\")\n",
    "\n",
    "# Split words into numbers\n",
    "def split_words_and_nums(sentence):\n",
    "    new_sentence = []\n",
    "    for token in sentence:\n",
    "        firstRegexIsTrue = r1.match(token)\n",
    "        secondRegexIsTrue = r2.match(token)\n",
    "        thirdRegexIsTrue = r3.match(token)\n",
    "        fourthRegexIsTrue = r4.match(token)\n",
    "    \n",
    "        if(firstRegexIsTrue):\n",
    "            new_sentence.append(firstRegexIsTrue.group(0))\n",
    "            new_sentence.append(firstRegexIsTrue.group(1))\n",
    "        elif(firstRegexIsTrue):\n",
    "            new_sentence.append(secondRegexIsTrue.group(0))\n",
    "            new_sentence.append(secondRegexIsTrue.group(1))\n",
    "        elif(thirdRegexIsTrue):\n",
    "            new_sentence.append(thirdRegexIsTrue.group(0))\n",
    "            new_sentence.append(thirdRegexIsTrue.group(1))\n",
    "            new_sentence.append(thirdRegexIsTrue.group(2))\n",
    "        elif(fourthRegexIsTrue):\n",
    "            new_sentence.append(fourthRegexIsTrue.group(0))\n",
    "            new_sentence.append(fourthRegexIsTrue.group(1))\n",
    "            new_sentence.append(fourthRegexIsTrue.group(2))\n",
    "        else:\n",
    "            new_sentence.append(token)\n",
    "    return new_sentence\n",
    "\n",
    "## Convert Numbers to Words\n",
    "def numStringToWord(sentence, p):        \n",
    "    for i in range(len(sentence)):\n",
    "        if(sentence[i].isdigit()):\n",
    "            if(len(sentence[i])<10):\n",
    "                sentence[i] = p.number_to_words(sentence[i])\n",
    "    return sentence\n",
    "\n",
    "# Replace negatives with antonyms \n",
    "class AntonymReplacer(object):\n",
    "    def replace(self, token, pos=None):\n",
    "        antonyms = set()\n",
    "        for syn in wordnet.synsets(token, pos=pos):\n",
    "            for lemma in syn.lemmas():\n",
    "                for antonym in lemma.antonyms():\n",
    "                    antonyms.add(antonym.name())\n",
    "        if len(antonyms) == 1:\n",
    "            return antonyms.pop()\n",
    "        else:\n",
    "            return None\n",
    "        \n",
    "    def replace_negations(self, sentence):\n",
    "        i, l = 0, len(sentence)\n",
    "        tokens = []\n",
    "        while i<l:\n",
    "            token = sentence[i]\n",
    "            if token == 'not' and i+1 <l:\n",
    "                ant = self.replace(sentence[i+1])\n",
    "                if ant:\n",
    "                    tokens.append(ant)\n",
    "                    i += 2\n",
    "                    continue\n",
    "            tokens.append(token)\n",
    "            i += 1\n",
    "\n",
    "        return tokens"
   ]
  },
  {
   "cell_type": "code",
   "execution_count": 11,
   "metadata": {
    "collapsed": true
   },
   "outputs": [],
   "source": [
    "replacer = AntonymReplacer()\n",
    "regex=re.compile('[%s]' % re.escape(string.punctuation))\n",
    "p = inflect.engine()\n",
    "def normalise_and_tokenize_sentences(review):\n",
    "    new_review = []\n",
    "    for sentence in review:\n",
    "        step_0 = tokenizer.tokenize(sentence)\n",
    "        step_1 = convert_to_lowercase(step_0)\n",
    "        step_2 = eliminate_punctuation(step_1, regex)\n",
    "        step_3 = split_words_and_nums(step_2)\n",
    "        step_4 = numStringToWord(step_3, p)\n",
    "        step_5 = replacer.replace_negations(step_4)\n",
    "        new_review.append(step_5)\n",
    "    \n",
    "    return new_review"
   ]
  },
  {
   "cell_type": "code",
   "execution_count": 12,
   "metadata": {},
   "outputs": [
    {
     "name": "stderr",
     "output_type": "stream",
     "text": [
      "Progress:: 100%|██████████| 249871/249871 [04:22<00:00, 950.77it/s] \n"
     ]
    },
    {
     "data": {
      "text/html": [
       "<div>\n",
       "<style scoped>\n",
       "    .dataframe tbody tr th:only-of-type {\n",
       "        vertical-align: middle;\n",
       "    }\n",
       "\n",
       "    .dataframe tbody tr th {\n",
       "        vertical-align: top;\n",
       "    }\n",
       "\n",
       "    .dataframe thead th {\n",
       "        text-align: right;\n",
       "    }\n",
       "</style>\n",
       "<table border=\"1\" class=\"dataframe\">\n",
       "  <thead>\n",
       "    <tr style=\"text-align: right;\">\n",
       "      <th></th>\n",
       "      <th>reviewerID</th>\n",
       "      <th>asin</th>\n",
       "      <th>pairs</th>\n",
       "      <th>reviewText</th>\n",
       "      <th>overall</th>\n",
       "      <th>norm_sentences</th>\n",
       "    </tr>\n",
       "  </thead>\n",
       "  <tbody>\n",
       "    <tr>\n",
       "      <th>0</th>\n",
       "      <td>A2XQ5LZHTD4AFT</td>\n",
       "      <td>000100039X</td>\n",
       "      <td>[(birth, prophets), (book, flows)]</td>\n",
       "      <td>[A timeless classic., It is a very demanding a...</td>\n",
       "      <td>5.0</td>\n",
       "      <td>[[a, timeless, classic], [it, is, a, very, dem...</td>\n",
       "    </tr>\n",
       "    <tr>\n",
       "      <th>1</th>\n",
       "      <td>A1NPNGWBVD9AK3</td>\n",
       "      <td>000100039X</td>\n",
       "      <td>[(relevant, catechism), (within, prophets), (t...</td>\n",
       "      <td>[This is one of the first (literary) books I r...</td>\n",
       "      <td>5.0</td>\n",
       "      <td>[[this, is, one, of, the, first, literary, boo...</td>\n",
       "    </tr>\n",
       "    <tr>\n",
       "      <th>2</th>\n",
       "      <td>AWLFVCT9128JV</td>\n",
       "      <td>000100039X</td>\n",
       "      <td>[(forty-eight, almustafa)]</td>\n",
       "      <td>[Gibran Khalil Gibran was born in 1883 in what...</td>\n",
       "      <td>5.0</td>\n",
       "      <td>[[gibran, khalil, gibran, was, born, in, one t...</td>\n",
       "    </tr>\n",
       "    <tr>\n",
       "      <th>3</th>\n",
       "      <td>AFY0BT42DDYZV</td>\n",
       "      <td>000100039X</td>\n",
       "      <td>[(souls, profits), (wordofmouth, twentysix), (...</td>\n",
       "      <td>[These days, Kahlil Gibran's \"The Prophet\" oft...</td>\n",
       "      <td>5.0</td>\n",
       "      <td>[[these, days, kahlil, gibrans, the, prophet, ...</td>\n",
       "    </tr>\n",
       "    <tr>\n",
       "      <th>4</th>\n",
       "      <td>A2ZZHMT58ZMVCZ</td>\n",
       "      <td>000100039X</td>\n",
       "      <td>[(bear, departs), (others, pillars), (similar,...</td>\n",
       "      <td>[A prophet has waited twelve years in a coasta...</td>\n",
       "      <td>5.0</td>\n",
       "      <td>[[a, prophet, has, waited, twelve, years, in, ...</td>\n",
       "    </tr>\n",
       "  </tbody>\n",
       "</table>\n",
       "</div>"
      ],
      "text/plain": [
       "       reviewerID        asin  \\\n",
       "0  A2XQ5LZHTD4AFT  000100039X   \n",
       "1  A1NPNGWBVD9AK3  000100039X   \n",
       "2   AWLFVCT9128JV  000100039X   \n",
       "3   AFY0BT42DDYZV  000100039X   \n",
       "4  A2ZZHMT58ZMVCZ  000100039X   \n",
       "\n",
       "                                               pairs  \\\n",
       "0                 [(birth, prophets), (book, flows)]   \n",
       "1  [(relevant, catechism), (within, prophets), (t...   \n",
       "2                         [(forty-eight, almustafa)]   \n",
       "3  [(souls, profits), (wordofmouth, twentysix), (...   \n",
       "4  [(bear, departs), (others, pillars), (similar,...   \n",
       "\n",
       "                                          reviewText  overall  \\\n",
       "0  [A timeless classic., It is a very demanding a...      5.0   \n",
       "1  [This is one of the first (literary) books I r...      5.0   \n",
       "2  [Gibran Khalil Gibran was born in 1883 in what...      5.0   \n",
       "3  [These days, Kahlil Gibran's \"The Prophet\" oft...      5.0   \n",
       "4  [A prophet has waited twelve years in a coasta...      5.0   \n",
       "\n",
       "                                      norm_sentences  \n",
       "0  [[a, timeless, classic], [it, is, a, very, dem...  \n",
       "1  [[this, is, one, of, the, first, literary, boo...  \n",
       "2  [[gibran, khalil, gibran, was, born, in, one t...  \n",
       "3  [[these, days, kahlil, gibrans, the, prophet, ...  \n",
       "4  [[a, prophet, has, waited, twelve, years, in, ...  "
      ]
     },
     "execution_count": 12,
     "metadata": {},
     "output_type": "execute_result"
    }
   ],
   "source": [
    "df2 = df01.assign(norm_sentences = df01['reviewText'].progress_apply(lambda reviewText:normalise_and_tokenize_sentences(reviewText)))\n",
    "df2.head()"
   ]
  },
  {
   "cell_type": "code",
   "execution_count": 13,
   "metadata": {
    "collapsed": true
   },
   "outputs": [],
   "source": [
    "df2.to_pickle('../data/interim/007_pre_processed_dataset_for_excerpts_extraction.p')"
   ]
  },
  {
   "cell_type": "markdown",
   "metadata": {},
   "source": [
    "## Begin Excerpt Extraction"
   ]
  },
  {
   "cell_type": "code",
   "execution_count": 14,
   "metadata": {
    "collapsed": true
   },
   "outputs": [],
   "source": [
    "matrix_m01 = df2.as_matrix()"
   ]
  },
  {
   "cell_type": "code",
   "execution_count": 15,
   "metadata": {},
   "outputs": [
    {
     "data": {
      "text/html": [
       "<div>\n",
       "<style scoped>\n",
       "    .dataframe tbody tr th:only-of-type {\n",
       "        vertical-align: middle;\n",
       "    }\n",
       "\n",
       "    .dataframe tbody tr th {\n",
       "        vertical-align: top;\n",
       "    }\n",
       "\n",
       "    .dataframe thead th {\n",
       "        text-align: right;\n",
       "    }\n",
       "</style>\n",
       "<table border=\"1\" class=\"dataframe\">\n",
       "  <thead>\n",
       "    <tr style=\"text-align: right;\">\n",
       "      <th></th>\n",
       "      <th>0</th>\n",
       "      <th>1</th>\n",
       "      <th>2</th>\n",
       "      <th>3</th>\n",
       "      <th>4</th>\n",
       "      <th>5</th>\n",
       "      <th>6</th>\n",
       "    </tr>\n",
       "  </thead>\n",
       "  <tbody>\n",
       "    <tr>\n",
       "      <th>0</th>\n",
       "      <td>A2XQ5LZHTD4AFT</td>\n",
       "      <td>000100039X</td>\n",
       "      <td>[(birth, prophets), (book, flows)]</td>\n",
       "      <td>[A timeless classic., It is a very demanding a...</td>\n",
       "      <td>5</td>\n",
       "      <td>[[a, timeless, classic], [it, is, a, very, dem...</td>\n",
       "      <td>0</td>\n",
       "    </tr>\n",
       "    <tr>\n",
       "      <th>1</th>\n",
       "      <td>A1NPNGWBVD9AK3</td>\n",
       "      <td>000100039X</td>\n",
       "      <td>[(relevant, catechism), (within, prophets), (t...</td>\n",
       "      <td>[This is one of the first (literary) books I r...</td>\n",
       "      <td>5</td>\n",
       "      <td>[[this, is, one, of, the, first, literary, boo...</td>\n",
       "      <td>0</td>\n",
       "    </tr>\n",
       "    <tr>\n",
       "      <th>2</th>\n",
       "      <td>AWLFVCT9128JV</td>\n",
       "      <td>000100039X</td>\n",
       "      <td>[(forty-eight, almustafa)]</td>\n",
       "      <td>[Gibran Khalil Gibran was born in 1883 in what...</td>\n",
       "      <td>5</td>\n",
       "      <td>[[gibran, khalil, gibran, was, born, in, one t...</td>\n",
       "      <td>0</td>\n",
       "    </tr>\n",
       "    <tr>\n",
       "      <th>3</th>\n",
       "      <td>AFY0BT42DDYZV</td>\n",
       "      <td>000100039X</td>\n",
       "      <td>[(souls, profits), (wordofmouth, twentysix), (...</td>\n",
       "      <td>[These days, Kahlil Gibran's \"The Prophet\" oft...</td>\n",
       "      <td>5</td>\n",
       "      <td>[[these, days, kahlil, gibrans, the, prophet, ...</td>\n",
       "      <td>0</td>\n",
       "    </tr>\n",
       "    <tr>\n",
       "      <th>4</th>\n",
       "      <td>A2ZZHMT58ZMVCZ</td>\n",
       "      <td>000100039X</td>\n",
       "      <td>[(bear, departs), (others, pillars), (similar,...</td>\n",
       "      <td>[A prophet has waited twelve years in a coasta...</td>\n",
       "      <td>5</td>\n",
       "      <td>[[a, prophet, has, waited, twelve, years, in, ...</td>\n",
       "      <td>0</td>\n",
       "    </tr>\n",
       "    <tr>\n",
       "      <th>5</th>\n",
       "      <td>ADIDQRLLR4KBQ</td>\n",
       "      <td>000100039X</td>\n",
       "      <td>[(beautiful, metaphors), (live, prophets)]</td>\n",
       "      <td>[Being an Atheist, it may seem strange to some...</td>\n",
       "      <td>5</td>\n",
       "      <td>[[being, an, atheist, it, may, seem, strange, ...</td>\n",
       "      <td>0</td>\n",
       "    </tr>\n",
       "    <tr>\n",
       "      <th>6</th>\n",
       "      <td>A281NPSIMI1C2R</td>\n",
       "      <td>000100039X</td>\n",
       "      <td>[(pain, waves), (separate, almustafa)]</td>\n",
       "      <td>[I am alive like you, and I am standing beside...</td>\n",
       "      <td>5</td>\n",
       "      <td>[[i, am, alive, like, you, and, i, am, standin...</td>\n",
       "      <td>0</td>\n",
       "    </tr>\n",
       "    <tr>\n",
       "      <th>7</th>\n",
       "      <td>A2R64CR74I98K3</td>\n",
       "      <td>000100039X</td>\n",
       "      <td>[(religious, texts)]</td>\n",
       "      <td>[This is a very usefull book that can be used ...</td>\n",
       "      <td>5</td>\n",
       "      <td>[[this, is, a, very, usefull, book, that, can,...</td>\n",
       "      <td>0</td>\n",
       "    </tr>\n",
       "    <tr>\n",
       "      <th>8</th>\n",
       "      <td>AF4QKY2R2TD3U</td>\n",
       "      <td>000100039X</td>\n",
       "      <td>[(rich, metaphors)]</td>\n",
       "      <td>[\"Say not, 'I have found the truth,' but rathe...</td>\n",
       "      <td>5</td>\n",
       "      <td>[[say, not, i, have, found, the, truth, but, r...</td>\n",
       "      <td>0</td>\n",
       "    </tr>\n",
       "    <tr>\n",
       "      <th>9</th>\n",
       "      <td>A3SMT15X2QVUR8</td>\n",
       "      <td>000100039X</td>\n",
       "      <td>[(orphalese, metaphor)]</td>\n",
       "      <td>[The Prophet Almustafa waits in the city of Or...</td>\n",
       "      <td>5</td>\n",
       "      <td>[[the, prophet, almustafa, waits, in, the, cit...</td>\n",
       "      <td>0</td>\n",
       "    </tr>\n",
       "  </tbody>\n",
       "</table>\n",
       "</div>"
      ],
      "text/plain": [
       "                0           1  \\\n",
       "0  A2XQ5LZHTD4AFT  000100039X   \n",
       "1  A1NPNGWBVD9AK3  000100039X   \n",
       "2   AWLFVCT9128JV  000100039X   \n",
       "3   AFY0BT42DDYZV  000100039X   \n",
       "4  A2ZZHMT58ZMVCZ  000100039X   \n",
       "5   ADIDQRLLR4KBQ  000100039X   \n",
       "6  A281NPSIMI1C2R  000100039X   \n",
       "7  A2R64CR74I98K3  000100039X   \n",
       "8   AF4QKY2R2TD3U  000100039X   \n",
       "9  A3SMT15X2QVUR8  000100039X   \n",
       "\n",
       "                                                   2  \\\n",
       "0                 [(birth, prophets), (book, flows)]   \n",
       "1  [(relevant, catechism), (within, prophets), (t...   \n",
       "2                         [(forty-eight, almustafa)]   \n",
       "3  [(souls, profits), (wordofmouth, twentysix), (...   \n",
       "4  [(bear, departs), (others, pillars), (similar,...   \n",
       "5         [(beautiful, metaphors), (live, prophets)]   \n",
       "6             [(pain, waves), (separate, almustafa)]   \n",
       "7                               [(religious, texts)]   \n",
       "8                                [(rich, metaphors)]   \n",
       "9                            [(orphalese, metaphor)]   \n",
       "\n",
       "                                                   3  4  \\\n",
       "0  [A timeless classic., It is a very demanding a...  5   \n",
       "1  [This is one of the first (literary) books I r...  5   \n",
       "2  [Gibran Khalil Gibran was born in 1883 in what...  5   \n",
       "3  [These days, Kahlil Gibran's \"The Prophet\" oft...  5   \n",
       "4  [A prophet has waited twelve years in a coasta...  5   \n",
       "5  [Being an Atheist, it may seem strange to some...  5   \n",
       "6  [I am alive like you, and I am standing beside...  5   \n",
       "7  [This is a very usefull book that can be used ...  5   \n",
       "8  [\"Say not, 'I have found the truth,' but rathe...  5   \n",
       "9  [The Prophet Almustafa waits in the city of Or...  5   \n",
       "\n",
       "                                                   5  6  \n",
       "0  [[a, timeless, classic], [it, is, a, very, dem...  0  \n",
       "1  [[this, is, one, of, the, first, literary, boo...  0  \n",
       "2  [[gibran, khalil, gibran, was, born, in, one t...  0  \n",
       "3  [[these, days, kahlil, gibrans, the, prophet, ...  0  \n",
       "4  [[a, prophet, has, waited, twelve, years, in, ...  0  \n",
       "5  [[being, an, atheist, it, may, seem, strange, ...  0  \n",
       "6  [[i, am, alive, like, you, and, i, am, standin...  0  \n",
       "7  [[this, is, a, very, usefull, book, that, can,...  0  \n",
       "8  [[say, not, i, have, found, the, truth, but, r...  0  \n",
       "9  [[the, prophet, almustafa, waits, in, the, cit...  0  "
      ]
     },
     "execution_count": 15,
     "metadata": {},
     "output_type": "execute_result"
    }
   ],
   "source": [
    "matrix_m02 = np.append(matrix_m01,np.zeros([len(matrix_m01),1]),1)\n",
    "sample = pd.DataFrame(matrix_m02[0:10])\n",
    "sample"
   ]
  },
  {
   "cell_type": "code",
   "execution_count": 16,
   "metadata": {
    "collapsed": true
   },
   "outputs": [],
   "source": [
    "def identify_excerpt_index_for(review_sentences, pair):\n",
    "    index = None\n",
    "    for i in range(len(review_sentences)):\n",
    "        sentence = review_sentences[i]\n",
    "        if pair[0] in sentence:\n",
    "            if pair[1] in sentence:\n",
    "                index = i\n",
    "                break\n",
    "    return index"
   ]
  },
  {
   "cell_type": "code",
   "execution_count": 17,
   "metadata": {},
   "outputs": [
    {
     "name": "stderr",
     "output_type": "stream",
     "text": [
      "100%|██████████| 249871/249871 [00:06<00:00, 37508.66it/s]\n"
     ]
    }
   ],
   "source": [
    "from tqdm import tqdm\n",
    "\n",
    "with tqdm(total=len(matrix_m02)) as pbar:\n",
    "    for i in range(len(matrix_m02)):\n",
    "        excerpt_indices = []\n",
    "        actual_sentences = matrix_m02[i][3]\n",
    "        review_sentences = matrix_m02[i][5]\n",
    "        pairs = matrix_m02[i][2]\n",
    "        \n",
    "        for pair in pairs:\n",
    "            index_of_sentence_with_pair = identify_excerpt_index_for(review_sentences,pair)\n",
    "            \n",
    "            if index_of_sentence_with_pair is not None and index_of_sentence_with_pair not in excerpt_indices:\n",
    "                excerpt_indices.append(index_of_sentence_with_pair)\n",
    "    \n",
    "        excerpts = []\n",
    "        for index in excerpt_indices:\n",
    "            excerpts.append(actual_sentences[index])\n",
    "    \n",
    "        matrix_m02[i][6] = excerpts\n",
    "    \n",
    "        pbar.update(1)"
   ]
  },
  {
   "cell_type": "code",
   "execution_count": 18,
   "metadata": {},
   "outputs": [
    {
     "data": {
      "text/html": [
       "<div>\n",
       "<style scoped>\n",
       "    .dataframe tbody tr th:only-of-type {\n",
       "        vertical-align: middle;\n",
       "    }\n",
       "\n",
       "    .dataframe tbody tr th {\n",
       "        vertical-align: top;\n",
       "    }\n",
       "\n",
       "    .dataframe thead th {\n",
       "        text-align: right;\n",
       "    }\n",
       "</style>\n",
       "<table border=\"1\" class=\"dataframe\">\n",
       "  <thead>\n",
       "    <tr style=\"text-align: right;\">\n",
       "      <th></th>\n",
       "      <th>reviewerID</th>\n",
       "      <th>asin</th>\n",
       "      <th>pairs</th>\n",
       "      <th>reviewText</th>\n",
       "      <th>overall</th>\n",
       "      <th>norm_sentences</th>\n",
       "      <th>excerpts</th>\n",
       "    </tr>\n",
       "  </thead>\n",
       "  <tbody>\n",
       "    <tr>\n",
       "      <th>0</th>\n",
       "      <td>A2XQ5LZHTD4AFT</td>\n",
       "      <td>000100039X</td>\n",
       "      <td>[(birth, prophets), (book, flows)]</td>\n",
       "      <td>[A timeless classic., It is a very demanding a...</td>\n",
       "      <td>5</td>\n",
       "      <td>[[a, timeless, classic], [it, is, a, very, dem...</td>\n",
       "      <td>[There is much that hints at his birth place, ...</td>\n",
       "    </tr>\n",
       "    <tr>\n",
       "      <th>1</th>\n",
       "      <td>A1NPNGWBVD9AK3</td>\n",
       "      <td>000100039X</td>\n",
       "      <td>[(relevant, catechism), (within, prophets), (t...</td>\n",
       "      <td>[This is one of the first (literary) books I r...</td>\n",
       "      <td>5</td>\n",
       "      <td>[[this, is, one, of, the, first, literary, boo...</td>\n",
       "      <td>[I believe that was my first taste of spiritua...</td>\n",
       "    </tr>\n",
       "    <tr>\n",
       "      <th>2</th>\n",
       "      <td>AWLFVCT9128JV</td>\n",
       "      <td>000100039X</td>\n",
       "      <td>[(forty-eight, almustafa)]</td>\n",
       "      <td>[Gibran Khalil Gibran was born in 1883 in what...</td>\n",
       "      <td>5</td>\n",
       "      <td>[[gibran, khalil, gibran, was, born, in, one t...</td>\n",
       "      <td>[He died of cancer in a New York hospital at t...</td>\n",
       "    </tr>\n",
       "    <tr>\n",
       "      <th>3</th>\n",
       "      <td>AFY0BT42DDYZV</td>\n",
       "      <td>000100039X</td>\n",
       "      <td>[(souls, profits), (wordofmouth, twentysix), (...</td>\n",
       "      <td>[These days, Kahlil Gibran's \"The Prophet\" oft...</td>\n",
       "      <td>5</td>\n",
       "      <td>[[these, days, kahlil, gibrans, the, prophet, ...</td>\n",
       "      <td>[There is no political, religious, or commerci...</td>\n",
       "    </tr>\n",
       "    <tr>\n",
       "      <th>4</th>\n",
       "      <td>A2ZZHMT58ZMVCZ</td>\n",
       "      <td>000100039X</td>\n",
       "      <td>[(bear, departs), (others, pillars), (similar,...</td>\n",
       "      <td>[A prophet has waited twelve years in a coasta...</td>\n",
       "      <td>5</td>\n",
       "      <td>[[a, prophet, has, waited, twelve, years, in, ...</td>\n",
       "      <td>[A local seeress who knows him best asks him t...</td>\n",
       "    </tr>\n",
       "  </tbody>\n",
       "</table>\n",
       "</div>"
      ],
      "text/plain": [
       "       reviewerID        asin  \\\n",
       "0  A2XQ5LZHTD4AFT  000100039X   \n",
       "1  A1NPNGWBVD9AK3  000100039X   \n",
       "2   AWLFVCT9128JV  000100039X   \n",
       "3   AFY0BT42DDYZV  000100039X   \n",
       "4  A2ZZHMT58ZMVCZ  000100039X   \n",
       "\n",
       "                                               pairs  \\\n",
       "0                 [(birth, prophets), (book, flows)]   \n",
       "1  [(relevant, catechism), (within, prophets), (t...   \n",
       "2                         [(forty-eight, almustafa)]   \n",
       "3  [(souls, profits), (wordofmouth, twentysix), (...   \n",
       "4  [(bear, departs), (others, pillars), (similar,...   \n",
       "\n",
       "                                          reviewText overall  \\\n",
       "0  [A timeless classic., It is a very demanding a...       5   \n",
       "1  [This is one of the first (literary) books I r...       5   \n",
       "2  [Gibran Khalil Gibran was born in 1883 in what...       5   \n",
       "3  [These days, Kahlil Gibran's \"The Prophet\" oft...       5   \n",
       "4  [A prophet has waited twelve years in a coasta...       5   \n",
       "\n",
       "                                      norm_sentences  \\\n",
       "0  [[a, timeless, classic], [it, is, a, very, dem...   \n",
       "1  [[this, is, one, of, the, first, literary, boo...   \n",
       "2  [[gibran, khalil, gibran, was, born, in, one t...   \n",
       "3  [[these, days, kahlil, gibrans, the, prophet, ...   \n",
       "4  [[a, prophet, has, waited, twelve, years, in, ...   \n",
       "\n",
       "                                            excerpts  \n",
       "0  [There is much that hints at his birth place, ...  \n",
       "1  [I believe that was my first taste of spiritua...  \n",
       "2  [He died of cancer in a New York hospital at t...  \n",
       "3  [There is no political, religious, or commerci...  \n",
       "4  [A local seeress who knows him best asks him t...  "
      ]
     },
     "execution_count": 18,
     "metadata": {},
     "output_type": "execute_result"
    }
   ],
   "source": [
    "df20 = pd.DataFrame(matrix_m02)\n",
    "df20.columns = ['reviewerID','asin','pairs','reviewText','overall','norm_sentences','excerpts']\n",
    "df20.head()"
   ]
  },
  {
   "cell_type": "code",
   "execution_count": 19,
   "metadata": {},
   "outputs": [
    {
     "data": {
      "text/html": [
       "<div>\n",
       "<style scoped>\n",
       "    .dataframe tbody tr th:only-of-type {\n",
       "        vertical-align: middle;\n",
       "    }\n",
       "\n",
       "    .dataframe tbody tr th {\n",
       "        vertical-align: top;\n",
       "    }\n",
       "\n",
       "    .dataframe thead th {\n",
       "        text-align: right;\n",
       "    }\n",
       "</style>\n",
       "<table border=\"1\" class=\"dataframe\">\n",
       "  <thead>\n",
       "    <tr style=\"text-align: right;\">\n",
       "      <th></th>\n",
       "      <th>reviewerID</th>\n",
       "      <th>asin</th>\n",
       "      <th>overall</th>\n",
       "      <th>excerpts</th>\n",
       "    </tr>\n",
       "  </thead>\n",
       "  <tbody>\n",
       "    <tr>\n",
       "      <th>0</th>\n",
       "      <td>A2XQ5LZHTD4AFT</td>\n",
       "      <td>000100039X</td>\n",
       "      <td>5</td>\n",
       "      <td>[There is much that hints at his birth place, ...</td>\n",
       "    </tr>\n",
       "    <tr>\n",
       "      <th>1</th>\n",
       "      <td>A1NPNGWBVD9AK3</td>\n",
       "      <td>000100039X</td>\n",
       "      <td>5</td>\n",
       "      <td>[I believe that was my first taste of spiritua...</td>\n",
       "    </tr>\n",
       "    <tr>\n",
       "      <th>2</th>\n",
       "      <td>AWLFVCT9128JV</td>\n",
       "      <td>000100039X</td>\n",
       "      <td>5</td>\n",
       "      <td>[He died of cancer in a New York hospital at t...</td>\n",
       "    </tr>\n",
       "    <tr>\n",
       "      <th>3</th>\n",
       "      <td>AFY0BT42DDYZV</td>\n",
       "      <td>000100039X</td>\n",
       "      <td>5</td>\n",
       "      <td>[There is no political, religious, or commerci...</td>\n",
       "    </tr>\n",
       "    <tr>\n",
       "      <th>4</th>\n",
       "      <td>A2ZZHMT58ZMVCZ</td>\n",
       "      <td>000100039X</td>\n",
       "      <td>5</td>\n",
       "      <td>[A local seeress who knows him best asks him t...</td>\n",
       "    </tr>\n",
       "  </tbody>\n",
       "</table>\n",
       "</div>"
      ],
      "text/plain": [
       "       reviewerID        asin overall  \\\n",
       "0  A2XQ5LZHTD4AFT  000100039X       5   \n",
       "1  A1NPNGWBVD9AK3  000100039X       5   \n",
       "2   AWLFVCT9128JV  000100039X       5   \n",
       "3   AFY0BT42DDYZV  000100039X       5   \n",
       "4  A2ZZHMT58ZMVCZ  000100039X       5   \n",
       "\n",
       "                                            excerpts  \n",
       "0  [There is much that hints at his birth place, ...  \n",
       "1  [I believe that was my first taste of spiritua...  \n",
       "2  [He died of cancer in a New York hospital at t...  \n",
       "3  [There is no political, religious, or commerci...  \n",
       "4  [A local seeress who knows him best asks him t...  "
      ]
     },
     "execution_count": 19,
     "metadata": {},
     "output_type": "execute_result"
    }
   ],
   "source": [
    "df30 = df20[['reviewerID','asin','overall','excerpts']]\n",
    "df30.head()"
   ]
  },
  {
   "cell_type": "code",
   "execution_count": 20,
   "metadata": {},
   "outputs": [
    {
     "data": {
      "text/plain": [
       "249871"
      ]
     },
     "execution_count": 20,
     "metadata": {},
     "output_type": "execute_result"
    }
   ],
   "source": [
    "len(df30)"
   ]
  },
  {
   "cell_type": "code",
   "execution_count": 21,
   "metadata": {},
   "outputs": [
    {
     "data": {
      "text/plain": [
       "231936"
      ]
     },
     "execution_count": 21,
     "metadata": {},
     "output_type": "execute_result"
    }
   ],
   "source": [
    "df31 = df30[df30['excerpts'].map(lambda excerpts: len(excerpts)) > 0]\n",
    "len(df31)"
   ]
  },
  {
   "cell_type": "code",
   "execution_count": 25,
   "metadata": {},
   "outputs": [
    {
     "data": {
      "text/plain": [
       "0.9282229630489333"
      ]
     },
     "execution_count": 25,
     "metadata": {},
     "output_type": "execute_result"
    }
   ],
   "source": [
    "231936/249871"
   ]
  },
  {
   "cell_type": "code",
   "execution_count": 26,
   "metadata": {},
   "outputs": [
    {
     "data": {
      "text/plain": [
       "17935"
      ]
     },
     "execution_count": 26,
     "metadata": {},
     "output_type": "execute_result"
    }
   ],
   "source": [
    "249871 - 231936"
   ]
  },
  {
   "cell_type": "markdown",
   "metadata": {},
   "source": [
    "## Get Polarity of Excerpts"
   ]
  },
  {
   "cell_type": "code",
   "execution_count": 22,
   "metadata": {
    "collapsed": true
   },
   "outputs": [],
   "source": [
    "import numpy as np\n",
    "from textblob import TextBlob\n",
    "\n",
    "def get_overal_polarity(excerpts):\n",
    "    text = ''.join(excerpts)\n",
    "    blob = TextBlob(text)\n",
    "    \n",
    "    polarity = []\n",
    "    for sentence in blob.sentences:\n",
    "        polarity.append(sentence.sentiment.polarity)\n",
    "\n",
    "    return np.mean(polarity)"
   ]
  },
  {
   "cell_type": "code",
   "execution_count": 23,
   "metadata": {},
   "outputs": [
    {
     "name": "stderr",
     "output_type": "stream",
     "text": [
      "Progress:: 100%|██████████| 231936/231936 [03:40<00:00, 1052.48it/s]\n"
     ]
    },
    {
     "data": {
      "text/html": [
       "<div>\n",
       "<style scoped>\n",
       "    .dataframe tbody tr th:only-of-type {\n",
       "        vertical-align: middle;\n",
       "    }\n",
       "\n",
       "    .dataframe tbody tr th {\n",
       "        vertical-align: top;\n",
       "    }\n",
       "\n",
       "    .dataframe thead th {\n",
       "        text-align: right;\n",
       "    }\n",
       "</style>\n",
       "<table border=\"1\" class=\"dataframe\">\n",
       "  <thead>\n",
       "    <tr style=\"text-align: right;\">\n",
       "      <th></th>\n",
       "      <th>reviewerID</th>\n",
       "      <th>asin</th>\n",
       "      <th>overall</th>\n",
       "      <th>excerpts</th>\n",
       "      <th>polarity</th>\n",
       "    </tr>\n",
       "  </thead>\n",
       "  <tbody>\n",
       "    <tr>\n",
       "      <th>0</th>\n",
       "      <td>A2XQ5LZHTD4AFT</td>\n",
       "      <td>000100039X</td>\n",
       "      <td>5</td>\n",
       "      <td>[There is much that hints at his birth place, ...</td>\n",
       "      <td>0.332292</td>\n",
       "    </tr>\n",
       "    <tr>\n",
       "      <th>1</th>\n",
       "      <td>A1NPNGWBVD9AK3</td>\n",
       "      <td>000100039X</td>\n",
       "      <td>5</td>\n",
       "      <td>[I believe that was my first taste of spiritua...</td>\n",
       "      <td>0.425000</td>\n",
       "    </tr>\n",
       "    <tr>\n",
       "      <th>2</th>\n",
       "      <td>AWLFVCT9128JV</td>\n",
       "      <td>000100039X</td>\n",
       "      <td>5</td>\n",
       "      <td>[He died of cancer in a New York hospital at t...</td>\n",
       "      <td>0.133182</td>\n",
       "    </tr>\n",
       "    <tr>\n",
       "      <th>3</th>\n",
       "      <td>AFY0BT42DDYZV</td>\n",
       "      <td>000100039X</td>\n",
       "      <td>5</td>\n",
       "      <td>[There is no political, religious, or commerci...</td>\n",
       "      <td>0.155729</td>\n",
       "    </tr>\n",
       "    <tr>\n",
       "      <th>4</th>\n",
       "      <td>A2ZZHMT58ZMVCZ</td>\n",
       "      <td>000100039X</td>\n",
       "      <td>5</td>\n",
       "      <td>[A local seeress who knows him best asks him t...</td>\n",
       "      <td>0.096580</td>\n",
       "    </tr>\n",
       "  </tbody>\n",
       "</table>\n",
       "</div>"
      ],
      "text/plain": [
       "       reviewerID        asin overall  \\\n",
       "0  A2XQ5LZHTD4AFT  000100039X       5   \n",
       "1  A1NPNGWBVD9AK3  000100039X       5   \n",
       "2   AWLFVCT9128JV  000100039X       5   \n",
       "3   AFY0BT42DDYZV  000100039X       5   \n",
       "4  A2ZZHMT58ZMVCZ  000100039X       5   \n",
       "\n",
       "                                            excerpts  polarity  \n",
       "0  [There is much that hints at his birth place, ...  0.332292  \n",
       "1  [I believe that was my first taste of spiritua...  0.425000  \n",
       "2  [He died of cancer in a New York hospital at t...  0.133182  \n",
       "3  [There is no political, religious, or commerci...  0.155729  \n",
       "4  [A local seeress who knows him best asks him t...  0.096580  "
      ]
     },
     "execution_count": 23,
     "metadata": {},
     "output_type": "execute_result"
    }
   ],
   "source": [
    "df40 = df31.assign(polarity = df31['excerpts'].progress_apply(lambda excerpts:get_overal_polarity(excerpts)))\n",
    "df40.head()"
   ]
  },
  {
   "cell_type": "code",
   "execution_count": 24,
   "metadata": {
    "collapsed": true
   },
   "outputs": [],
   "source": [
    "df40.to_pickle('../data/interim/007_excerpts_with_polarity.p')"
   ]
  },
  {
   "cell_type": "markdown",
   "metadata": {},
   "source": [
    "## Produce Summaries"
   ]
  },
  {
   "cell_type": "code",
   "execution_count": 27,
   "metadata": {
    "collapsed": true
   },
   "outputs": [],
   "source": [
    "def merge_list(summariesList):\n",
    "    summary = []\n",
    "    for excerpt in summariesList:\n",
    "        summary = summary + excerpt\n",
    "    return summary"
   ]
  },
  {
   "cell_type": "code",
   "execution_count": 31,
   "metadata": {},
   "outputs": [
    {
     "name": "stderr",
     "output_type": "stream",
     "text": [
      "Progress:: 100%|█████████▉| 48693/48694 [00:01<00:00, 28126.36it/s]\n"
     ]
    },
    {
     "data": {
      "text/html": [
       "<div>\n",
       "<style scoped>\n",
       "    .dataframe tbody tr th:only-of-type {\n",
       "        vertical-align: middle;\n",
       "    }\n",
       "\n",
       "    .dataframe tbody tr th {\n",
       "        vertical-align: top;\n",
       "    }\n",
       "\n",
       "    .dataframe thead th {\n",
       "        text-align: right;\n",
       "    }\n",
       "</style>\n",
       "<table border=\"1\" class=\"dataframe\">\n",
       "  <thead>\n",
       "    <tr style=\"text-align: right;\">\n",
       "      <th></th>\n",
       "      <th>asin</th>\n",
       "      <th>excerpts</th>\n",
       "    </tr>\n",
       "  </thead>\n",
       "  <tbody>\n",
       "    <tr>\n",
       "      <th>0</th>\n",
       "      <td>000100039X</td>\n",
       "      <td>[[There is much that hints at his birth place,...</td>\n",
       "    </tr>\n",
       "    <tr>\n",
       "      <th>1</th>\n",
       "      <td>0002051850</td>\n",
       "      <td>[[However, as the story progresses, Hemingway'...</td>\n",
       "    </tr>\n",
       "    <tr>\n",
       "      <th>2</th>\n",
       "      <td>0002113570</td>\n",
       "      <td>[[That an English woman scientist would journe...</td>\n",
       "    </tr>\n",
       "    <tr>\n",
       "      <th>3</th>\n",
       "      <td>0002117088</td>\n",
       "      <td>[[We adopted &amp;quot;Renoir, My Father&amp;quot; as ...</td>\n",
       "    </tr>\n",
       "    <tr>\n",
       "      <th>4</th>\n",
       "      <td>000215725X</td>\n",
       "      <td>[[William and Olivia stayed in the Fraser resi...</td>\n",
       "    </tr>\n",
       "  </tbody>\n",
       "</table>\n",
       "</div>"
      ],
      "text/plain": [
       "         asin                                           excerpts\n",
       "0  000100039X  [[There is much that hints at his birth place,...\n",
       "1  0002051850  [[However, as the story progresses, Hemingway'...\n",
       "2  0002113570  [[That an English woman scientist would journe...\n",
       "3  0002117088  [[We adopted &quot;Renoir, My Father&quot; as ...\n",
       "4  000215725X  [[William and Olivia stayed in the Fraser resi..."
      ]
     },
     "execution_count": 31,
     "metadata": {},
     "output_type": "execute_result"
    }
   ],
   "source": [
    "df_book_summaries = pd.DataFrame(df40.groupby(['asin'])['excerpts'].progress_apply(list)).reset_index()\n",
    "df_book_summaries.head()"
   ]
  },
  {
   "cell_type": "code",
   "execution_count": 32,
   "metadata": {},
   "outputs": [
    {
     "name": "stderr",
     "output_type": "stream",
     "text": [
      "Progress:: 100%|██████████| 48693/48693 [00:00<00:00, 388636.69it/s]\n"
     ]
    },
    {
     "data": {
      "text/html": [
       "<div>\n",
       "<style scoped>\n",
       "    .dataframe tbody tr th:only-of-type {\n",
       "        vertical-align: middle;\n",
       "    }\n",
       "\n",
       "    .dataframe tbody tr th {\n",
       "        vertical-align: top;\n",
       "    }\n",
       "\n",
       "    .dataframe thead th {\n",
       "        text-align: right;\n",
       "    }\n",
       "</style>\n",
       "<table border=\"1\" class=\"dataframe\">\n",
       "  <thead>\n",
       "    <tr style=\"text-align: right;\">\n",
       "      <th></th>\n",
       "      <th>asin</th>\n",
       "      <th>excerpts</th>\n",
       "    </tr>\n",
       "  </thead>\n",
       "  <tbody>\n",
       "    <tr>\n",
       "      <th>0</th>\n",
       "      <td>000100039X</td>\n",
       "      <td>[There is much that hints at his birth place, ...</td>\n",
       "    </tr>\n",
       "    <tr>\n",
       "      <th>1</th>\n",
       "      <td>0002051850</td>\n",
       "      <td>[However, as the story progresses, Hemingway's...</td>\n",
       "    </tr>\n",
       "    <tr>\n",
       "      <th>2</th>\n",
       "      <td>0002113570</td>\n",
       "      <td>[That an English woman scientist would journey...</td>\n",
       "    </tr>\n",
       "    <tr>\n",
       "      <th>3</th>\n",
       "      <td>0002117088</td>\n",
       "      <td>[We adopted &amp;quot;Renoir, My Father&amp;quot; as b...</td>\n",
       "    </tr>\n",
       "    <tr>\n",
       "      <th>4</th>\n",
       "      <td>000215725X</td>\n",
       "      <td>[William and Olivia stayed in the Fraser resid...</td>\n",
       "    </tr>\n",
       "  </tbody>\n",
       "</table>\n",
       "</div>"
      ],
      "text/plain": [
       "         asin                                           excerpts\n",
       "0  000100039X  [There is much that hints at his birth place, ...\n",
       "1  0002051850  [However, as the story progresses, Hemingway's...\n",
       "2  0002113570  [That an English woman scientist would journey...\n",
       "3  0002117088  [We adopted &quot;Renoir, My Father&quot; as b...\n",
       "4  000215725X  [William and Olivia stayed in the Fraser resid..."
      ]
     },
     "execution_count": 32,
     "metadata": {},
     "output_type": "execute_result"
    }
   ],
   "source": [
    "df_book_summaries['excerpts'] = df_book_summaries['excerpts'].progress_apply(lambda summariesList: merge_list(summariesList))\n",
    "df_book_summaries.head()"
   ]
  },
  {
   "cell_type": "markdown",
   "metadata": {},
   "source": [
    "## Evaluation"
   ]
  },
  {
   "cell_type": "code",
   "execution_count": 37,
   "metadata": {},
   "outputs": [
    {
     "data": {
      "text/html": [
       "<div>\n",
       "<style scoped>\n",
       "    .dataframe tbody tr th:only-of-type {\n",
       "        vertical-align: middle;\n",
       "    }\n",
       "\n",
       "    .dataframe tbody tr th {\n",
       "        vertical-align: top;\n",
       "    }\n",
       "\n",
       "    .dataframe thead th {\n",
       "        text-align: right;\n",
       "    }\n",
       "</style>\n",
       "<table border=\"1\" class=\"dataframe\">\n",
       "  <thead>\n",
       "    <tr style=\"text-align: right;\">\n",
       "      <th></th>\n",
       "      <th>reviewerID</th>\n",
       "      <th>asin</th>\n",
       "      <th>overall</th>\n",
       "      <th>excerpts</th>\n",
       "      <th>polarity</th>\n",
       "    </tr>\n",
       "  </thead>\n",
       "  <tbody>\n",
       "    <tr>\n",
       "      <th>0</th>\n",
       "      <td>A2XQ5LZHTD4AFT</td>\n",
       "      <td>000100039X</td>\n",
       "      <td>5.0</td>\n",
       "      <td>[There is much that hints at his birth place, ...</td>\n",
       "      <td>0.332292</td>\n",
       "    </tr>\n",
       "    <tr>\n",
       "      <th>1</th>\n",
       "      <td>A1NPNGWBVD9AK3</td>\n",
       "      <td>000100039X</td>\n",
       "      <td>5.0</td>\n",
       "      <td>[I believe that was my first taste of spiritua...</td>\n",
       "      <td>0.425000</td>\n",
       "    </tr>\n",
       "    <tr>\n",
       "      <th>2</th>\n",
       "      <td>AWLFVCT9128JV</td>\n",
       "      <td>000100039X</td>\n",
       "      <td>5.0</td>\n",
       "      <td>[He died of cancer in a New York hospital at t...</td>\n",
       "      <td>0.133182</td>\n",
       "    </tr>\n",
       "    <tr>\n",
       "      <th>3</th>\n",
       "      <td>AFY0BT42DDYZV</td>\n",
       "      <td>000100039X</td>\n",
       "      <td>5.0</td>\n",
       "      <td>[There is no political, religious, or commerci...</td>\n",
       "      <td>0.155729</td>\n",
       "    </tr>\n",
       "    <tr>\n",
       "      <th>4</th>\n",
       "      <td>A2ZZHMT58ZMVCZ</td>\n",
       "      <td>000100039X</td>\n",
       "      <td>5.0</td>\n",
       "      <td>[A local seeress who knows him best asks him t...</td>\n",
       "      <td>0.096580</td>\n",
       "    </tr>\n",
       "  </tbody>\n",
       "</table>\n",
       "</div>"
      ],
      "text/plain": [
       "       reviewerID        asin  overall  \\\n",
       "0  A2XQ5LZHTD4AFT  000100039X      5.0   \n",
       "1  A1NPNGWBVD9AK3  000100039X      5.0   \n",
       "2   AWLFVCT9128JV  000100039X      5.0   \n",
       "3   AFY0BT42DDYZV  000100039X      5.0   \n",
       "4  A2ZZHMT58ZMVCZ  000100039X      5.0   \n",
       "\n",
       "                                            excerpts  polarity  \n",
       "0  [There is much that hints at his birth place, ...  0.332292  \n",
       "1  [I believe that was my first taste of spiritua...  0.425000  \n",
       "2  [He died of cancer in a New York hospital at t...  0.133182  \n",
       "3  [There is no political, religious, or commerci...  0.155729  \n",
       "4  [A local seeress who knows him best asks him t...  0.096580  "
      ]
     },
     "execution_count": 37,
     "metadata": {},
     "output_type": "execute_result"
    }
   ],
   "source": [
    "df40[\"overall\"] = pd.to_numeric(df40[\"overall\"], errors='coerce')\n",
    "df40[\"polarity\"] = pd.to_numeric(df40[\"polarity\"], errors='coerce')\n",
    "df40.head()"
   ]
  },
  {
   "cell_type": "code",
   "execution_count": 62,
   "metadata": {},
   "outputs": [
    {
     "data": {
      "text/html": [
       "<div>\n",
       "<style scoped>\n",
       "    .dataframe tbody tr th:only-of-type {\n",
       "        vertical-align: middle;\n",
       "    }\n",
       "\n",
       "    .dataframe tbody tr th {\n",
       "        vertical-align: top;\n",
       "    }\n",
       "\n",
       "    .dataframe thead th {\n",
       "        text-align: right;\n",
       "    }\n",
       "</style>\n",
       "<table border=\"1\" class=\"dataframe\">\n",
       "  <thead>\n",
       "    <tr style=\"text-align: right;\">\n",
       "      <th></th>\n",
       "      <th>asin</th>\n",
       "      <th>overall</th>\n",
       "      <th>polarity</th>\n",
       "    </tr>\n",
       "  </thead>\n",
       "  <tbody>\n",
       "    <tr>\n",
       "      <th>0</th>\n",
       "      <td>000100039X</td>\n",
       "      <td>5.000000</td>\n",
       "      <td>0.217668</td>\n",
       "    </tr>\n",
       "    <tr>\n",
       "      <th>1</th>\n",
       "      <td>0002051850</td>\n",
       "      <td>4.357143</td>\n",
       "      <td>0.094471</td>\n",
       "    </tr>\n",
       "    <tr>\n",
       "      <th>2</th>\n",
       "      <td>0002113570</td>\n",
       "      <td>5.000000</td>\n",
       "      <td>0.142857</td>\n",
       "    </tr>\n",
       "    <tr>\n",
       "      <th>3</th>\n",
       "      <td>0002117088</td>\n",
       "      <td>5.000000</td>\n",
       "      <td>0.237500</td>\n",
       "    </tr>\n",
       "    <tr>\n",
       "      <th>4</th>\n",
       "      <td>000215725X</td>\n",
       "      <td>4.666667</td>\n",
       "      <td>0.190030</td>\n",
       "    </tr>\n",
       "  </tbody>\n",
       "</table>\n",
       "</div>"
      ],
      "text/plain": [
       "         asin   overall  polarity\n",
       "0  000100039X  5.000000  0.217668\n",
       "1  0002051850  4.357143  0.094471\n",
       "2  0002113570  5.000000  0.142857\n",
       "3  0002117088  5.000000  0.237500\n",
       "4  000215725X  4.666667  0.190030"
      ]
     },
     "execution_count": 62,
     "metadata": {},
     "output_type": "execute_result"
    }
   ],
   "source": [
    "mean_rating_vs_polarity_per_book = pd.DataFrame(df40.groupby(['asin'])[[\"overall\",\"polarity\"]].mean()).reset_index()\n",
    "mean_rating_vs_polarity_per_book.head()"
   ]
  },
  {
   "cell_type": "code",
   "execution_count": 83,
   "metadata": {},
   "outputs": [
    {
     "name": "stderr",
     "output_type": "stream",
     "text": [
      "Progress:: 100%|██████████| 48693/48693 [00:00<00:00, 1190302.22it/s]\n"
     ]
    },
    {
     "data": {
      "text/html": [
       "<div>\n",
       "<style scoped>\n",
       "    .dataframe tbody tr th:only-of-type {\n",
       "        vertical-align: middle;\n",
       "    }\n",
       "\n",
       "    .dataframe tbody tr th {\n",
       "        vertical-align: top;\n",
       "    }\n",
       "\n",
       "    .dataframe thead th {\n",
       "        text-align: right;\n",
       "    }\n",
       "</style>\n",
       "<table border=\"1\" class=\"dataframe\">\n",
       "  <thead>\n",
       "    <tr style=\"text-align: right;\">\n",
       "      <th></th>\n",
       "      <th>asin</th>\n",
       "      <th>overall</th>\n",
       "      <th>polarity</th>\n",
       "      <th>norm_polarity</th>\n",
       "    </tr>\n",
       "  </thead>\n",
       "  <tbody>\n",
       "    <tr>\n",
       "      <th>0</th>\n",
       "      <td>000100039X</td>\n",
       "      <td>5.000000</td>\n",
       "      <td>0.217668</td>\n",
       "      <td>2.435336</td>\n",
       "    </tr>\n",
       "    <tr>\n",
       "      <th>1</th>\n",
       "      <td>0002051850</td>\n",
       "      <td>4.357143</td>\n",
       "      <td>0.094471</td>\n",
       "      <td>2.188942</td>\n",
       "    </tr>\n",
       "    <tr>\n",
       "      <th>2</th>\n",
       "      <td>0002113570</td>\n",
       "      <td>5.000000</td>\n",
       "      <td>0.142857</td>\n",
       "      <td>2.285714</td>\n",
       "    </tr>\n",
       "    <tr>\n",
       "      <th>3</th>\n",
       "      <td>0002117088</td>\n",
       "      <td>5.000000</td>\n",
       "      <td>0.237500</td>\n",
       "      <td>2.475000</td>\n",
       "    </tr>\n",
       "    <tr>\n",
       "      <th>4</th>\n",
       "      <td>000215725X</td>\n",
       "      <td>4.666667</td>\n",
       "      <td>0.190030</td>\n",
       "      <td>2.380060</td>\n",
       "    </tr>\n",
       "  </tbody>\n",
       "</table>\n",
       "</div>"
      ],
      "text/plain": [
       "         asin   overall  polarity  norm_polarity\n",
       "0  000100039X  5.000000  0.217668       2.435336\n",
       "1  0002051850  4.357143  0.094471       2.188942\n",
       "2  0002113570  5.000000  0.142857       2.285714\n",
       "3  0002117088  5.000000  0.237500       2.475000\n",
       "4  000215725X  4.666667  0.190030       2.380060"
      ]
     },
     "execution_count": 83,
     "metadata": {},
     "output_type": "execute_result"
    }
   ],
   "source": [
    "### Normalise polarity values to match \n",
    "def normalise(polarity):\n",
    "    \n",
    "    positeiv_polarity = polarity + 1\n",
    "    normalised_polarity = (4 * positeiv_polarity)/2\n",
    "    \n",
    "    return normalised_polarity\n",
    "\n",
    "mean_rating_vs_polarity_per_book = mean_rating_vs_polarity_per_book.assign(norm_polarity = mean_rating_vs_polarity_per_book['polarity'].progress_apply(lambda polarity:normalise(polarity)))\n",
    "mean_rating_vs_polarity_per_book.head()\n"
   ]
  },
  {
   "cell_type": "code",
   "execution_count": 84,
   "metadata": {},
   "outputs": [
    {
     "name": "stderr",
     "output_type": "stream",
     "text": [
      "Progress:: 100%|██████████| 48693/48693 [00:00<00:00, 1401930.56it/s]\n"
     ]
    },
    {
     "data": {
      "text/html": [
       "<div>\n",
       "<style scoped>\n",
       "    .dataframe tbody tr th:only-of-type {\n",
       "        vertical-align: middle;\n",
       "    }\n",
       "\n",
       "    .dataframe tbody tr th {\n",
       "        vertical-align: top;\n",
       "    }\n",
       "\n",
       "    .dataframe thead th {\n",
       "        text-align: right;\n",
       "    }\n",
       "</style>\n",
       "<table border=\"1\" class=\"dataframe\">\n",
       "  <thead>\n",
       "    <tr style=\"text-align: right;\">\n",
       "      <th></th>\n",
       "      <th>asin</th>\n",
       "      <th>overall</th>\n",
       "      <th>polarity</th>\n",
       "      <th>norm_polarity</th>\n",
       "      <th>norm_overall</th>\n",
       "    </tr>\n",
       "  </thead>\n",
       "  <tbody>\n",
       "    <tr>\n",
       "      <th>0</th>\n",
       "      <td>000100039X</td>\n",
       "      <td>5.000000</td>\n",
       "      <td>0.217668</td>\n",
       "      <td>2.435336</td>\n",
       "      <td>4.000000</td>\n",
       "    </tr>\n",
       "    <tr>\n",
       "      <th>1</th>\n",
       "      <td>0002051850</td>\n",
       "      <td>4.357143</td>\n",
       "      <td>0.094471</td>\n",
       "      <td>2.188942</td>\n",
       "      <td>3.357143</td>\n",
       "    </tr>\n",
       "    <tr>\n",
       "      <th>2</th>\n",
       "      <td>0002113570</td>\n",
       "      <td>5.000000</td>\n",
       "      <td>0.142857</td>\n",
       "      <td>2.285714</td>\n",
       "      <td>4.000000</td>\n",
       "    </tr>\n",
       "    <tr>\n",
       "      <th>3</th>\n",
       "      <td>0002117088</td>\n",
       "      <td>5.000000</td>\n",
       "      <td>0.237500</td>\n",
       "      <td>2.475000</td>\n",
       "      <td>4.000000</td>\n",
       "    </tr>\n",
       "    <tr>\n",
       "      <th>4</th>\n",
       "      <td>000215725X</td>\n",
       "      <td>4.666667</td>\n",
       "      <td>0.190030</td>\n",
       "      <td>2.380060</td>\n",
       "      <td>3.666667</td>\n",
       "    </tr>\n",
       "  </tbody>\n",
       "</table>\n",
       "</div>"
      ],
      "text/plain": [
       "         asin   overall  polarity  norm_polarity  norm_overall\n",
       "0  000100039X  5.000000  0.217668       2.435336      4.000000\n",
       "1  0002051850  4.357143  0.094471       2.188942      3.357143\n",
       "2  0002113570  5.000000  0.142857       2.285714      4.000000\n",
       "3  0002117088  5.000000  0.237500       2.475000      4.000000\n",
       "4  000215725X  4.666667  0.190030       2.380060      3.666667"
      ]
     },
     "execution_count": 84,
     "metadata": {},
     "output_type": "execute_result"
    }
   ],
   "source": [
    "mean_rating_vs_polarity_per_book = mean_rating_vs_polarity_per_book.assign(norm_overall = mean_rating_vs_polarity_per_book['overall'].progress_apply(lambda overall:overall - 1))\n",
    "mean_rating_vs_polarity_per_book.head()"
   ]
  },
  {
   "cell_type": "code",
   "execution_count": 85,
   "metadata": {},
   "outputs": [],
   "source": [
    "import itertools\n",
    "import numpy as np\n",
    "\n",
    "x_ratings = np.asarray(list(itertools.chain(*mean_rating_vs_polarity_per_book.as_matrix(columns=mean_rating_vs_polarity_per_book.columns[4:5]))))\n",
    "y_polarity = np.asarray(list(itertools.chain(*mean_rating_vs_polarity_per_book.as_matrix(columns=mean_rating_vs_polarity_per_book.columns[3:4]))))\n"
   ]
  },
  {
   "cell_type": "code",
   "execution_count": 97,
   "metadata": {},
   "outputs": [],
   "source": [
    "import plotly.plotly as py\n",
    "import plotly.graph_objs as go\n",
    "\n",
    "trace1 = go.Scatter(x=x_ratings, y=y_polarity, \n",
    "                    mode='markers',\n",
    "                    name='ROC curve (area = %0.2f)' % roc_auc[2]\n",
    "                   )\n",
    "\n",
    "trace2 = go.Scatter(x=[0, 4], y=[0, 4], \n",
    "                    mode='markers', \n",
    "                    line=dict(color='red', width=lw, dash='dash'),\n",
    "                    showlegend=False)\n",
    "\n",
    "layout = go.Layout(title='Receiver Operating Characteristic Function',\n",
    "                   xaxis=dict(title='False Positive Rate'),\n",
    "                   yaxis=dict(title='True Positive Rate'))\n",
    "\n",
    "fig = go.Figure(data=[trace1, trace2], layout=layout)"
   ]
  },
  {
   "cell_type": "code",
   "execution_count": 96,
   "metadata": {},
   "outputs": [
    {
     "name": "stderr",
     "output_type": "stream",
     "text": [
      "/Users/falehalrashidi/anaconda3/lib/python3.6/site-packages/plotly/plotly/plotly.py:224: UserWarning:\n",
      "\n",
      "Woah there! Look at all those points! Due to browser limitations, the Plotly SVG drawing functions have a hard time graphing more than 500k data points for line charts, or 40k points for other types of charts. Here are some suggestions:\n",
      "(1) Use the `plotly.graph_objs.Scattergl` trace object to generate a WebGl graph.\n",
      "(2) Trying using the image API to return an image instead of a graph URL\n",
      "(3) Use matplotlib\n",
      "(4) See if you can create your visualization with fewer data points\n",
      "\n",
      "If the visualization you're using aggregates points (e.g., box plot, histogram, etc.) you can disregard this warning.\n",
      "\n"
     ]
    },
    {
     "name": "stdout",
     "output_type": "stream",
     "text": [
      "The draw time for this plot will be slow for clients without much RAM.\n"
     ]
    },
    {
     "name": "stderr",
     "output_type": "stream",
     "text": [
      "/Users/falehalrashidi/anaconda3/lib/python3.6/site-packages/plotly/api/v1/clientresp.py:40: UserWarning:\n",
      "\n",
      "Estimated Draw Time Slow\n",
      "\n"
     ]
    },
    {
     "data": {
      "text/html": [
       "<iframe id=\"igraph\" scrolling=\"no\" style=\"border:none;\" seamless=\"seamless\" src=\"https://plot.ly/~falrashidi/131.embed\" height=\"525px\" width=\"100%\"></iframe>"
      ],
      "text/plain": [
       "<plotly.tools.PlotlyDisplay object>"
      ]
     },
     "execution_count": 96,
     "metadata": {},
     "output_type": "execute_result"
    }
   ],
   "source": [
    "py.iplot(fig)"
   ]
  },
  {
   "cell_type": "code",
   "execution_count": 99,
   "metadata": {},
   "outputs": [],
   "source": [
    "# Create a trace\n",
    "trace = go.Scatter(\n",
    "    x = x_ratings,\n",
    "    y = y_polarity,\n",
    "    mode = 'markers'\n",
    ")\n",
    "\n",
    "layout = go.Layout(title='Correlation between Polarity and Rating',\n",
    "                   xaxis=dict(title='Ratings'),\n",
    "                   yaxis=dict(title='Polarity'))\n",
    "\n",
    "fig = go.Figure(data=[trace], layout=layout)"
   ]
  },
  {
   "cell_type": "code",
   "execution_count": 100,
   "metadata": {},
   "outputs": [
    {
     "name": "stderr",
     "output_type": "stream",
     "text": [
      "/Users/falehalrashidi/anaconda3/lib/python3.6/site-packages/plotly/plotly/plotly.py:224: UserWarning:\n",
      "\n",
      "Woah there! Look at all those points! Due to browser limitations, the Plotly SVG drawing functions have a hard time graphing more than 500k data points for line charts, or 40k points for other types of charts. Here are some suggestions:\n",
      "(1) Use the `plotly.graph_objs.Scattergl` trace object to generate a WebGl graph.\n",
      "(2) Trying using the image API to return an image instead of a graph URL\n",
      "(3) Use matplotlib\n",
      "(4) See if you can create your visualization with fewer data points\n",
      "\n",
      "If the visualization you're using aggregates points (e.g., box plot, histogram, etc.) you can disregard this warning.\n",
      "\n"
     ]
    },
    {
     "name": "stdout",
     "output_type": "stream",
     "text": [
      "The draw time for this plot will be slow for clients without much RAM.\n"
     ]
    },
    {
     "name": "stderr",
     "output_type": "stream",
     "text": [
      "/Users/falehalrashidi/anaconda3/lib/python3.6/site-packages/plotly/api/v1/clientresp.py:40: UserWarning:\n",
      "\n",
      "Estimated Draw Time Slow\n",
      "\n"
     ]
    },
    {
     "data": {
      "text/html": [
       "<iframe id=\"igraph\" scrolling=\"no\" style=\"border:none;\" seamless=\"seamless\" src=\"https://plot.ly/~falrashidi/135.embed\" height=\"525px\" width=\"100%\"></iframe>"
      ],
      "text/plain": [
       "<plotly.tools.PlotlyDisplay object>"
      ]
     },
     "execution_count": 100,
     "metadata": {},
     "output_type": "execute_result"
    }
   ],
   "source": [
    "# Plot and embed in ipython notebook!\n",
    "py.iplot(fig)"
   ]
  },
  {
   "cell_type": "code",
   "execution_count": 101,
   "metadata": {},
   "outputs": [
    {
     "data": {
      "text/plain": [
       "0.1662440592733814"
      ]
     },
     "execution_count": 101,
     "metadata": {},
     "output_type": "execute_result"
    }
   ],
   "source": [
    "mean_rating_vs_polarity_per_book['norm_overall'].corr(mean_rating_vs_polarity_per_book['norm_polarity'])"
   ]
  },
  {
   "cell_type": "code",
   "execution_count": 127,
   "metadata": {
    "collapsed": true
   },
   "outputs": [],
   "source": [
    "df_book_summaries.to_csv(\"../data/processed/007_book_summaries.csv\", sep=\"\\t\")\n",
    "df_book_summaries.to_pickle(\"../data/processed/007_book_summaries.p\")"
   ]
  },
  {
   "cell_type": "markdown",
   "metadata": {},
   "source": [
    "### Some Example Summaries"
   ]
  },
  {
   "cell_type": "code",
   "execution_count": 112,
   "metadata": {},
   "outputs": [
    {
     "data": {
      "text/plain": [
       "'000100039X'"
      ]
     },
     "execution_count": 112,
     "metadata": {},
     "output_type": "execute_result"
    }
   ],
   "source": [
    "\n",
    "df_book_summaries['asin'][0:1][0]"
   ]
  },
  {
   "cell_type": "markdown",
   "metadata": {},
   "source": [
    "![The Prophet](https://images-na.ssl-images-amazon.com/images/I/41S7%2BXDos3L._SX318_BO1,204,203,200_.jpg)"
   ]
  },
  {
   "cell_type": "code",
   "execution_count": 111,
   "metadata": {},
   "outputs": [
    {
     "name": "stdout",
     "output_type": "stream",
     "text": [
      "['There is much that hints at his birth place, Lebanon where many of the old prophets walked the Earth and where this book project first germinated most likely.Probably becuase it was written in English originally, the writing flows, it is pleasant to read, and the charcoal drawings of the author decorating the pages is a plus.', 'I believe that was my first taste of spirituality and seemed  at the time more relevant than what I was being force-fed by nuns in  catechism class.', \"True wisdom comes from within.The prophet's teaching on love is  particularly relevant to me at this stage of my life:&quot;For even as  love crowns you so shall he crucify you.\", 'Even as he ascends to your height and caresses your  tenderest branches that quiver in the sun, So shall he descend to your  roots and shake them in their clinging to the earth.', 'He died of cancer in a New York hospital at the very young age of 48.The Prophet is a story about Almustafa (The Prophet) who after living 12 years in Orphalese is about to depart aboard ship to return to his home.', 'There is no political, religious, or commercial enterprise attached to his name bent on winning souls and/or profits.', 'They are written with the aim of being accessible and immediate to the reader and rely mostly on clear metaphors and vivid imagery.Copies of \"The Prophet\" are not hard to come by.', \"A local seeress who knows him best asks him to share his wisdom so that it will endure for generations to come.So, he reveals his wisdom on love, birth, marriage, children, pain, talking, pleasure, death any so much more.It is a profound work, and here is his advice on marriage so you may judge for yourself:You were born together, and together you shall be forevermore.You shall be together when white wings of death scatter your days.Aye, you shall be together even in the silent memory of God.But let there be spaces in your togetherness,And let the winds of the heavens dance between you.Love one another but make not a bond of love:Let it rather be a moving sea between the shores of your souls.Fill each other's cup but drink not from one cup.Give one another of your bread but eat not from the same loaf.Sing and dance together and be joyous, but let each one of you be alone,Even as the strings of a lute are alone though they quiver with the same music.Give your hearts, but not into each other's keeping.For only the hand of Life can contain your hearts.And stand together, yet not too near together:For the pillars of the temple stand apart,And the oak tree and the cypress grow not in each other's shadow.Its not a little similar to theTao Te Ching: A New English Version (Perennial Classics)where a border guard recognises Lao Tzu, and asks him to share his wisdom as he goes into exile.\", 'Decadence is not suggested, but the basic purpose of Gibran\\'s legacy is to tell us that life is short and must be lived without regrets.It is a book that includes such beautiful metaphors and velvetty language that you are always sucked into reading \"just one more section.\"', \"It states what any prophecy should, and allows the religious aspects of the beliefs to take the backseat to the love of life and aspirations.Buy, read, and live by The Prophet's words.\", 'This is a very usefull book that can be used as a secondary source for your primary religious texts.', 'Gibran is justly famous for rich metaphors that brilliantly highlight the pursuit of Truth and Goodness amidst all the darkness and light of human nature.This is a book to read alone or with a partner, to give and receive, to go back to again and again.Note: the excerpts available in Amazon\\'s \"Search This Book\" facility unfortunately do not do \"The Prophet\" justice, since only the book\\'s introduction is included, whereas the wisdom does not begin unfolding until a bit later.']\n"
     ]
    }
   ],
   "source": [
    "print(df_book_summaries['excerpts'][0:1][0])"
   ]
  },
  {
   "cell_type": "code",
   "execution_count": 119,
   "metadata": {},
   "outputs": [
    {
     "data": {
      "text/plain": [
       "'0002051850'"
      ]
     },
     "execution_count": 119,
     "metadata": {},
     "output_type": "execute_result"
    }
   ],
   "source": [
    "df_book_summaries['asin'][1:2][1]"
   ]
  },
  {
   "cell_type": "markdown",
   "metadata": {},
   "source": [
    "![For Whome the Bell Tolls](https://images-na.ssl-images-amazon.com/images/I/51q-i52PejL._SX316_BO1,204,203,200_.jpg)"
   ]
  },
  {
   "cell_type": "code",
   "execution_count": 121,
   "metadata": {},
   "outputs": [
    {
     "name": "stdout",
     "output_type": "stream",
     "text": [
      "['However, as the story progresses, Hemingway\\'s usage of the King James-style \"Thee\" and \"Thou\" to indicate that a more formal Spanish dialect is being used becomes distractingly gimmicky and wore quite thin by the end of the book.', \"What little is left is a cause whose means and ends don't seem to differ from the alternative, and an appeal to virtues of loyalty to the band, or one's responsibility to follow his duty.\", \"The trouble is, these appeals are made among characters who Jordan - as Hemingway's voice - often considers untrustworthy, repugnant and treacherous.\", 'Another consistent theme found in Hemingway is courage under fire or dire circumstances, whether it is in the bull ring, behind enemy lines, or hunting man-eaters in the green hills of Africa.', 'The chief protagonist is an American named Robert Jordon who has been tasked to blow up a bridge behind enemy lines in the Spanish mountains.', 'Some say that Maria represents Spain and her gang rape represent the despoilage of Spain by the Fascists.Robert and Maria fall in love at first sight.', 'Many Spanish words and phrases were translated literally word for word which gave a sense of the Spanish but sounds archaic and stilted to our English hearing ears.', 'For example, the Spanish characters in the novel referred to each other as thee and thou.', 'The traditional second person singular in English is \"thou/thee/thy\".', \"Like Crane's The Red Badge of Courage, this book deals with the psychological and human ramifications of war.The hero is Robert Jordan, an American idealist fighting in Spain on the side of the `Republic,' or Communist, party.\", 'The quote from John Donne \"never send to know for whom the bell tolls\"  looms ominously throughout the novel, and the battle of the bridge and the final, chilling moment of truth for Robert Jordan drives home the harrowing fact that is the reality of war: \"it tolls for thee.\"', \"Hemingway's magnificent novel has something for everyone:  an action tale, an anti-war protest, a love story, subtle ironies, a magnificent short story within the novel, political criticism of communism and fascism, a philosophy of life, and beautiful descriptions of life that leave you gasping.\", 'But with the action packed into that time and extensive use of flashbacks, it becomes a tapestry of all humankind.', 'After you start to notice the individual threads in the tapestry, be sure to step back and see the whole.', 'For the remarkably balanced and connected artistry of the themes and directions in the story is what makes this book great.If you are disturbed by descriptions of violence, brutality, and inhumanity, you will not enjoy this book.Robert Jordan is an American who has joined the republican side of the Spanish civil war.', 'Now, he is transformed into a demolitions expert who can blow up trains and bridges.', \"The reader is given a fascinating in-depth look into his psyche, where he reflects on his fellow soldiers, plans for warmaking and the justifications and rationalizations along the war trail.Pablo's another character who is burned into your consciousness long after you've finished reading.\", \"There is an incredible flashback story detailing Pablo's orchestration of the sadistic torture and humiliation of a group of wealthy fascist sympathizers.\", \"The vivid description involved in this passage is nothing short of extraordinary.Of course the true democrats, fighting for the Republic against the well financed and better armed fascist military, eventually lose the war, but having that foreknowledge does nothing to detract from the cliff-hanger like feelings brought about by the various battles and journeys the rebel crew embarks on.This is the best, and most accessible of all of Hemingway's works.\", \"He doesn't appear to be completely sold on this cause in Spain, and while he seemingly never leaves this area physically, mentally he challenges the essence of being there time and time again so he can reassure himself that this is the just thing to do, and for the right cause.This is not an easy read in the sense that there is much more to what is going on than meets the eye.\", '(The Western democracies - who might have prevented Spain from going fascist - followed a pusillanimous \"hands off\" policy which only emboldened the insurgents and their supporters.)', 'Into this vortex came many writers and intellectuals.', 'From this self-inflicted literary ambush there is no escape for Hemingway: you either need excellent descriptive prose or superb psychological insight to carve a good story from such crooked timber, for, after all, what else is left to describe in such a situation save inner musings and the outer landscape?The prose is the next problem.', '174]\"So a woman like that Pilar practically pushed this girl into your sleeping bag and what happens?', 'And of course, \"For Whom The Bell Tolls,\" set against the brutal violence of the Spanish Civil War, is probably the definitive work of fiction about this pivotal period in European, and world history.Generalissimo Francisco Franco\\'s fascist troops invaded Spain in July 1936 in order to overthrow the newly established Republic headed by the Popular Front, (composed of liberal democrats, socialists, anarchists, trade unionists, communists and secularists.', \")The country was basically divided into Red Spain - the Republicans, and Black Spain, represented by the landed elite, committed to a feudal system and Franco's cause, Fascists, the urban bourgeoisie, the Roman Catholic Church, and other conservative sectors.\", 'Those who fought with the Abraham Lincoln Brigade, from 1937 through 1938, believed the defense of the Republic represented the last hope of stopping the spread of international fascism.', 'Most of the volunteers were not political, but idealists who were determined to \"make Madrid the tomb of fascism.\"', \"Hemingway's protagonist Robert Jordan, an American professor of Spanish from Missoula, Montana, was one such volunteer.Robert Jordan, an explosives expert, has been ordered to make contact with a small band of partisan fighters in the Guadarrama Mountains of fascist controlled southern Spain.\", \"He undergoes several changes during the 3 days and 3 nights in which the story takes place.Pilar is Pablo's woman, an extremely strong and savvy person, she is steeped in gypsy lore and superstition, and is probably the novel's most colorful character.\", 'When Robert Jordon joins them, Pilar takes the leadership position over from Pablo, whom she no longer trusts, but still loves.', \"Pilar, relates various war stories, and anecdotes, which reflect the cruelty and inhumanity of civil war.Mar&iacute;a's life was shattered by the outbreak of the war.\", 'Since her mother was not a Republican, but a devout Catholic, she shouted, \"Viva my husband, the town\\'s mayor,\" before she died, rather than the more typical, \"Viva La Republica!\"', 'Hemingway worked as a correspondent in Spain during the Civil War, as a reporter for the North American Newspaper Alliance (NANA).', 'When it comes to men at war, the book shines.A technique that I found interesting was the way that Hemingway created the absent character of Kashkin.', 'The sex, the declarations of love, the intimacy, it all seems hollow.In every other place in the novel there is complexity, nuance.', 'And in a novel that creates such a real portrait of war and moral ambiguity; complexity in loyalty, politics, allegiance, nationality, and idealism, to offer the reader such an ordinary, pop-song rendition of love nearly justifies skipping every section where one sees the words \"little rabbit.', '\"Hemingway attempts to integrate language into the story by employing the occasional Spanish word along with an antiquated sort of English, full of thou and  thee.', 'The whole novel, except for some flashbacks and reminiscences of various characters, covers just a few days.Although the novel focuses on a small number of characters in a fairly compressed time period, Hemingway attains a real epic feel with this book.', 'It offers a compelling perspective on war from the viewpoint of guerrilla forces, rather than conventional forces (interested readers might want to check out Mao Tse-Tung\\'s \"On Guerrilla Warfare\" for some theoretical and historical perspective).', 'Other significant issues include loyalty, leadership, communications, military hardware, the impact of weather and terrain, and the connection between guerrilla and conventional forces.', 'The novel follows his experiences with a band of guerrilla fighters as he undertakes a mission to blow up a strategic bridge.', 'Thus the book should interest not just lovers of literature, but also serious military professionals and students of the history of warfare.Hemingway offers a grim and graphic look at the brutality of 20th century warfare.', \"In Hemingway's world storytelling is as essential a human activity as eating, fighting, and lovemaking.Hemingway's writing appeals to all the senses as he creates some vivid scenes.\", 'For intriguing companion texts that also deal with the Spanish Civil War, I recommend \"Spain\\'s Cause Was Mine: A Memoir of an American Medic in the Spanish Civil War,\" by Hank Rubin, and \"The Confessions of Senora Francesca Navarro and Other Stories,\" by Natalie L. M. Petesch.', 'Once the fiercest of the Republicans, he is now well-fed and content in his mountain hideaway, has a dozen or so horses that make him rich, and knows that the actions contemplated by Roberto will bring an end to his safety.', 'She describes in memorable detail her love affair with a matador in Valencia, and how she drank cold beer with the sweat dripping off the glass while he napped in the room behind her.', 'Along the way Jordan will learn the revolting pasts of several of the guerrillas, fall in love with one of them, and spend quite some time meditating on \"truths\" he was once sure he knew.No sooner has Jordan met with the guerrillas than he discovers that one of them, fearful of being hunted down by the fascist forces, stands against him and threatens to take the entire group away.', 'Even as they curse and spit at the fascists several of these guerrillas communicate, through their stories, arguments against the futility and cruelty of the war they have willfully taken up.', 'The answers are so well bound with the narrative that often one hardly notices a metaphysical discussion has occurred, but those who give the text a second look will find a philosophical subtext as gripping as the plot line.As for the story,  Hemingway creates out of his assortment of characters a narrative of breathtaking beauty.', 'Jordan, an American, is in Spain fighting on the side of the Republicans in 1937 during the Spanish Civil War.', 'He is a Spanish teacher from Montana who loves Spain, and is fighting, carrying out explosives missions, against the Fascists, who have a vast war machine.At the beginning of the novel, Robert Jordan is teamed up with a band of guerrilla fighters in the mountains near a bridge he must blow as part of a Republican offensive.', 'Other members of the band include Pablo, a formerly great fighter, we are told, who has now &quot;gone bad.&quot; He cares primarily for his horses.', \"The story is brutal and demonstrates the atrocities committed by the Republicans in the war as they bludgeon the town's Fascists to save bullets.\", \"She is the &quot;love interest.&quot;I love Hemingway's voice, and this novel continues to demonstrate his ability, with that spare, journalistic style, to narrate loneliness like no one else.\", 'The seemingly simplistic style evokes a real pathos, and is especially suited to writing of war and the human spiritual conflicts such situations impose upon its participants.', 'I laughed allowed at the absudities, but was struck by the dire consequences of these ridiculous desicions and actions.', \"These situations show the war machine's indifference to individual human life and the ridiculous scenarios that arise from various leaders' individual conceits and worries.I think that the book's time frame of only three days makes a strong point about war and the people one serves with.\", 'For the reader, the band in the mountains are basically the only people Robert Jordan knows (though there are brief flashbacks).', 'Perhaps the bell tolled for Ernest and his bid for literary greatness with the passing of this book.', 'To the extent that Hemingway wanted to reach the apex of truth in storytelling, and to find a suitable language to express it, this book is a great achievement.', 'Hemingway chooses Spanish modulation of English words to power his narrative - from the start, the reader senses the honor, strength, and spirit every sentence spoken carries with it.Ernest is not just translating from Spanish to wow us; the reader feels that when he wrote this book, Spanish was the only language that could express his happiness, his sadness, his pleasure and suffering.', \"Maybe Spanish contained the words and meanings Hemingway and those involved in the war for Spanish liberty sought desperately every night by the campfire - words of fear and love.To me, this book was Hemingway's most significant attempt at articulating his life philosophy.\", \"You might argue that El Sordo's last stand is followed by Hemingway's personal literary last stand - against fascism, fear, and life's various illusions.\"]\n"
     ]
    }
   ],
   "source": [
    "print(df_book_summaries['excerpts'][1:2][1])"
   ]
  },
  {
   "cell_type": "code",
   "execution_count": 122,
   "metadata": {},
   "outputs": [
    {
     "data": {
      "text/plain": [
       "'0002113570'"
      ]
     },
     "execution_count": 122,
     "metadata": {},
     "output_type": "execute_result"
    }
   ],
   "source": [
    "df_book_summaries['asin'][2:3][2]"
   ]
  },
  {
   "cell_type": "markdown",
   "metadata": {},
   "source": [
    "![In the Shadow of a Man](https://images-na.ssl-images-amazon.com/images/I/51m1J%2BSclnL._SX304_BO1,204,203,200_.jpg)"
   ]
  },
  {
   "cell_type": "code",
   "execution_count": 123,
   "metadata": {},
   "outputs": [
    {
     "data": {
      "text/plain": [
       "['That an English woman scientist would journey to Tanzania to engage in this type of research is unusual and certainly puts her at \"the top of her class\".She follows the lives and behavior patterns of her subjects until her research sounds like a Michener novel with its generational emphasis and timelines of family heritage.',\n",
       " 'The squabbles and fighting behavior could be that of any large Homo Sapien family.',\n",
       " 'Jane Goodall deserves every accolade she gets for bringing us a lens through which to observe another geneological line of a species that has developed from our common ancestors.Her work suggests that we should rethink our medical research toward more humane treatment of these animals whose behavior is  too similar to ours to ignore.']"
      ]
     },
     "execution_count": 123,
     "metadata": {},
     "output_type": "execute_result"
    }
   ],
   "source": [
    "df_book_summaries['excerpts'][2:3][2]"
   ]
  },
  {
   "cell_type": "code",
   "execution_count": 124,
   "metadata": {},
   "outputs": [
    {
     "data": {
      "text/plain": [
       "'0002117088'"
      ]
     },
     "execution_count": 124,
     "metadata": {},
     "output_type": "execute_result"
    }
   ],
   "source": [
    "df_book_summaries['asin'][3:4][3]"
   ]
  },
  {
   "cell_type": "markdown",
   "metadata": {},
   "source": [
    "![Renoir, My Father](https://images-na.ssl-images-amazon.com/images/I/41isN3EczFL._SX373_BO1,204,203,200_.jpg)"
   ]
  },
  {
   "cell_type": "code",
   "execution_count": 126,
   "metadata": {},
   "outputs": [
    {
     "data": {
      "text/plain": [
       "[\"We adopted &quot;Renoir, My Father&quot; as bedside reading while my wife was recovering from hip surgery, and (aside, perhaps, from &quot;Goodnight, Moon,&quot;) I can't imagine better therapy.\",\n",
       " 'None of the rough edges have been smoothed off which, come to think of it, is just as Claude would have wanted: Jean speaks with his own voice.',\n",
       " 'There is even an index of sorts (I assume from the original translator) but it is patchy and incomplete.',\n",
       " \"That last is a shortcoming, but forgivable in light of the book's other virtues.\"]"
      ]
     },
     "execution_count": 126,
     "metadata": {},
     "output_type": "execute_result"
    }
   ],
   "source": [
    "df_book_summaries['excerpts'][3:4][3]"
   ]
  },
  {
   "cell_type": "code",
   "execution_count": 132,
   "metadata": {},
   "outputs": [
    {
     "data": {
      "text/plain": [
       "'000222383X'"
      ]
     },
     "execution_count": 132,
     "metadata": {},
     "output_type": "execute_result"
    }
   ],
   "source": [
    "df_book_summaries['asin'][6:7][6]"
   ]
  },
  {
   "cell_type": "markdown",
   "metadata": {},
   "source": [
    "![The Mauritius Command](https://images-na.ssl-images-amazon.com/images/I/51S6XET6X0L._AC_US436_QL65_.jpg)"
   ]
  },
  {
   "cell_type": "code",
   "execution_count": 131,
   "metadata": {},
   "outputs": [
    {
     "data": {
      "text/plain": [
       "[\"The Patrick O'Brian naval series of books are an acquired taste.\",\n",
       " 'While the books appear on the outside to be simple naval adventure tales, they are really deep studies in character development of a British naval officer and his best friend/ship surgeon/intelligence operative.The Mauritius Command is one of the best books in the series.',\n",
       " \"As is usually the case, despite great achievements in the past, Jack is shackled and insufficiently rewarded by his superiors in the admiralty, and his supposed connections, through his father in the Parliament, are of little help.O'Brian seems to assume a good bit of nautical knowledge by the reader, and this landlubber sometimes got a little lost in the naval warfare scenes.\",\n",
       " \"The most engaging aspects of the novel seemed to me the differences in character, and the seething one-upsmanship among the various ship captains under Jack's overall command including Captains Pym, Clonfert and Corbett.\",\n",
       " \"The problem was, just when the author whets your appetite for some great internal conflict or drama between the brutal Corbett and the popular Clonfert, Corbett is sent from the area.Moreover, the final battle scenes are almost thrown together in summary form, as if the culmination of the mission did not really concern O'Brian as much as the hassles of getting there, and so there was a bit of a letdown at the end.\",\n",
       " 'For readers unfamiliar with these books, they describe the experiences of a Royal Navy officer and his close friend and traveling companion, a naval surgeon.',\n",
       " \"Aubrey's navy is an organization reflecting its society; an order based on deference, rigid hierarchy, primitive notions of honor, favoritism, and very, very corrupt.\",\n",
       " \"In some ways, it was a ruthless meritocracy whose structure and success anticipates the great expansion of government power and capacity seen in the rest of the 19th century.O'Brian is also the great writer about male friendship.\",\n",
       " 'He has not one but two major protagonists.',\n",
       " \"This is quite difficult and I'm not aware of any other writer who has been able to accomplish such sustained development of two major protagonists for such a prolonged period.\"]"
      ]
     },
     "execution_count": 131,
     "metadata": {},
     "output_type": "execute_result"
    }
   ],
   "source": [
    "df_book_summaries['excerpts'][6:7][6]"
   ]
  },
  {
   "cell_type": "code",
   "execution_count": 120,
   "metadata": {
    "collapsed": true
   },
   "outputs": [],
   "source": [
    "## END_OF_FILE"
   ]
  },
  {
   "cell_type": "code",
   "execution_count": null,
   "metadata": {
    "collapsed": true
   },
   "outputs": [],
   "source": []
  }
 ],
 "metadata": {
  "kernelspec": {
   "display_name": "Python 3",
   "language": "python",
   "name": "python3"
  },
  "language_info": {
   "codemirror_mode": {
    "name": "ipython",
    "version": 3
   },
   "file_extension": ".py",
   "mimetype": "text/x-python",
   "name": "python",
   "nbconvert_exporter": "python",
   "pygments_lexer": "ipython3",
   "version": "3.6.2"
  }
 },
 "nbformat": 4,
 "nbformat_minor": 2
}
