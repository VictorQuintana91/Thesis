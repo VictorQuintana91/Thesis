{
 "cells": [
  {
   "cell_type": "code",
   "execution_count": 142,
   "metadata": {},
   "outputs": [],
   "source": [
    "from nltk.corpus import wordnet as wn\n",
    "from itertools import product\n",
    "\n",
    "wordx, wordy = \"King\",\"Queen\"\n",
    "sem1, sem2 = wn.synsets(wordx), wn.synsets(wordy)\n"
   ]
  },
  {
   "cell_type": "code",
   "execution_count": 143,
   "metadata": {},
   "outputs": [
    {
     "data": {
      "text/plain": [
       "[Synset('king.n.01'),\n",
       " Synset('king.n.02'),\n",
       " Synset('baron.n.03'),\n",
       " Synset('king.n.04'),\n",
       " Synset('king.n.05'),\n",
       " Synset('king.n.06'),\n",
       " Synset('king.n.07'),\n",
       " Synset('king.n.08'),\n",
       " Synset('king.n.09'),\n",
       " Synset('king.n.10')]"
      ]
     },
     "execution_count": 143,
     "metadata": {},
     "output_type": "execute_result"
    }
   ],
   "source": [
    "sem1"
   ]
  },
  {
   "cell_type": "code",
   "execution_count": 144,
   "metadata": {},
   "outputs": [
    {
     "data": {
      "text/plain": [
       "[Synset('queen.n.01'),\n",
       " Synset('queen.n.02'),\n",
       " Synset('queen.n.03'),\n",
       " Synset('queen.n.04'),\n",
       " Synset('king.n.02'),\n",
       " Synset('fagot.n.01'),\n",
       " Synset('queen.n.07'),\n",
       " Synset('queen.n.08'),\n",
       " Synset('queen.n.09'),\n",
       " Synset('tabby.n.02'),\n",
       " Synset('queen.v.01'),\n",
       " Synset('queen.v.02')]"
      ]
     },
     "execution_count": 144,
     "metadata": {},
     "output_type": "execute_result"
    }
   ],
   "source": [
    "sem2"
   ]
  },
  {
   "cell_type": "code",
   "execution_count": 145,
   "metadata": {},
   "outputs": [],
   "source": [
    "prod = list(product(*[sem1,sem2]))"
   ]
  },
  {
   "cell_type": "code",
   "execution_count": 146,
   "metadata": {},
   "outputs": [
    {
     "data": {
      "text/plain": [
       "0.5714285714285714"
      ]
     },
     "execution_count": 146,
     "metadata": {},
     "output_type": "execute_result"
    }
   ],
   "source": [
    "prod[1][0].wup_similarity(prod[1][1])"
   ]
  },
  {
   "cell_type": "code",
   "execution_count": 147,
   "metadata": {},
   "outputs": [],
   "source": [
    "maxscore = 0.0\n",
    "for i,j in prod:\n",
    "    score = i.wup_similarity(j) # Wu-Palmer Similarity\n",
    "    if score is not None:\n",
    "        if maxscore < score:\n",
    "            maxscore = score"
   ]
  },
  {
   "cell_type": "code",
   "execution_count": 148,
   "metadata": {},
   "outputs": [
    {
     "name": "stdout",
     "output_type": "stream",
     "text": [
      "Similarity between dog and cat is : 1.0\n"
     ]
    }
   ],
   "source": [
    "print(\"Similarity between dog and cat is : \" + str(maxscore))"
   ]
  },
  {
   "cell_type": "code",
   "execution_count": null,
   "metadata": {
    "collapsed": true
   },
   "outputs": [],
   "source": []
  },
  {
   "cell_type": "code",
   "execution_count": null,
   "metadata": {
    "collapsed": true
   },
   "outputs": [],
   "source": []
  }
 ],
 "metadata": {
  "kernelspec": {
   "display_name": "Python 3",
   "language": "python",
   "name": "python3"
  },
  "language_info": {
   "codemirror_mode": {
    "name": "ipython",
    "version": 3
   },
   "file_extension": ".py",
   "mimetype": "text/x-python",
   "name": "python",
   "nbconvert_exporter": "python",
   "pygments_lexer": "ipython3",
   "version": "3.6.2"
  }
 },
 "nbformat": 4,
 "nbformat_minor": 2
}
