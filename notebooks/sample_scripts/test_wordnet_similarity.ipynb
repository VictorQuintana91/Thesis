{
 "cells": [
  {
   "cell_type": "markdown",
   "metadata": {},
   "source": [
    "# WordNet Similarity"
   ]
  },
  {
   "cell_type": "code",
   "execution_count": 142,
   "metadata": {},
   "outputs": [],
   "source": [
    "from nltk.corpus import wordnet as wn\n",
    "from itertools import product\n",
    "\n",
    "wordx, wordy = \"King\",\"Queen\"\n",
    "sem1, sem2 = wn.synsets(wordx), wn.synsets(wordy)\n"
   ]
  },
  {
   "cell_type": "code",
   "execution_count": 143,
   "metadata": {},
   "outputs": [
    {
     "data": {
      "text/plain": [
       "[Synset('king.n.01'),\n",
       " Synset('king.n.02'),\n",
       " Synset('baron.n.03'),\n",
       " Synset('king.n.04'),\n",
       " Synset('king.n.05'),\n",
       " Synset('king.n.06'),\n",
       " Synset('king.n.07'),\n",
       " Synset('king.n.08'),\n",
       " Synset('king.n.09'),\n",
       " Synset('king.n.10')]"
      ]
     },
     "execution_count": 143,
     "metadata": {},
     "output_type": "execute_result"
    }
   ],
   "source": [
    "sem1"
   ]
  },
  {
   "cell_type": "code",
   "execution_count": 144,
   "metadata": {},
   "outputs": [
    {
     "data": {
      "text/plain": [
       "[Synset('queen.n.01'),\n",
       " Synset('queen.n.02'),\n",
       " Synset('queen.n.03'),\n",
       " Synset('queen.n.04'),\n",
       " Synset('king.n.02'),\n",
       " Synset('fagot.n.01'),\n",
       " Synset('queen.n.07'),\n",
       " Synset('queen.n.08'),\n",
       " Synset('queen.n.09'),\n",
       " Synset('tabby.n.02'),\n",
       " Synset('queen.v.01'),\n",
       " Synset('queen.v.02')]"
      ]
     },
     "execution_count": 144,
     "metadata": {},
     "output_type": "execute_result"
    }
   ],
   "source": [
    "sem2"
   ]
  },
  {
   "cell_type": "code",
   "execution_count": 145,
   "metadata": {},
   "outputs": [],
   "source": [
    "prod = list(product(*[sem1,sem2]))"
   ]
  },
  {
   "cell_type": "code",
   "execution_count": 146,
   "metadata": {},
   "outputs": [
    {
     "data": {
      "text/plain": [
       "0.5714285714285714"
      ]
     },
     "execution_count": 146,
     "metadata": {},
     "output_type": "execute_result"
    }
   ],
   "source": [
    "prod[1][0].wup_similarity(prod[1][1])"
   ]
  },
  {
   "cell_type": "code",
   "execution_count": 147,
   "metadata": {},
   "outputs": [],
   "source": [
    "maxscore = 0.0\n",
    "for i,j in prod:\n",
    "    score = i.wup_similarity(j) # Wu-Palmer Similarity\n",
    "    if score is not None:\n",
    "        if maxscore < score:\n",
    "            maxscore = score"
   ]
  },
  {
   "cell_type": "code",
   "execution_count": 148,
   "metadata": {},
   "outputs": [
    {
     "name": "stdout",
     "output_type": "stream",
     "text": [
      "Similarity between dog and cat is : 1.0\n"
     ]
    }
   ],
   "source": [
    "print(\"Similarity between King and Queen is : \" + str(maxscore))"
   ]
  },
  {
   "cell_type": "markdown",
   "metadata": {},
   "source": [
    "# Contextual Similarity"
   ]
  },
  {
   "cell_type": "code",
   "execution_count": 151,
   "metadata": {},
   "outputs": [
    {
     "name": "stdout",
     "output_type": "stream",
     "text": [
      "man time day year car moment world house family child country boy\n",
      "state job place way war girl work word\n"
     ]
    }
   ],
   "source": [
    "import nltk\n",
    "\n",
    "text = nltk.Text(word.lower() for word in nltk.corpus.brown.words())\n",
    "text.similar('woman')"
   ]
  },
  {
   "cell_type": "code",
   "execution_count": 152,
   "metadata": {},
   "outputs": [
    {
     "name": "stdout",
     "output_type": "stream",
     "text": [
      "man number time world fact end year state house way day use part kind boy matter problem result girl group\n"
     ]
    }
   ],
   "source": [
    "similar_words = text._word_context_index.similar_words('woman')\n",
    "print(' '.join(similar_words))"
   ]
  },
  {
   "cell_type": "code",
   "execution_count": 167,
   "metadata": {},
   "outputs": [
    {
     "data": {
      "text/plain": [
       "FreqDist({('about', 'father'): 2,\n",
       "          ('about', 'own'): 2,\n",
       "          ('about', 'plans'): 2,\n",
       "          ('above', 'head'): 2,\n",
       "          ('across', 'face'): 2,\n",
       "          ('across', 'nose'): 2,\n",
       "          ('after', 'arrival'): 2,\n",
       "          ('all', 'life'): 2,\n",
       "          ('all', 'time'): 2,\n",
       "          ('and', 'band'): 2,\n",
       "          ('and', 'best'): 2,\n",
       "          ('and', 'breath'): 2,\n",
       "          ('and', 'close'): 2,\n",
       "          ('and', 'dark'): 2,\n",
       "          ('and', 'daughter'): 2,\n",
       "          ('and', 'death'): 2,\n",
       "          ('and', 'eyes'): 2,\n",
       "          ('and', 'face'): 2,\n",
       "          ('and', 'family'): 2,\n",
       "          ('and', 'father'): 2,\n",
       "          ('and', 'fears'): 2,\n",
       "          ('and', 'fellow'): 2,\n",
       "          ('and', 'followers'): 2,\n",
       "          ('and', 'mind'): 2,\n",
       "          ('and', 'mother'): 2,\n",
       "          ('and', 'mouth'): 2,\n",
       "          ('and', 'own'): 2,\n",
       "          ('and', 'partner'): 2,\n",
       "          ('and', 'son'): 2,\n",
       "          ('and', 'spirit'): 2,\n",
       "          ('and', 'tone'): 2,\n",
       "          ('and', 'voice'): 2,\n",
       "          ('around', 'ankles'): 2,\n",
       "          ('around', 'neck'): 2,\n",
       "          ('around', 'shoulders'): 2,\n",
       "          ('as', 'first'): 2,\n",
       "          ('at', 'best'): 2,\n",
       "          ('at', 'door'): 2,\n",
       "          ('at', 'eyes'): 2,\n",
       "          ('at', 'heart'): 2,\n",
       "          ('at', 'home'): 2,\n",
       "          ('at', 'side'): 2,\n",
       "          ('away', 'eyes'): 2,\n",
       "          ('blew', 'nose'): 2,\n",
       "          ('but', 'father'): 2,\n",
       "          ('but', 'hands'): 2,\n",
       "          ('but', 'mother'): 2,\n",
       "          ('by', 'mother'): 2,\n",
       "          ('by', 'own'): 2,\n",
       "          ('by', 'side'): 2,\n",
       "          ('caught', 'breath'): 2,\n",
       "          ('change', 'mind'): 2,\n",
       "          ('choose', 'own'): 2,\n",
       "          ('closed', 'eyes'): 2,\n",
       "          ('continue', 'studies'): 2,\n",
       "          ('do', 'best'): 2,\n",
       "          ('done', 'work'): 2,\n",
       "          ('down', 'throat'): 2,\n",
       "          ('drank', 'coffee'): 2,\n",
       "          ('during', 'first'): 2,\n",
       "          ('entered', 'room'): 2,\n",
       "          ('for', 'age'): 2,\n",
       "          ('for', 'and'): 2,\n",
       "          ('for', 'being'): 2,\n",
       "          ('for', 'dinner'): 2,\n",
       "          ('for', 'entire'): 2,\n",
       "          ('for', 'first'): 2,\n",
       "          ('for', 'fourth'): 2,\n",
       "          ('for', 'master'): 2,\n",
       "          ('for', 'mother'): 2,\n",
       "          ('for', 'son'): 2,\n",
       "          ('from', 'bed'): 2,\n",
       "          ('from', 'face'): 2,\n",
       "          ('from', 'hand'): 2,\n",
       "          ('from', 'mouth'): 2,\n",
       "          ('from', 'own'): 2,\n",
       "          ('from', 'sight'): 2,\n",
       "          ('gave', 'as'): 2,\n",
       "          ('had', 'first'): 2,\n",
       "          ('him', 'eyes'): 2,\n",
       "          ('hung', 'head'): 2,\n",
       "          ('in', 'arms'): 2,\n",
       "          ('in', 'bedroom'): 2,\n",
       "          ('in', 'best'): 2,\n",
       "          ('in', 'body'): 2,\n",
       "          ('in', 'car'): 2,\n",
       "          ('in', 'chair'): 2,\n",
       "          ('in', 'chosen'): 2,\n",
       "          ('in', 'country'): 2,\n",
       "          ('in', 'direction'): 2,\n",
       "          ('in', 'ears'): 2,\n",
       "          ('in', 'efforts'): 2,\n",
       "          ('in', 'eye'): 2,\n",
       "          ('in', 'eyes'): 2,\n",
       "          ('in', 'face'): 2,\n",
       "          ('in', 'family'): 2,\n",
       "          ('in', 'favor'): 2,\n",
       "          ('in', 'first'): 2,\n",
       "          ('in', 'friend'): 2,\n",
       "          ('in', 'hair'): 2,\n",
       "          ('in', 'hand'): 2,\n",
       "          ('in', 'house'): 2,\n",
       "          ('in', 'lap'): 2,\n",
       "          ('in', 'letter'): 2,\n",
       "          ('in', 'letters'): 2,\n",
       "          ('in', 'life'): 2,\n",
       "          ('in', 'mind'): 2,\n",
       "          ('in', 'mouth'): 2,\n",
       "          ('in', 'native'): 2,\n",
       "          ('in', 'nature'): 2,\n",
       "          ('in', 'new'): 2,\n",
       "          ('in', 'old'): 2,\n",
       "          ('in', 'opening'): 2,\n",
       "          ('in', 'opinion'): 2,\n",
       "          ('in', 'own'): 2,\n",
       "          ('in', 'present'): 2,\n",
       "          ('in', 'right'): 2,\n",
       "          ('in', 'room'): 2,\n",
       "          ('in', 'ship'): 2,\n",
       "          ('in', 'sleep'): 2,\n",
       "          ('in', 'stall'): 2,\n",
       "          ('in', 'stomach'): 2,\n",
       "          ('in', 'summary'): 2,\n",
       "          ('in', 'throat'): 2,\n",
       "          ('in', 'time'): 2,\n",
       "          ('in', 'tone'): 2,\n",
       "          ('in', 'twenties'): 2,\n",
       "          ('in', 'voice'): 2,\n",
       "          ('into', 'big'): 2,\n",
       "          ('into', 'eyes'): 2,\n",
       "          ('into', 'life'): 2,\n",
       "          ('into', 'mind'): 2,\n",
       "          ('into', 'own'): 2,\n",
       "          ('into', 'room'): 2,\n",
       "          ('it', 'face'): 2,\n",
       "          ('kept', 'eyes'): 2,\n",
       "          ('lifted', 'head'): 2,\n",
       "          ('lost', 'head'): 2,\n",
       "          ('lost', 'job'): 2,\n",
       "          ('lowered', 'head'): 2,\n",
       "          ('made', 'way'): 2,\n",
       "          ('me', 'eyes'): 2,\n",
       "          ('moving', 'lips'): 2,\n",
       "          ('of', 'age'): 2,\n",
       "          ('of', 'ancestors'): 2,\n",
       "          ('of', 'arm'): 2,\n",
       "          ('of', 'back'): 2,\n",
       "          ('of', 'being'): 2,\n",
       "          ('of', 'big'): 2,\n",
       "          ('of', 'body'): 2,\n",
       "          ('of', 'book'): 2,\n",
       "          ('of', 'brain'): 2,\n",
       "          ('of', 'brother'): 2,\n",
       "          ('of', 'business'): 2,\n",
       "          ('of', 'career'): 2,\n",
       "          ('of', 'cheek'): 2,\n",
       "          ('of', 'coat'): 2,\n",
       "          ('of', 'condition'): 2,\n",
       "          ('of', 'convictions'): 2,\n",
       "          ('of', 'death'): 2,\n",
       "          ('of', 'dedication'): 2,\n",
       "          ('of', 'desire'): 2,\n",
       "          ('of', 'environment'): 2,\n",
       "          ('of', 'extreme'): 2,\n",
       "          ('of', 'eyes'): 2,\n",
       "          ('of', 'face'): 2,\n",
       "          ('of', 'family'): 2,\n",
       "          ('of', 'father'): 2,\n",
       "          ('of', 'fellow'): 2,\n",
       "          ('of', 'fingers'): 2,\n",
       "          ('of', 'first'): 2,\n",
       "          ('of', 'friends'): 2,\n",
       "          ('of', 'great'): 2,\n",
       "          ('of', 'hand'): 2,\n",
       "          ('of', 'hands'): 2,\n",
       "          ('of', 'he'): 2,\n",
       "          ('of', 'head'): 2,\n",
       "          ('of', 'heart'): 2,\n",
       "          ('of', 'home'): 2,\n",
       "          ('of', 'house'): 2,\n",
       "          ('of', 'in'): 2,\n",
       "          ('of', 'jaws'): 2,\n",
       "          ('of', 'kind'): 2,\n",
       "          ('of', 'last'): 2,\n",
       "          ('of', 'life'): 2,\n",
       "          ('of', 'little'): 2,\n",
       "          ('of', 'lodge'): 2,\n",
       "          ('of', 'love'): 2,\n",
       "          ('of', 'major'): 2,\n",
       "          ('of', 'manner'): 2,\n",
       "          ('of', 'mind'): 2,\n",
       "          ('of', 'mother'): 2,\n",
       "          ('of', 'mouth'): 2,\n",
       "          ('of', 'movements'): 2,\n",
       "          ('of', 'neck'): 2,\n",
       "          ('of', 'neighbors'): 2,\n",
       "          ('of', 'new'): 2,\n",
       "          ('of', 'on'): 2,\n",
       "          ('of', 'other'): 2,\n",
       "          ('of', 'own'): 2,\n",
       "          ('of', 'parents'): 2,\n",
       "          ('of', 'physical'): 2,\n",
       "          ('of', 'previous'): 2,\n",
       "          ('of', 'program'): 2,\n",
       "          ('of', 'return'): 2,\n",
       "          ('of', 'sharp'): 2,\n",
       "          ('of', 'sinister'): 2,\n",
       "          ('of', 'style'): 2,\n",
       "          ('of', 'the'): 2,\n",
       "          ('of', 'tone'): 2,\n",
       "          ('of', 'voice'): 2,\n",
       "          ('of', 'words'): 2,\n",
       "          ('off', 'clothes'): 2,\n",
       "          ('off', 'feet'): 2,\n",
       "          ('on', 'arm'): 2,\n",
       "          ('on', 'as'): 2,\n",
       "          ('on', 'back'): 2,\n",
       "          ('on', 'behalf'): 2,\n",
       "          ('on', 'face'): 2,\n",
       "          ('on', 'feet'): 2,\n",
       "          ('on', 'first'): 2,\n",
       "          ('on', 'hands'): 2,\n",
       "          ('on', 'head'): 2,\n",
       "          ('on', 'heels'): 2,\n",
       "          ('on', 'lap'): 2,\n",
       "          ('on', 'left'): 2,\n",
       "          ('on', 'leg'): 2,\n",
       "          ('on', 'legs'): 2,\n",
       "          ('on', 'lips'): 2,\n",
       "          ('on', 'mind'): 2,\n",
       "          ('on', 'own'): 2,\n",
       "          ('on', 'part'): 2,\n",
       "          ('on', 'program'): 2,\n",
       "          ('on', 'second'): 2,\n",
       "          ('on', 'shoulders'): 2,\n",
       "          ('on', 'side'): 2,\n",
       "          ('on', 'stomach'): 2,\n",
       "          ('on', 'way'): 2,\n",
       "          ('open', 'mouth'): 2,\n",
       "          ('opened', 'eyes'): 2,\n",
       "          ('or', 'own'): 2,\n",
       "          ('out', 'clothes'): 2,\n",
       "          ('out', 'hand'): 2,\n",
       "          ('out', 'life'): 2,\n",
       "          ('over', 'head'): 2,\n",
       "          ('pursed', 'lips'): 2,\n",
       "          ('pushed', 'way'): 2,\n",
       "          ('put', 'arms'): 2,\n",
       "          ('put', 'hand'): 2,\n",
       "          ('put', 'hands'): 2,\n",
       "          ('raised', 'voice'): 2,\n",
       "          ('rubbed', 'eyes'): 2,\n",
       "          ('said', 'voice'): 2,\n",
       "          ('school', 'parents'): 2,\n",
       "          ('see', 'face'): 2,\n",
       "          ('shaking', 'head'): 2,\n",
       "          ('shook', 'head'): 2,\n",
       "          ('shrugged', 'shoulders'): 2,\n",
       "          ('that', 'actions'): 2,\n",
       "          ('that', 'eyes'): 2,\n",
       "          ('that', 'face'): 2,\n",
       "          ('that', 'father'): 2,\n",
       "          ('that', 'mother'): 2,\n",
       "          ('through', 'mind'): 2,\n",
       "          ('through', 'nose'): 2,\n",
       "          ('to', 'and'): 2,\n",
       "          ('to', 'apartment'): 2,\n",
       "          ('to', 'as'): 2,\n",
       "          ('to', 'bed'): 2,\n",
       "          ('to', 'bedroom'): 2,\n",
       "          ('to', 'but'): 2,\n",
       "          ('to', 'credit'): 2,\n",
       "          ('to', 'face'): 2,\n",
       "          ('to', 'feet'): 2,\n",
       "          ('to', 'home'): 2,\n",
       "          ('to', 'house'): 2,\n",
       "          ('to', 'knees'): 2,\n",
       "          ('to', 'left'): 2,\n",
       "          ('to', 'lips'): 2,\n",
       "          ('to', 'mother'): 2,\n",
       "          ('to', 'own'): 2,\n",
       "          ('to', 'parents'): 2,\n",
       "          ('to', 'pride'): 2,\n",
       "          ('to', 'room'): 2,\n",
       "          ('to', 'senses'): 2,\n",
       "          ('to', 'shoulders'): 2,\n",
       "          ('to', 'side'): 2,\n",
       "          ('to', 'son'): 2,\n",
       "          ('to', 'surprise'): 2,\n",
       "          ('to', 'taste'): 2,\n",
       "          ('took', 'hand'): 2,\n",
       "          ('turned', 'attention'): 2,\n",
       "          ('turned', 'head'): 2,\n",
       "          ('under', 'arm'): 2,\n",
       "          ('under', 'influence'): 2,\n",
       "          ('under', 'own'): 2,\n",
       "          ('up', 'hands'): 2,\n",
       "          ('up', 'mind'): 2,\n",
       "          ('up', 'own'): 2,\n",
       "          ('visit', 'home'): 2,\n",
       "          ('was', 'first'): 2,\n",
       "          ('was', 'name'): 2,\n",
       "          ('was', 'own'): 2,\n",
       "          ('wash', 'hands'): 2,\n",
       "          ('washed', 'face'): 2,\n",
       "          ('were', 'due'): 2,\n",
       "          ('with', 'and'): 2,\n",
       "          ('with', 'back'): 2,\n",
       "          ('with', 'brother'): 2,\n",
       "          ('with', 'eyes'): 2,\n",
       "          ('with', 'father'): 2,\n",
       "          ('with', 'for'): 2,\n",
       "          ('with', 'hand'): 2,\n",
       "          ('with', 'head'): 2,\n",
       "          ('with', 'job'): 2,\n",
       "          ('with', 'left'): 2,\n",
       "          ('with', 'money'): 2,\n",
       "          ('with', 'mother'): 2,\n",
       "          ('with', 'own'): 2,\n",
       "          ('with', 'son'): 2,\n",
       "          ('with', 'teeth'): 2,\n",
       "          ('with', 'two'): 2,\n",
       "          ('with', 'young'): 2})"
      ]
     },
     "execution_count": 167,
     "metadata": {},
     "output_type": "execute_result"
    }
   ],
   "source": [
    "text._word_context_index.common_contexts(['cat', 'dog'])"
   ]
  },
  {
   "cell_type": "code",
   "execution_count": null,
   "metadata": {
    "collapsed": true
   },
   "outputs": [],
   "source": [
    "len(text._word_context_index.common_contexts(['brown', 'red']))"
   ]
  },
  {
   "cell_type": "code",
   "execution_count": null,
   "metadata": {
    "collapsed": true
   },
   "outputs": [],
   "source": []
  }
 ],
 "metadata": {
  "kernelspec": {
   "display_name": "Python 3",
   "language": "python",
   "name": "python3"
  },
  "language_info": {
   "codemirror_mode": {
    "name": "ipython",
    "version": 3
   },
   "file_extension": ".py",
   "mimetype": "text/x-python",
   "name": "python",
   "nbconvert_exporter": "python",
   "pygments_lexer": "ipython3",
   "version": "3.6.2"
  }
 },
 "nbformat": 4,
 "nbformat_minor": 2
}
